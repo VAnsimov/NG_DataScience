{
 "cells": [
  {
   "cell_type": "markdown",
   "source": [
    "### Задание 3. Работа с пропусками\n",
    "\n",
    "Рассчитать количество выбросов для всех выбранных столбцов. Принять и обосновать решение о методе работы с пропусками по каждому столбцу, сформировать датафрейм, в котором пропуски будут отсутствовать.\n"
   ],
   "metadata": {
    "collapsed": false
   }
  },
  {
   "cell_type": "code",
   "execution_count": 1,
   "outputs": [],
   "source": [
    "import pandas\n",
    "from HorsesService import HorsesService\n",
    "import numpy"
   ],
   "metadata": {
    "collapsed": false,
    "pycharm": {
     "name": "#%%\n"
    }
   }
  },
  {
   "cell_type": "code",
   "execution_count": 2,
   "outputs": [],
   "source": [
    "horsesService = HorsesService()\n",
    "horse_data_frame = horsesService.fetch_processed_hourse_data_frame()"
   ],
   "metadata": {
    "collapsed": false,
    "pycharm": {
     "name": "#%%\n"
    }
   }
  },
  {
   "cell_type": "code",
   "execution_count": 3,
   "outputs": [],
   "source": [
    "def get_horse_data(full_horse_data_frame: pandas.DataFrame) -> pandas.DataFrame:\n",
    "    table = full_horse_data_frame[[\n",
    "        'rectal_temperature',\n",
    "        'pulse',\n",
    "        'respiratory_rate',\n",
    "        'temperature_of_extremities',\n",
    "        'mucous_membranes',\n",
    "        'outcome',\n",
    "        'packed_cell_volume',\n",
    "        'nasogastric_reflux'\n",
    "    ]]\n",
    "    table_copy = table.copy()\n",
    "    keys = ['mucous_membranes', 'outcome', 'nasogastric_reflux', 'nasogastric_reflux']\n",
    "    table_copy[keys] = table[keys].replace('nan', numpy.nan)\n",
    "    return table_copy\n",
    "\n",
    "horse_data = get_horse_data(\n",
    "    full_horse_data_frame=horse_data_frame\n",
    ")"
   ],
   "metadata": {
    "collapsed": false,
    "pycharm": {
     "name": "#%%\n"
    }
   }
  },
  {
   "cell_type": "markdown",
   "source": [
    "Убираем все данные с 4 и более пропусками"
   ],
   "metadata": {
    "collapsed": false,
    "pycharm": {
     "name": "#%% md\n"
    }
   }
  },
  {
   "cell_type": "code",
   "execution_count": 4,
   "outputs": [
    {
     "data": {
      "text/plain": "     rectal_temperature  pulse  respiratory_rate  temperature_of_extremities  \\\n0                  38.5   66.0              28.0                         3.0   \n1                  39.2   88.0              20.0                         NaN   \n2                  38.3   40.0              24.0                         1.0   \n3                  39.1  164.0              84.0                         4.0   \n4                  37.3  104.0              35.0                         NaN   \n..                  ...    ...               ...                         ...   \n295                 NaN  120.0              70.0                         4.0   \n296                37.2   72.0              24.0                         3.0   \n297                37.5   72.0              30.0                         4.0   \n298                36.5  100.0              24.0                         3.0   \n299                37.2   40.0              20.0                         NaN   \n\n    mucous_membranes outcome  packed_cell_volume nasogastric_reflux  \n0                NaN       2                45.0                NaN  \n1                  4       3                50.0                NaN  \n2                  3       1                33.0                NaN  \n3                  6       2                48.0                  2  \n4                  6       2                74.0                NaN  \n..               ...     ...                 ...                ...  \n295                4       3                55.0                NaN  \n296                4       3                44.0                  1  \n297                4       2                60.0                  1  \n298                3       1                50.0                  1  \n299              NaN       3                36.0                NaN  \n\n[279 rows x 8 columns]",
      "text/html": "<div>\n<style scoped>\n    .dataframe tbody tr th:only-of-type {\n        vertical-align: middle;\n    }\n\n    .dataframe tbody tr th {\n        vertical-align: top;\n    }\n\n    .dataframe thead th {\n        text-align: right;\n    }\n</style>\n<table border=\"1\" class=\"dataframe\">\n  <thead>\n    <tr style=\"text-align: right;\">\n      <th></th>\n      <th>rectal_temperature</th>\n      <th>pulse</th>\n      <th>respiratory_rate</th>\n      <th>temperature_of_extremities</th>\n      <th>mucous_membranes</th>\n      <th>outcome</th>\n      <th>packed_cell_volume</th>\n      <th>nasogastric_reflux</th>\n    </tr>\n  </thead>\n  <tbody>\n    <tr>\n      <th>0</th>\n      <td>38.5</td>\n      <td>66.0</td>\n      <td>28.0</td>\n      <td>3.0</td>\n      <td>NaN</td>\n      <td>2</td>\n      <td>45.0</td>\n      <td>NaN</td>\n    </tr>\n    <tr>\n      <th>1</th>\n      <td>39.2</td>\n      <td>88.0</td>\n      <td>20.0</td>\n      <td>NaN</td>\n      <td>4</td>\n      <td>3</td>\n      <td>50.0</td>\n      <td>NaN</td>\n    </tr>\n    <tr>\n      <th>2</th>\n      <td>38.3</td>\n      <td>40.0</td>\n      <td>24.0</td>\n      <td>1.0</td>\n      <td>3</td>\n      <td>1</td>\n      <td>33.0</td>\n      <td>NaN</td>\n    </tr>\n    <tr>\n      <th>3</th>\n      <td>39.1</td>\n      <td>164.0</td>\n      <td>84.0</td>\n      <td>4.0</td>\n      <td>6</td>\n      <td>2</td>\n      <td>48.0</td>\n      <td>2</td>\n    </tr>\n    <tr>\n      <th>4</th>\n      <td>37.3</td>\n      <td>104.0</td>\n      <td>35.0</td>\n      <td>NaN</td>\n      <td>6</td>\n      <td>2</td>\n      <td>74.0</td>\n      <td>NaN</td>\n    </tr>\n    <tr>\n      <th>...</th>\n      <td>...</td>\n      <td>...</td>\n      <td>...</td>\n      <td>...</td>\n      <td>...</td>\n      <td>...</td>\n      <td>...</td>\n      <td>...</td>\n    </tr>\n    <tr>\n      <th>295</th>\n      <td>NaN</td>\n      <td>120.0</td>\n      <td>70.0</td>\n      <td>4.0</td>\n      <td>4</td>\n      <td>3</td>\n      <td>55.0</td>\n      <td>NaN</td>\n    </tr>\n    <tr>\n      <th>296</th>\n      <td>37.2</td>\n      <td>72.0</td>\n      <td>24.0</td>\n      <td>3.0</td>\n      <td>4</td>\n      <td>3</td>\n      <td>44.0</td>\n      <td>1</td>\n    </tr>\n    <tr>\n      <th>297</th>\n      <td>37.5</td>\n      <td>72.0</td>\n      <td>30.0</td>\n      <td>4.0</td>\n      <td>4</td>\n      <td>2</td>\n      <td>60.0</td>\n      <td>1</td>\n    </tr>\n    <tr>\n      <th>298</th>\n      <td>36.5</td>\n      <td>100.0</td>\n      <td>24.0</td>\n      <td>3.0</td>\n      <td>3</td>\n      <td>1</td>\n      <td>50.0</td>\n      <td>1</td>\n    </tr>\n    <tr>\n      <th>299</th>\n      <td>37.2</td>\n      <td>40.0</td>\n      <td>20.0</td>\n      <td>NaN</td>\n      <td>NaN</td>\n      <td>3</td>\n      <td>36.0</td>\n      <td>NaN</td>\n    </tr>\n  </tbody>\n</table>\n<p>279 rows × 8 columns</p>\n</div>"
     },
     "execution_count": 4,
     "metadata": {},
     "output_type": "execute_result"
    }
   ],
   "source": [
    "horse_data.dropna(\n",
    "    thresh=len(horse_data.columns) - 3\n",
    ")\n"
   ],
   "metadata": {
    "collapsed": false,
    "pycharm": {
     "name": "#%%\n"
    }
   }
  },
  {
   "cell_type": "markdown",
   "source": [
    "Заполняем пропуски медианой"
   ],
   "metadata": {
    "collapsed": false
   }
  },
  {
   "cell_type": "code",
   "execution_count": 5,
   "outputs": [
    {
     "data": {
      "text/plain": "     rectal_temperature  pulse  respiratory_rate  temperature_of_extremities  \\\n0                  38.5   66.0              28.0                         3.0   \n1                  39.2   88.0              20.0                         4.0   \n2                  38.3   40.0              24.0                         1.0   \n3                  39.1  164.0              84.0                         4.0   \n4                  37.3  104.0              35.0                         4.0   \n..                  ...    ...               ...                         ...   \n295                38.2  120.0              70.0                         4.0   \n296                37.2   72.0              24.0                         3.0   \n297                37.5   72.0              30.0                         4.0   \n298                36.5  100.0              24.0                         3.0   \n299                37.2   40.0              20.0                         4.0   \n\n    mucous_membranes outcome  packed_cell_volume nasogastric_reflux  \n0                3.0       2                45.0                1.0  \n1                  4       3                50.0                1.0  \n2                  3       1                33.0                1.0  \n3                  6       2                48.0                  2  \n4                  6       2                74.0                1.0  \n..               ...     ...                 ...                ...  \n295                4       3                55.0                1.0  \n296                4       3                44.0                  1  \n297                4       2                60.0                  1  \n298                3       1                50.0                  1  \n299              3.0       3                36.0                1.0  \n\n[300 rows x 8 columns]",
      "text/html": "<div>\n<style scoped>\n    .dataframe tbody tr th:only-of-type {\n        vertical-align: middle;\n    }\n\n    .dataframe tbody tr th {\n        vertical-align: top;\n    }\n\n    .dataframe thead th {\n        text-align: right;\n    }\n</style>\n<table border=\"1\" class=\"dataframe\">\n  <thead>\n    <tr style=\"text-align: right;\">\n      <th></th>\n      <th>rectal_temperature</th>\n      <th>pulse</th>\n      <th>respiratory_rate</th>\n      <th>temperature_of_extremities</th>\n      <th>mucous_membranes</th>\n      <th>outcome</th>\n      <th>packed_cell_volume</th>\n      <th>nasogastric_reflux</th>\n    </tr>\n  </thead>\n  <tbody>\n    <tr>\n      <th>0</th>\n      <td>38.5</td>\n      <td>66.0</td>\n      <td>28.0</td>\n      <td>3.0</td>\n      <td>3.0</td>\n      <td>2</td>\n      <td>45.0</td>\n      <td>1.0</td>\n    </tr>\n    <tr>\n      <th>1</th>\n      <td>39.2</td>\n      <td>88.0</td>\n      <td>20.0</td>\n      <td>4.0</td>\n      <td>4</td>\n      <td>3</td>\n      <td>50.0</td>\n      <td>1.0</td>\n    </tr>\n    <tr>\n      <th>2</th>\n      <td>38.3</td>\n      <td>40.0</td>\n      <td>24.0</td>\n      <td>1.0</td>\n      <td>3</td>\n      <td>1</td>\n      <td>33.0</td>\n      <td>1.0</td>\n    </tr>\n    <tr>\n      <th>3</th>\n      <td>39.1</td>\n      <td>164.0</td>\n      <td>84.0</td>\n      <td>4.0</td>\n      <td>6</td>\n      <td>2</td>\n      <td>48.0</td>\n      <td>2</td>\n    </tr>\n    <tr>\n      <th>4</th>\n      <td>37.3</td>\n      <td>104.0</td>\n      <td>35.0</td>\n      <td>4.0</td>\n      <td>6</td>\n      <td>2</td>\n      <td>74.0</td>\n      <td>1.0</td>\n    </tr>\n    <tr>\n      <th>...</th>\n      <td>...</td>\n      <td>...</td>\n      <td>...</td>\n      <td>...</td>\n      <td>...</td>\n      <td>...</td>\n      <td>...</td>\n      <td>...</td>\n    </tr>\n    <tr>\n      <th>295</th>\n      <td>38.2</td>\n      <td>120.0</td>\n      <td>70.0</td>\n      <td>4.0</td>\n      <td>4</td>\n      <td>3</td>\n      <td>55.0</td>\n      <td>1.0</td>\n    </tr>\n    <tr>\n      <th>296</th>\n      <td>37.2</td>\n      <td>72.0</td>\n      <td>24.0</td>\n      <td>3.0</td>\n      <td>4</td>\n      <td>3</td>\n      <td>44.0</td>\n      <td>1</td>\n    </tr>\n    <tr>\n      <th>297</th>\n      <td>37.5</td>\n      <td>72.0</td>\n      <td>30.0</td>\n      <td>4.0</td>\n      <td>4</td>\n      <td>2</td>\n      <td>60.0</td>\n      <td>1</td>\n    </tr>\n    <tr>\n      <th>298</th>\n      <td>36.5</td>\n      <td>100.0</td>\n      <td>24.0</td>\n      <td>3.0</td>\n      <td>3</td>\n      <td>1</td>\n      <td>50.0</td>\n      <td>1</td>\n    </tr>\n    <tr>\n      <th>299</th>\n      <td>37.2</td>\n      <td>40.0</td>\n      <td>20.0</td>\n      <td>4.0</td>\n      <td>3.0</td>\n      <td>3</td>\n      <td>36.0</td>\n      <td>1.0</td>\n    </tr>\n  </tbody>\n</table>\n<p>300 rows × 8 columns</p>\n</div>"
     },
     "execution_count": 5,
     "metadata": {},
     "output_type": "execute_result"
    }
   ],
   "source": [
    "rectal_temperature_median = horse_data['rectal_temperature'].median()\n",
    "horse_data['rectal_temperature'] = horse_data['rectal_temperature'].fillna(rectal_temperature_median)\n",
    "\n",
    "def fill_median(\n",
    "        horse_data: pandas.DataFrame,\n",
    "        columns: [str],\n",
    "        is_round: bool = False\n",
    ") -> pandas.DataFrame:\n",
    "    for column_key in columns:\n",
    "        column_median = None\n",
    "        try:\n",
    "            quantile_1 = horse_data[column_key].quantile(.15)\n",
    "            quantile_3 = horse_data[column_key].quantile(.85)\n",
    "            between_table = horse_data[horse_data[column_key].between(quantile_1, quantile_3)]\n",
    "            outliers_table = pandas.concat([horse_data, between_table]).drop_duplicates(keep=False)\n",
    "            column_median = outliers_table[column_key].median()\n",
    "        except:\n",
    "            column_median = horse_data[column_key].median()\n",
    "\n",
    "        if is_round:\n",
    "            column_median = column_median.round()\n",
    "\n",
    "        horse_data[column_key] = horse_data[column_key].fillna(column_median)\n",
    "\n",
    "fill_median(\n",
    "    horse_data=horse_data,\n",
    "    columns=[\n",
    "        'rectal_temperature',\n",
    "        'pulse',\n",
    "        'respiratory_rate',\n",
    "        'packed_cell_volume'\n",
    "    ]\n",
    ")\n",
    "\n",
    "fill_median(\n",
    "    horse_data=horse_data,\n",
    "    columns=[\n",
    "        'temperature_of_extremities',\n",
    "        'outcome',\n",
    "        'mucous_membranes',\n",
    "        'nasogastric_reflux'\n",
    "    ],\n",
    "    is_round=True\n",
    ")\n",
    "horse_data"
   ],
   "metadata": {
    "collapsed": false,
    "pycharm": {
     "name": "#%%\n"
    }
   }
  }
 ],
 "metadata": {
  "kernelspec": {
   "display_name": "Python 3",
   "language": "python",
   "name": "python3"
  },
  "language_info": {
   "codemirror_mode": {
    "name": "ipython",
    "version": 3
   },
   "file_extension": ".py",
   "mimetype": "text/x-python",
   "name": "python",
   "nbconvert_exporter": "python",
   "pygments_lexer": "ipython3",
   "version": "3.7.7"
  }
 },
 "nbformat": 4,
 "nbformat_minor": 2
}