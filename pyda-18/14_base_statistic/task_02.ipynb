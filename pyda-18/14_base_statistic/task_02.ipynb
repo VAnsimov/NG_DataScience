{
 "cells": [
  {
   "cell_type": "markdown",
   "metadata": {},
   "source": [
    "### Задание 2. Работа с выбросами\n",
    "\n",
    "В выбранных числовых столбцах найти выбросы, выдвинуть гипотезы об их причинах и проинтерпретировать результаты. Принять и обосновать решение о дальнейшей работе с ними."
   ]
  },
  {
   "cell_type": "code",
   "execution_count": 1,
   "metadata": {
    "collapsed": false,
    "jupyter": {
     "outputs_hidden": false
    },
    "pycharm": {
     "name": "#%%\n"
    }
   },
   "outputs": [],
   "source": [
    "import pandas\n",
    "from HorsesService import HorsesService"
   ]
  },
  {
   "cell_type": "code",
   "execution_count": 2,
   "metadata": {
    "collapsed": false,
    "jupyter": {
     "outputs_hidden": false
    },
    "pycharm": {
     "name": "#%%\n"
    }
   },
   "outputs": [],
   "source": [
    "horsesService = HorsesService()\n",
    "horse_data = horsesService.fetch_processed_hourse_data_frame()"
   ]
  },
  {
   "cell_type": "code",
   "execution_count": 3,
   "metadata": {
    "collapsed": false,
    "jupyter": {
     "outputs_hidden": false
    },
    "pycharm": {
     "name": "#%%\n"
    }
   },
   "outputs": [],
   "source": [
    "def get_outliers_table(\n",
    "        table: pandas.DataFrame,\n",
    "        column: str\n",
    ") -> pandas.DataFrame:\n",
    "    quantile_1 = table[column].quantile(.15)\n",
    "    quantile_3 = table[column].quantile(.85)\n",
    "    print(quantile_1, quantile_3)\n",
    "    between_table = table[table[column].between(quantile_1, quantile_3)]\n",
    "    outliers_table = pandas.concat([table, between_table]).drop_duplicates(keep=False)\n",
    "    return outliers_table"
   ]
  },
  {
   "cell_type": "markdown",
   "metadata": {
    "pycharm": {
     "name": "#%% md\n"
    }
   },
   "source": [
    "##### Выбросы - rectal_temperature"
   ]
  },
  {
   "cell_type": "code",
   "execution_count": 4,
   "metadata": {
    "collapsed": false,
    "jupyter": {
     "outputs_hidden": false
    },
    "pycharm": {
     "name": "#%%\n"
    }
   },
   "outputs": [
    {
     "name": "stdout",
     "output_type": "stream",
     "text": [
      "37.5 38.8\n"
     ]
    },
    {
     "data": {
      "text/plain": "     rectal_temperature             outcome\n44                 35.4  died or euthanized\n141                36.0  died or euthanized\n238                36.1  died or euthanized\n80                 36.4  died or euthanized\n118                36.5               lived\n..                  ...                 ...\n20                 39.9               lived\n281                40.0  died or euthanized\n91                 40.3  died or euthanized\n54                 40.3  died or euthanized\n259                40.8  died or euthanized\n\n[63 rows x 2 columns]",
      "text/html": "<div>\n<style scoped>\n    .dataframe tbody tr th:only-of-type {\n        vertical-align: middle;\n    }\n\n    .dataframe tbody tr th {\n        vertical-align: top;\n    }\n\n    .dataframe thead th {\n        text-align: right;\n    }\n</style>\n<table border=\"1\" class=\"dataframe\">\n  <thead>\n    <tr style=\"text-align: right;\">\n      <th></th>\n      <th>rectal_temperature</th>\n      <th>outcome</th>\n    </tr>\n  </thead>\n  <tbody>\n    <tr>\n      <th>44</th>\n      <td>35.4</td>\n      <td>died or euthanized</td>\n    </tr>\n    <tr>\n      <th>141</th>\n      <td>36.0</td>\n      <td>died or euthanized</td>\n    </tr>\n    <tr>\n      <th>238</th>\n      <td>36.1</td>\n      <td>died or euthanized</td>\n    </tr>\n    <tr>\n      <th>80</th>\n      <td>36.4</td>\n      <td>died or euthanized</td>\n    </tr>\n    <tr>\n      <th>118</th>\n      <td>36.5</td>\n      <td>lived</td>\n    </tr>\n    <tr>\n      <th>...</th>\n      <td>...</td>\n      <td>...</td>\n    </tr>\n    <tr>\n      <th>20</th>\n      <td>39.9</td>\n      <td>lived</td>\n    </tr>\n    <tr>\n      <th>281</th>\n      <td>40.0</td>\n      <td>died or euthanized</td>\n    </tr>\n    <tr>\n      <th>91</th>\n      <td>40.3</td>\n      <td>died or euthanized</td>\n    </tr>\n    <tr>\n      <th>54</th>\n      <td>40.3</td>\n      <td>died or euthanized</td>\n    </tr>\n    <tr>\n      <th>259</th>\n      <td>40.8</td>\n      <td>died or euthanized</td>\n    </tr>\n  </tbody>\n</table>\n<p>63 rows × 2 columns</p>\n</div>"
     },
     "execution_count": 4,
     "metadata": {},
     "output_type": "execute_result"
    }
   ],
   "source": [
    "def get_small_table(hourse_table: pandas.DataFrame) -> pandas.DataFrame:\n",
    "    table = hourse_table[['rectal_temperature', 'outcome']].sort_values('rectal_temperature')\n",
    "    table['outcome'] = table['outcome'].apply(lambda row: 'lived' if row == '1' else 'died or euthanized')\n",
    "    return table\n",
    "\n",
    "rectal_temperature_table = get_small_table(\n",
    "    hourse_table=get_outliers_table(\n",
    "        table=horse_data,\n",
    "        column='rectal_temperature'\n",
    "    )\n",
    ").dropna()\n",
    "rectal_temperature_table"
   ]
  },
  {
   "cell_type": "markdown",
   "metadata": {},
   "source": [
    "Можно проследить связь этих данных с другими данными. При высоких и низких температурах повышенная смертность.  Предпологаю что ошибок в этих данных нет."
   ]
  },
  {
   "cell_type": "markdown",
   "metadata": {
    "pycharm": {
     "name": "#%% md\n"
    }
   },
   "source": [
    "##### Выбросы - Pulse"
   ]
  },
  {
   "cell_type": "code",
   "execution_count": 5,
   "metadata": {
    "collapsed": false,
    "jupyter": {
     "outputs_hidden": false
    },
    "pycharm": {
     "name": "#%%\n"
    }
   },
   "outputs": [
    {
     "name": "stdout",
     "output_type": "stream",
     "text": [
      "44.0 100.0\n"
     ]
    },
    {
     "data": {
      "text/plain": "232     30.0\n130     30.0\n276     36.0\n242     36.0\n203     36.0\n       ...  \n41     150.0\n275    150.0\n55     160.0\n3      164.0\n255    184.0\nName: pulse, Length: 74, dtype: float64"
     },
     "execution_count": 5,
     "metadata": {},
     "output_type": "execute_result"
    }
   ],
   "source": [
    "pulse_table = get_outliers_table(\n",
    "    table=horse_data,\n",
    "    column='pulse'\n",
    ")\n",
    "\n",
    "pulse_table['pulse'].sort_values().dropna()\n"
   ]
  },
  {
   "cell_type": "markdown",
   "metadata": {},
   "source": [
    "Не могу сказать, пульс выше 100 это аномальное отклонение или нет. Учитывая что данных выброса много (74 из 300), предполагаю что эти данные в большинстве своем релевантны."
   ]
  },
  {
   "cell_type": "markdown",
   "metadata": {},
   "source": [
    "##### Выбросы - respiratory rate"
   ]
  },
  {
   "cell_type": "code",
   "execution_count": 6,
   "metadata": {
    "collapsed": false,
    "jupyter": {
     "outputs_hidden": false
    },
    "pycharm": {
     "name": "#%%\n"
    }
   },
   "outputs": [
    {
     "name": "stdout",
     "output_type": "stream",
     "text": [
      "16.0 42.0\n"
     ]
    },
    {
     "data": {
      "text/plain": "190     8.0\n203     9.0\n140     9.0\n162    10.0\n89     10.0\n       ... \n244    88.0\n186    90.0\n269    90.0\n106    96.0\n39     96.0\nName: respiratory_rate, Length: 67, dtype: float64"
     },
     "execution_count": 6,
     "metadata": {},
     "output_type": "execute_result"
    }
   ],
   "source": [
    "get_outliers_table(\n",
    "    table=horse_data,\n",
    "    column='respiratory_rate'\n",
    ")['respiratory_rate'].sort_values().dropna()"
   ]
  },
  {
   "cell_type": "markdown",
   "source": [
    "Не могу сказать, частота дыхания выше 42 это аномальное отклонение или нет. Чтобы принимать решение оставлять эту выборку или нет, надо глубже погрузиться в медицинский показатели."
   ],
   "metadata": {
    "collapsed": false
   }
  },
  {
   "cell_type": "markdown",
   "metadata": {},
   "source": [
    "##### Выбросы - packed cell volume"
   ]
  },
  {
   "cell_type": "code",
   "execution_count": 7,
   "metadata": {
    "collapsed": false,
    "jupyter": {
     "outputs_hidden": false
    },
    "pycharm": {
     "name": "#%%\n"
    }
   },
   "outputs": [
    {
     "name": "stdout",
     "output_type": "stream",
     "text": [
      "36.0 57.0\n"
     ]
    },
    {
     "data": {
      "text/plain": "190    23.0\n56     24.0\n65     26.0\n287    28.0\n189    30.0\n       ... \n35     73.0\n49     73.0\n4      74.0\n144    75.0\n151    75.0\nName: packed_cell_volume, Length: 73, dtype: float64"
     },
     "execution_count": 7,
     "metadata": {},
     "output_type": "execute_result"
    }
   ],
   "source": [
    "get_outliers_table(\n",
    "    table=horse_data,\n",
    "    column='packed_cell_volume'\n",
    ")['packed_cell_volume'].sort_values().dropna()"
   ]
  },
  {
   "cell_type": "markdown",
   "source": [
    "Аномальных отклонений не увидел."
   ],
   "metadata": {
    "collapsed": false
   }
  },
  {
   "cell_type": "markdown",
   "metadata": {},
   "source": [
    "##### Выбросы - total protein"
   ]
  },
  {
   "cell_type": "code",
   "execution_count": 8,
   "metadata": {
    "collapsed": false,
    "jupyter": {
     "outputs_hidden": false
    },
    "pycharm": {
     "name": "#%%\n"
    }
   },
   "outputs": [
    {
     "name": "stdout",
     "output_type": "stream",
     "text": [
      "6.2 65.0\n"
     ]
    },
    {
     "data": {
      "text/plain": "255     3.3\n210     4.0\n142     4.5\n84      4.5\n247     4.6\n       ... \n14     81.0\n63     82.0\n1      85.0\n90     86.0\n208    89.0\nName: total_protein, Length: 77, dtype: float64"
     },
     "execution_count": 8,
     "metadata": {},
     "output_type": "execute_result"
    }
   ],
   "source": [
    "get_outliers_table(\n",
    "    table=horse_data,\n",
    "    column='total_protein'\n",
    ")['total_protein'].sort_values().dropna()"
   ]
  },
  {
   "cell_type": "markdown",
   "source": [
    "Вся верхняя грань сильно выбивается (> 60), когда норма 6-7.5, предполагаю что данные занесли в других показателях,  не в gms/dL а в g/l. Проблему решит все показатели больше 50 разделить на 10.\n"
   ],
   "metadata": {
    "collapsed": false
   }
  },
  {
   "cell_type": "markdown",
   "source": [
    "##### Выбросы - capillary refill time"
   ],
   "metadata": {
    "collapsed": false
   }
  },
  {
   "cell_type": "code",
   "execution_count": 9,
   "metadata": {},
   "outputs": [
    {
     "name": "stdout",
     "output_type": "stream",
     "text": [
      "1.0 2.0\n"
     ]
    },
    {
     "data": {
      "text/plain": "78    3.0\n85    3.0\nName: capillary_refill_time, dtype: float64"
     },
     "execution_count": 9,
     "metadata": {},
     "output_type": "execute_result"
    }
   ],
   "source": [
    "get_outliers_table(\n",
    "    table=horse_data,\n",
    "    column='capillary_refill_time'\n",
    ")['capillary_refill_time'].sort_values().dropna()"
   ]
  },
  {
   "cell_type": "markdown",
   "source": [
    "Возможные показатели 1 или 2, это не релевантные данные"
   ],
   "metadata": {
    "collapsed": false,
    "pycharm": {
     "name": "#%% md\n"
    }
   }
  },
  {
   "cell_type": "markdown",
   "source": [
    "##### Выбросы - age"
   ],
   "metadata": {
    "collapsed": false
   }
  },
  {
   "cell_type": "code",
   "execution_count": 10,
   "outputs": [
    {
     "name": "stdout",
     "output_type": "stream",
     "text": [
      "1.0 1.0\n"
     ]
    },
    {
     "data": {
      "text/plain": "3      9\n262    9\n255    9\n252    9\n244    9\n229    9\n227    9\n212    9\n191    9\n135    9\n109    9\n103    9\n82     9\n75     9\n74     9\n55     9\n41     9\n39     9\n23     9\n16     9\n13     9\n9      9\n275    9\n287    9\nName: age, dtype: int64"
     },
     "execution_count": 10,
     "metadata": {},
     "output_type": "execute_result"
    }
   ],
   "source": [
    "get_outliers_table(\n",
    "    table=horse_data,\n",
    "    column='age'\n",
    ")['age'].sort_values().dropna()"
   ],
   "metadata": {
    "collapsed": false,
    "pycharm": {
     "name": "#%%\n"
    }
   }
  },
  {
   "cell_type": "markdown",
   "source": [
    "Возможные показатели 1 или 2, это не релевантные данные"
   ],
   "metadata": {
    "collapsed": false
   }
  },
  {
   "cell_type": "markdown",
   "source": [
    "##### Выбросы - peripheral pulse"
   ],
   "metadata": {
    "collapsed": false
   }
  },
  {
   "cell_type": "code",
   "execution_count": 11,
   "outputs": [
    {
     "name": "stdout",
     "output_type": "stream",
     "text": [
      "1.0 3.0\n"
     ]
    },
    {
     "data": {
      "text/plain": "8      4.0\n43     4.0\n110    4.0\n174    4.0\n220    4.0\n222    4.0\n250    4.0\n282    4.0\nName: peripheral_pulse, dtype: float64"
     },
     "execution_count": 11,
     "metadata": {},
     "output_type": "execute_result"
    }
   ],
   "source": [
    "get_outliers_table(\n",
    "    table=horse_data,\n",
    "    column='peripheral_pulse'\n",
    ")['peripheral_pulse'].sort_values().dropna()"
   ],
   "metadata": {
    "collapsed": false,
    "pycharm": {
     "name": "#%%\n"
    }
   }
  },
  {
   "cell_type": "markdown",
   "source": [
    "Данные корректны"
   ],
   "metadata": {
    "collapsed": false
   }
  }
 ],
 "metadata": {
  "kernelspec": {
   "display_name": "Python 3",
   "language": "python",
   "name": "python3"
  },
  "language_info": {
   "codemirror_mode": {
    "name": "ipython",
    "version": 3
   },
   "file_extension": ".py",
   "mimetype": "text/x-python",
   "name": "python",
   "nbconvert_exporter": "python",
   "pygments_lexer": "ipython3",
   "version": "3.9.1"
  }
 },
 "nbformat": 4,
 "nbformat_minor": 4
}