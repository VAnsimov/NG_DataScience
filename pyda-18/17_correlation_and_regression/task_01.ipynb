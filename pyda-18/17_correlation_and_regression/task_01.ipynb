{
 "cells": [
  {
   "cell_type": "markdown",
   "metadata": {
    "collapsed": true,
    "pycharm": {
     "name": "#%% md\n"
    }
   },
   "source": [
    "Возьмите датасет [Mortality and Water Hardness](https://www.kaggle.com/ukveteran/mortality-and-water-hardness)\n",
    "\n",
    "В этом датасете содержатся данные по средней годовой смертности на 100000 населения и концентрации кальция в питьевой воде для 61 большого города в Англии и Уэльсе. Города дополнительно поделены на северные и южные\n",
    "\n",
    "Ответить на вопрос есть ли связь между жёсткостью воды и средней годовой смертностью?\n",
    " - Построить точечный график\n",
    " - Рассчитать коэффициенты корреляции Пирсона и Спирмена\n",
    " - Построить модель линейной регрессии\n",
    " - Рассчитать коэффициент детерминации\n",
    " - Вывести график остатков"
   ]
  },
  {
   "cell_type": "code",
   "execution_count": 1,
   "outputs": [],
   "source": [
    "import random\n",
    "import pandas\n",
    "import seaborn\n",
    "from matplotlib import  pyplot\n",
    "from sklearn.linear_model import LinearRegression\n",
    "from sklearn.model_selection import train_test_split"
   ],
   "metadata": {
    "collapsed": false,
    "pycharm": {
     "name": "#%%\n"
    }
   }
  },
  {
   "cell_type": "code",
   "execution_count": 2,
   "outputs": [],
   "source": [
    "def fetch_water_data_frame() -> pandas.DataFrame:\n",
    "    data_frame = pandas.read_csv('water.csv')\n",
    "    data_frame = data_frame.drop('Unnamed: 0', axis=1)\n",
    "    return data_frame\n",
    "\n",
    "water_data_frame = fetch_water_data_frame()"
   ],
   "metadata": {
    "collapsed": false,
    "pycharm": {
     "name": "#%%\n"
    }
   }
  },
  {
   "cell_type": "code",
   "source": [
    "water_data_frame.info()"
   ],
   "metadata": {
    "collapsed": false,
    "pycharm": {
     "name": "#%%\n"
    }
   },
   "execution_count": 3,
   "outputs": [
    {
     "name": "stdout",
     "output_type": "stream",
     "text": [
      "<class 'pandas.core.frame.DataFrame'>\n",
      "RangeIndex: 61 entries, 0 to 60\n",
      "Data columns (total 4 columns):\n",
      " #   Column     Non-Null Count  Dtype \n",
      "---  ------     --------------  ----- \n",
      " 0   location   61 non-null     object\n",
      " 1   town       61 non-null     object\n",
      " 2   mortality  61 non-null     int64 \n",
      " 3   hardness   61 non-null     int64 \n",
      "dtypes: int64(2), object(2)\n",
      "memory usage: 2.0+ KB\n"
     ]
    }
   ]
  },
  {
   "cell_type": "markdown",
   "source": [
    "### Построить точечный график"
   ],
   "metadata": {
    "collapsed": false,
    "pycharm": {
     "name": "#%% md\n"
    }
   }
  },
  {
   "cell_type": "code",
   "execution_count": 4,
   "outputs": [
    {
     "data": {
      "text/plain": "<Figure size 432x288 with 1 Axes>",
      "image/png": "[encoded data removed]"
     },
     "metadata": {
      "needs_background": "light"
     },
     "output_type": "display_data"
    }
   ],
   "source": [
    "def show_matrix_graph(water_data_frame: pandas.DataFrame):\n",
    "    water_data_frame.plot(kind='scatter',\n",
    "                          x='hardness',\n",
    "                          y='mortality')\n",
    "\n",
    "show_matrix_graph(water_data_frame)"
   ],
   "metadata": {
    "collapsed": false,
    "pycharm": {
     "name": "#%%\n"
    }
   }
  },
  {
   "cell_type": "markdown",
   "source": [
    "### Рассчитать коэффициенты корреляции Пирсона и Спирмена"
   ],
   "metadata": {
    "collapsed": false
   }
  },
  {
   "cell_type": "code",
   "execution_count": 5,
   "outputs": [
    {
     "data": {
      "text/plain": "<Figure size 720x216 with 4 Axes>",
      "image/png": "[encoded data removed]"
     },
     "metadata": {
      "needs_background": "light"
     },
     "output_type": "display_data"
    }
   ],
   "source": [
    "def show_heatmap_matrix_graph(water_data_frame: pandas.DataFrame):\n",
    "    _, (axes1, axes2) = pyplot.subplots(1, 2, figsize=(10, 3))\n",
    "    axes1.set_title('Pearson')\n",
    "    axes2.set_title('Spearman')\n",
    "\n",
    "    seaborn.heatmap(water_data_frame.corr(),\n",
    "                    ax=axes1,\n",
    "                    annot=True)\n",
    "    seaborn.heatmap(water_data_frame.corr('spearman'),\n",
    "                    ax=axes2,\n",
    "                    annot=True)\n",
    "\n",
    "show_heatmap_matrix_graph(water_data_frame)"
   ],
   "metadata": {
    "collapsed": false,
    "pycharm": {
     "name": "#%%\n"
    }
   }
  },
  {
   "cell_type": "markdown",
   "source": [
    "### Построить модель линейной регрессии\n"
   ],
   "metadata": {
    "collapsed": false,
    "pycharm": {
     "name": "#%% md\n"
    }
   }
  },
  {
   "cell_type": "code",
   "execution_count": 6,
   "outputs": [],
   "source": [
    "x_values_train, \\\n",
    "x_values_test, \\\n",
    "y_value_train, \\\n",
    "y_value_test = train_test_split(water_data_frame[['hardness']],\n",
    "                                water_data_frame['mortality'],\n",
    "                                test_size=0.3,\n",
    "                                random_state=404)\n",
    "\n",
    "linear_regression: LinearRegression = LinearRegression().fit(x_values_train,\n",
    "                                                             y_value_train)"
   ],
   "metadata": {
    "collapsed": false,
    "pycharm": {
     "name": "#%%\n"
    }
   }
  },
  {
   "cell_type": "code",
   "execution_count": 7,
   "outputs": [
    {
     "name": "stdout",
     "output_type": "stream",
     "text": [
      "\n",
      "Linear regression formula: a + b * x = y\n",
      "\n",
      "a = 1682.8749519263397\n",
      "b = -3.6406239395516145\n",
      "x = 46.4346799311231 (example value)\n",
      "\n",
      "a + b * x = 1513.823744543676\n",
      "\n",
      "\n",
      "'y' values on test values of 'x'\n",
      "\n",
      "[1628.26559283 1631.90621677 1293.32819039 1464.43751555 1628.26559283\n",
      " 1635.54684071 1424.39065222 1500.84375495 1522.68749859 1351.57817343\n",
      " 1664.67183223 1646.46871253 1631.90621677 1300.60943827 1653.74996041\n",
      " 1387.98441282 1398.90628464 1424.39065222 1238.7188313 ]\n",
      "\n"
     ]
    },
    {
     "data": {
      "text/plain": "[<matplotlib.lines.Line2D at 0x7ff7a8edd430>]"
     },
     "execution_count": 7,
     "metadata": {},
     "output_type": "execute_result"
    },
    {
     "data": {
      "text/plain": "<Figure size 432x288 with 1 Axes>",
      "image/png": "[encoded data removed]"
     },
     "metadata": {
      "needs_background": "light"
     },
     "output_type": "display_data"
    }
   ],
   "source": [
    "a = linear_regression.intercept_\n",
    "b = linear_regression.coef_[0]\n",
    "example_x = random.uniform(0, 150)\n",
    "y_predict = linear_regression.predict(x_values_test)\n",
    "print('''\n",
    "Linear regression formula: a + b * x = y\n",
    "\n",
    "a = {}\n",
    "b = {}\n",
    "x = {} (example value)\n",
    "\n",
    "a + b * x = {}\n",
    "\n",
    "\n",
    "'y' values on test values of 'x'\n",
    "\n",
    "{}\n",
    "'''.format(a, b, example_x, (a + b * example_x), y_predict))\n",
    "\n",
    "pyplot.scatter(x_values_test,\n",
    "                y_value_test)\n",
    "pyplot.plot(x_values_test,\n",
    "            linear_regression.predict(x_values_test),\n",
    "            c='r')"
   ],
   "metadata": {
    "collapsed": false,
    "pycharm": {
     "name": "#%%\n"
    }
   }
  },
  {
   "cell_type": "markdown",
   "source": [
    "### Рассчитать коэффициент детерминации"
   ],
   "metadata": {
    "collapsed": false
   }
  },
  {
   "cell_type": "code",
   "execution_count": 8,
   "outputs": [
    {
     "data": {
      "text/plain": "0.1469652639268434"
     },
     "execution_count": 8,
     "metadata": {},
     "output_type": "execute_result"
    }
   ],
   "source": [
    "linear_regression.score(x_values_test, y_value_test)"
   ],
   "metadata": {
    "collapsed": false,
    "pycharm": {
     "name": "#%%\n"
    }
   }
  },
  {
   "cell_type": "markdown",
   "source": [
    "### Вывести график остатков"
   ],
   "metadata": {
    "collapsed": false
   }
  },
  {
   "cell_type": "code",
   "execution_count": 9,
   "outputs": [
    {
     "data": {
      "text/plain": "<matplotlib.collections.PathCollection at 0x7ff7a9055af0>"
     },
     "execution_count": 9,
     "metadata": {},
     "output_type": "execute_result"
    },
    {
     "data": {
      "text/plain": "<Figure size 432x288 with 1 Axes>",
      "image/png": "[encoded data removed]"
     },
     "metadata": {
      "needs_background": "light"
     },
     "output_type": "display_data"
    }
   ],
   "source": [
    "pyplot.scatter(y_value_test - y_predict,\n",
    "               linear_regression.predict(x_values_test))"
   ],
   "metadata": {
    "collapsed": false,
    "pycharm": {
     "name": "#%%\n"
    }
   }
  },
  {
   "cell_type": "markdown",
   "source": [
    "Так как коэффициент детерминации 0.14 то можно сказать что данные не связаны."
   ],
   "metadata": {
    "collapsed": false,
    "pycharm": {
     "name": "#%% md\n"
    }
   }
  }
 ],
 "metadata": {
  "kernelspec": {
   "display_name": "Python 3",
   "language": "python",
   "name": "python3"
  },
  "language_info": {
   "codemirror_mode": {
    "name": "ipython",
    "version": 2
   },
   "file_extension": ".py",
   "mimetype": "text/x-python",
   "name": "python",
   "nbconvert_exporter": "python",
   "pygments_lexer": "ipython2",
   "version": "2.7.6"
  }
 },
 "nbformat": 4,
 "nbformat_minor": 0
}