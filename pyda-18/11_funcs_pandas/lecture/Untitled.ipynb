{
 "cells": [
  {
   "cell_type": "code",
   "execution_count": 1,
   "metadata": {},
   "outputs": [],
   "source": [
    "import pandas as pd\n",
    "import sqlite3"
   ]
  },
  {
   "cell_type": "code",
   "execution_count": 2,
   "metadata": {},
   "outputs": [
    {
     "data": {
      "text/html": [
       "<div>\n",
       "<style scoped>\n",
       "    .dataframe tbody tr th:only-of-type {\n",
       "        vertical-align: middle;\n",
       "    }\n",
       "\n",
       "    .dataframe tbody tr th {\n",
       "        vertical-align: top;\n",
       "    }\n",
       "\n",
       "    .dataframe thead th {\n",
       "        text-align: right;\n",
       "    }\n",
       "</style>\n",
       "<table border=\"1\" class=\"dataframe\">\n",
       "  <thead>\n",
       "    <tr style=\"text-align: right;\">\n",
       "      <th></th>\n",
       "      <th>keyword</th>\n",
       "      <th>shows</th>\n",
       "    </tr>\n",
       "  </thead>\n",
       "  <tbody>\n",
       "    <tr>\n",
       "      <th>0</th>\n",
       "      <td>вк</td>\n",
       "      <td>64292779</td>\n",
       "    </tr>\n",
       "    <tr>\n",
       "      <th>1</th>\n",
       "      <td>одноклассники</td>\n",
       "      <td>63810309</td>\n",
       "    </tr>\n",
       "    <tr>\n",
       "      <th>2</th>\n",
       "      <td>порно</td>\n",
       "      <td>41747114</td>\n",
       "    </tr>\n",
       "    <tr>\n",
       "      <th>3</th>\n",
       "      <td>ютуб</td>\n",
       "      <td>39995567</td>\n",
       "    </tr>\n",
       "    <tr>\n",
       "      <th>4</th>\n",
       "      <td>вконтакте</td>\n",
       "      <td>21014195</td>\n",
       "    </tr>\n",
       "  </tbody>\n",
       "</table>\n",
       "</div>"
      ],
      "text/plain": [
       "         keyword     shows\n",
       "0             вк  64292779\n",
       "1  одноклассники  63810309\n",
       "2          порно  41747114\n",
       "3           ютуб  39995567\n",
       "4      вконтакте  21014195"
      ]
     },
     "execution_count": 2,
     "metadata": {},
     "output_type": "execute_result"
    }
   ],
   "source": [
    "df = pd.read_csv('keywords.csv')\n",
    "df.head()"
   ]
  },
  {
   "cell_type": "code",
   "execution_count": 3,
   "metadata": {},
   "outputs": [],
   "source": [
    "# import pymysql\n",
    "# con = pymysql.connect(host='192.04.98.10', user='user', password='')\n",
    "\n",
    "con = sqlite3.connect('keywords.db')"
   ]
  },
  {
   "cell_type": "code",
   "execution_count": 5,
   "metadata": {},
   "outputs": [],
   "source": [
    "df.to_sql('keywords', con)"
   ]
  },
  {
   "cell_type": "code",
   "execution_count": 12,
   "metadata": {},
   "outputs": [],
   "source": [
    "con.close()"
   ]
  },
  {
   "cell_type": "code",
   "execution_count": 14,
   "metadata": {},
   "outputs": [
    {
     "data": {
      "text/html": [
       "<div>\n",
       "<style scoped>\n",
       "    .dataframe tbody tr th:only-of-type {\n",
       "        vertical-align: middle;\n",
       "    }\n",
       "\n",
       "    .dataframe tbody tr th {\n",
       "        vertical-align: top;\n",
       "    }\n",
       "\n",
       "    .dataframe thead th {\n",
       "        text-align: right;\n",
       "    }\n",
       "</style>\n",
       "<table border=\"1\" class=\"dataframe\">\n",
       "  <thead>\n",
       "    <tr style=\"text-align: right;\">\n",
       "      <th></th>\n",
       "      <th>index</th>\n",
       "      <th>keyword</th>\n",
       "      <th>shows</th>\n",
       "    </tr>\n",
       "  </thead>\n",
       "  <tbody>\n",
       "    <tr>\n",
       "      <th>0</th>\n",
       "      <td>0</td>\n",
       "      <td>вк</td>\n",
       "      <td>64292779</td>\n",
       "    </tr>\n",
       "    <tr>\n",
       "      <th>1</th>\n",
       "      <td>1</td>\n",
       "      <td>одноклассники</td>\n",
       "      <td>63810309</td>\n",
       "    </tr>\n",
       "    <tr>\n",
       "      <th>2</th>\n",
       "      <td>2</td>\n",
       "      <td>порно</td>\n",
       "      <td>41747114</td>\n",
       "    </tr>\n",
       "    <tr>\n",
       "      <th>3</th>\n",
       "      <td>3</td>\n",
       "      <td>ютуб</td>\n",
       "      <td>39995567</td>\n",
       "    </tr>\n",
       "    <tr>\n",
       "      <th>4</th>\n",
       "      <td>4</td>\n",
       "      <td>вконтакте</td>\n",
       "      <td>21014195</td>\n",
       "    </tr>\n",
       "  </tbody>\n",
       "</table>\n",
       "</div>"
      ],
      "text/plain": [
       "   index        keyword     shows\n",
       "0      0             вк  64292779\n",
       "1      1  одноклассники  63810309\n",
       "2      2          порно  41747114\n",
       "3      3           ютуб  39995567\n",
       "4      4      вконтакте  21014195"
      ]
     },
     "execution_count": 14,
     "metadata": {},
     "output_type": "execute_result"
    }
   ],
   "source": [
    "with sqlite3.connect('keywords.db') as con:\n",
    "    data = pd.read_sql('select * from keywords limit 5;', con)\n",
    "    \n",
    "data"
   ]
  },
  {
   "cell_type": "code",
   "execution_count": null,
   "metadata": {},
   "outputs": [],
   "source": []
  },
  {
   "cell_type": "code",
   "execution_count": null,
   "metadata": {},
   "outputs": [],
   "source": []
  },
  {
   "cell_type": "code",
   "execution_count": 26,
   "metadata": {},
   "outputs": [],
   "source": [
    "con = sqlite3.connect('keywords.db')"
   ]
  },
  {
   "cell_type": "code",
   "execution_count": 25,
   "metadata": {},
   "outputs": [
    {
     "data": {
      "text/html": [
       "<div>\n",
       "<style scoped>\n",
       "    .dataframe tbody tr th:only-of-type {\n",
       "        vertical-align: middle;\n",
       "    }\n",
       "\n",
       "    .dataframe tbody tr th {\n",
       "        vertical-align: top;\n",
       "    }\n",
       "\n",
       "    .dataframe thead th {\n",
       "        text-align: right;\n",
       "    }\n",
       "</style>\n",
       "<table border=\"1\" class=\"dataframe\">\n",
       "  <thead>\n",
       "    <tr style=\"text-align: right;\">\n",
       "      <th></th>\n",
       "      <th>index</th>\n",
       "      <th>keyword</th>\n",
       "      <th>shows</th>\n",
       "    </tr>\n",
       "  </thead>\n",
       "  <tbody>\n",
       "    <tr>\n",
       "      <th>0</th>\n",
       "      <td>4</td>\n",
       "      <td>вконтакте</td>\n",
       "      <td>21014195</td>\n",
       "    </tr>\n",
       "    <tr>\n",
       "      <th>1</th>\n",
       "      <td>530</td>\n",
       "      <td>моя страница вконтакте</td>\n",
       "      <td>5971451</td>\n",
       "    </tr>\n",
       "    <tr>\n",
       "      <th>2</th>\n",
       "      <td>1546</td>\n",
       "      <td>накрутка лайков вконтакте</td>\n",
       "      <td>128862</td>\n",
       "    </tr>\n",
       "    <tr>\n",
       "      <th>3</th>\n",
       "      <td>2972</td>\n",
       "      <td>vk com вконтакте</td>\n",
       "      <td>74990</td>\n",
       "    </tr>\n",
       "    <tr>\n",
       "      <th>4</th>\n",
       "      <td>3045</td>\n",
       "      <td>поиск людей вконтакте</td>\n",
       "      <td>96632</td>\n",
       "    </tr>\n",
       "  </tbody>\n",
       "</table>\n",
       "</div>"
      ],
      "text/plain": [
       "   index                    keyword     shows\n",
       "0      4                  вконтакте  21014195\n",
       "1    530     моя страница вконтакте   5971451\n",
       "2   1546  накрутка лайков вконтакте    128862\n",
       "3   2972           vk com вконтакте     74990\n",
       "4   3045      поиск людей вконтакте     96632"
      ]
     },
     "execution_count": 25,
     "metadata": {},
     "output_type": "execute_result"
    }
   ],
   "source": [
    "pd.read_sql('select * from keywords where keyword like \"%вконтакте\" limit 5;', con)"
   ]
  },
  {
   "cell_type": "code",
   "execution_count": 18,
   "metadata": {},
   "outputs": [],
   "source": [
    "con.close()"
   ]
  },
  {
   "cell_type": "code",
   "execution_count": null,
   "metadata": {},
   "outputs": [],
   "source": []
  },
  {
   "cell_type": "code",
   "execution_count": 27,
   "metadata": {},
   "outputs": [],
   "source": [
    "cur = con.cursor()"
   ]
  },
  {
   "cell_type": "code",
   "execution_count": 36,
   "metadata": {},
   "outputs": [
    {
     "data": {
      "text/plain": [
       "<sqlite3.Cursor at 0x119446810>"
      ]
     },
     "execution_count": 36,
     "metadata": {},
     "output_type": "execute_result"
    }
   ],
   "source": [
    "cur.execute('select * from keywords where keyword like \"%вконтакте\";')"
   ]
  },
  {
   "cell_type": "code",
   "execution_count": 37,
   "metadata": {},
   "outputs": [
    {
     "data": {
      "text/plain": [
       "[(4, 'вконтакте', 21014195),\n",
       " (530, 'моя страница вконтакте', 5971451),\n",
       " (1546, 'накрутка лайков вконтакте', 128862),\n",
       " (2972, 'vk com вконтакте', 74990),\n",
       " (3045, 'поиск людей вконтакте', 96632),\n",
       " (6296, 'самооборона горловки вконтакте', 39695),\n",
       " (6361, 'аст 54 вконтакте', 40183),\n",
       " (7600, 'накрутка подписчиков вконтакте', 35581),\n",
       " (9972, 'в вконтакте', 27754),\n",
       " (10632, 'программа для скачивания музыки вконтакте', 26100),\n",
       " (11861, 'дтп и чп санкт петербург вконтакте', 23948),\n",
       " (12430, 'порно вконтакте', 26355),\n",
       " (18354, 'скачать вконтакте', 22517),\n",
       " (22219, 'как удалить страницу в вконтакте', 14104),\n",
       " (23747, 'антимайдан вконтакте', 13519),\n",
       " (24291, 'ввк вконтакте', 13034),\n",
       " (26025, 'как узнать кто заходил на мою страницу вконтакте', 12497),\n",
       " (27418, 'апидог вконтакте', 11755),\n",
       " (29417, 'вквквк вконтакте', 11037),\n",
       " (32668, 'скачать музыку вконтакте', 11411),\n",
       " (36252, 'дом 2 вконтакте', 9483),\n",
       " (38881, 'скачать программу для скачивания музыки вконтакте', 8658),\n",
       " (46787, 'вход вконтакте', 190587),\n",
       " (47137, 'барнаул 22 вконтакте', 7242),\n",
       " (47456, 'дебальцево днр официальная группа вконтакте', 7141),\n",
       " (50340, 'скачать музыку из вконтакте', 7219),\n",
       " (52791, 'поиск вконтакте', 25311),\n",
       " (54610, 'домашнее порно вконтакте', 7232),\n",
       " (57479, 'http вконтакте', 6068),\n",
       " (66903, 'секс вконтакте', 6419),\n",
       " (67003, 'типичная рязань вконтакте', 5237),\n",
       " (67627, 'типичный чистополь вконтакте', 5273),\n",
       " (72994, 'мая страницы вконтакте', 4891),\n",
       " (77422, 'аноним 03 вконтакте', 4616),\n",
       " (81299, 'как взломать страницу вконтакте', 4561),\n",
       " (82919, 'сокольские сплетни вконтакте', 4314),\n",
       " (85692, 'типичный брянск вконтакте', 4157),\n",
       " (85840, 'скачать приложение вконтакте', 4701),\n",
       " (88035, 'североморск онлайн вконтакте', 4020),\n",
       " (90750, 'боевой участок вконтакте', 4067),\n",
       " (91287, 'новости тувы вконтакте', 4019),\n",
       " (92569, 'чп красноярск вконтакте', 3981),\n",
       " (96819, 'оренбург онлайн вконтакте', 3894),\n",
       " (97029, 'раскрутка групп в вконтакте', 3782),\n",
       " (98809, 'весь арзамас вконтакте', 3623),\n",
       " (99703, 'вк вконтакте', 4766)]"
      ]
     },
     "execution_count": 37,
     "metadata": {},
     "output_type": "execute_result"
    }
   ],
   "source": [
    "data = cur.fetchall()\n",
    "data"
   ]
  },
  {
   "cell_type": "code",
   "execution_count": 29,
   "metadata": {},
   "outputs": [
    {
     "data": {
      "text/plain": [
       "(4, 'вконтакте', 21014195)"
      ]
     },
     "execution_count": 29,
     "metadata": {},
     "output_type": "execute_result"
    }
   ],
   "source": [
    "cur.fetchone()"
   ]
  },
  {
   "cell_type": "code",
   "execution_count": 30,
   "metadata": {},
   "outputs": [
    {
     "data": {
      "text/plain": [
       "(530, 'моя страница вконтакте', 5971451)"
      ]
     },
     "execution_count": 30,
     "metadata": {},
     "output_type": "execute_result"
    }
   ],
   "source": [
    "line = cur.fetchone()\n",
    "line"
   ]
  },
  {
   "cell_type": "code",
   "execution_count": 35,
   "metadata": {},
   "outputs": [
    {
     "name": "stdout",
     "output_type": "stream",
     "text": [
      "вконтакте\n",
      "моя страница вконтакте\n",
      "накрутка лайков вконтакте\n",
      "vk com вконтакте\n",
      "поиск людей вконтакте\n",
      "самооборона горловки вконтакте\n",
      "аст 54 вконтакте\n"
     ]
    }
   ],
   "source": [
    "# for line in f:\n",
    "for i, line in enumerate(cur.execute('select * from keywords where keyword like \"%вконтакте\";')):\n",
    "    keyword = line[1]\n",
    "    print(keyword)\n",
    "    \n",
    "    if i > 5:\n",
    "        break"
   ]
  },
  {
   "cell_type": "code",
   "execution_count": 38,
   "metadata": {},
   "outputs": [],
   "source": [
    "from multiprocessing import Pool, current_process"
   ]
  },
  {
   "cell_type": "code",
   "execution_count": 39,
   "metadata": {},
   "outputs": [],
   "source": [
    "import time"
   ]
  },
  {
   "cell_type": "code",
   "execution_count": 41,
   "metadata": {},
   "outputs": [],
   "source": [
    "time.sleep(1)"
   ]
  },
  {
   "cell_type": "code",
   "execution_count": 42,
   "metadata": {},
   "outputs": [],
   "source": [
    "def process_step(step):\n",
    "    print('Начинаю шаг {}'.format(step))\n",
    "    time.sleep(1)\n",
    "    print('Закончил шаг {}'.format(step))"
   ]
  },
  {
   "cell_type": "code",
   "execution_count": 43,
   "metadata": {},
   "outputs": [
    {
     "name": "stdout",
     "output_type": "stream",
     "text": [
      "Начинаю шаг 0\n",
      "Закончил шаг 0\n",
      "Начинаю шаг 1\n",
      "Закончил шаг 1\n",
      "Начинаю шаг 2\n",
      "Закончил шаг 2\n",
      "Начинаю шаг 3\n",
      "Закончил шаг 3\n",
      "Начинаю шаг 4\n",
      "Закончил шаг 4\n",
      "Начинаю шаг 5\n",
      "Закончил шаг 5\n",
      "Начинаю шаг 6\n",
      "Закончил шаг 6\n",
      "Начинаю шаг 7\n",
      "Закончил шаг 7\n",
      "Начинаю шаг 8\n",
      "Закончил шаг 8\n",
      "Начинаю шаг 9\n",
      "Закончил шаг 9\n"
     ]
    }
   ],
   "source": [
    "for step in range(10):\n",
    "    process_step(step)"
   ]
  },
  {
   "cell_type": "code",
   "execution_count": 44,
   "metadata": {},
   "outputs": [
    {
     "name": "stdout",
     "output_type": "stream",
     "text": [
      "Начинаю шаг 1\n",
      "Начинаю шаг 0\n",
      "Начинаю шаг 3\n",
      "Начинаю шаг 2\n",
      "Начинаю шаг 6\n",
      "Начинаю шаг 4\n",
      "Начинаю шаг 5\n",
      "Начинаю шаг 8\n",
      "Начинаю шаг 9\n",
      "Начинаю шаг 7\n",
      "Закончил шаг 1\n",
      "Закончил шаг 3\n",
      "Закончил шаг 0\n",
      "Закончил шаг 2\n",
      "Закончил шаг 6\n",
      "Закончил шаг 5\n",
      "Закончил шаг 8\n",
      "Закончил шаг 9\n",
      "Закончил шаг 4\n",
      "Закончил шаг 7\n",
      "CPU times: user 28 ms, sys: 43.5 ms, total: 71.5 ms\n",
      "Wall time: 1.23 s\n"
     ]
    }
   ],
   "source": [
    "%%time\n",
    "\n",
    "with Pool(processes=10) as p:\n",
    "    p.map(process_step, range(10))"
   ]
  },
  {
   "cell_type": "code",
   "execution_count": null,
   "metadata": {},
   "outputs": [],
   "source": []
  },
  {
   "cell_type": "code",
   "execution_count": 45,
   "metadata": {},
   "outputs": [],
   "source": [
    "import time\n",
    "from nltk.stem.snowball import SnowballStemmer"
   ]
  },
  {
   "cell_type": "code",
   "execution_count": 46,
   "metadata": {},
   "outputs": [],
   "source": [
    "def process_line(line):\n",
    "    keyword, shows = line.strip().split(',')\n",
    "    return [stemmer.stem(word) for word in keyword.split(' ')]"
   ]
  },
  {
   "cell_type": "code",
   "execution_count": 47,
   "metadata": {},
   "outputs": [
    {
     "name": "stdout",
     "output_type": "stream",
     "text": [
      "CPU times: user 16.9 s, sys: 246 ms, total: 17.1 s\n",
      "Wall time: 20.2 s\n"
     ]
    },
    {
     "data": {
      "text/plain": [
       "[['keyword'],\n",
       " ['вк'],\n",
       " ['одноклассник'],\n",
       " ['порн'],\n",
       " ['ютуб'],\n",
       " ['вконтакт'],\n",
       " ['одноклассник', 'мо', 'страниц'],\n",
       " ['майл'],\n",
       " ['авит'],\n",
       " ['переводчик']]"
      ]
     },
     "execution_count": 47,
     "metadata": {},
     "output_type": "execute_result"
    }
   ],
   "source": [
    "%%time\n",
    "stemmer = SnowballStemmer(\"russian\")\n",
    "result = []\n",
    "\n",
    "with open('keywords.csv') as f:\n",
    "    result = [process_line(line) for line in f]\n",
    "        \n",
    "result[:10]"
   ]
  },
  {
   "cell_type": "code",
   "execution_count": 48,
   "metadata": {},
   "outputs": [
    {
     "name": "stdout",
     "output_type": "stream",
     "text": [
      "CPU times: user 348 ms, sys: 149 ms, total: 497 ms\n",
      "Wall time: 13.2 s\n"
     ]
    },
    {
     "data": {
      "text/plain": [
       "[['keyword'],\n",
       " ['вк'],\n",
       " ['одноклассник'],\n",
       " ['порн'],\n",
       " ['ютуб'],\n",
       " ['вконтакт'],\n",
       " ['одноклассник', 'мо', 'страниц'],\n",
       " ['майл'],\n",
       " ['авит'],\n",
       " ['переводчик']]"
      ]
     },
     "execution_count": 48,
     "metadata": {},
     "output_type": "execute_result"
    }
   ],
   "source": [
    "%%time\n",
    "f = open('keywords.csv')\n",
    "stemmer = SnowballStemmer(\"russian\")\n",
    "\n",
    "with Pool(5) as p:\n",
    "    result = p.map(process_line, f)\n",
    "    \n",
    "result[:10]"
   ]
  },
  {
   "cell_type": "markdown",
   "metadata": {},
   "source": [
    "# Сложные объединения\n",
    "Необходимо объединить таблицы left_table и right_table с учетом условий:\n",
    "- если числовое значение из right_table укладывается в интервал из left_table, то добавляем столбец из right_table\n",
    "- если значение из right_table вне интервала из left_table, но меньше 200, то подставить 0\n",
    "- если значение из right_table больше 200 или нет соответствия, то исключить строчку из результата полностью\n",
    "- таблица right_table влазит в RAM, левая - нет"
   ]
  },
  {
   "cell_type": "code",
   "execution_count": 49,
   "metadata": {},
   "outputs": [],
   "source": [
    "left_table = [\n",
    "    ['a', 10, 20],\n",
    "    ['b', 30, 40],\n",
    "    ['c', 50, 60],\n",
    "]"
   ]
  },
  {
   "cell_type": "code",
   "execution_count": 50,
   "metadata": {},
   "outputs": [],
   "source": [
    "right_table = [\n",
    "    ['a', 15],\n",
    "    ['b', 100],\n",
    "    ['c', 300],\n",
    "]"
   ]
  },
  {
   "cell_type": "code",
   "execution_count": 51,
   "metadata": {},
   "outputs": [
    {
     "data": {
      "text/plain": [
       "{'a': 15, 'b': 100, 'c': 300}"
      ]
     },
     "execution_count": 51,
     "metadata": {},
     "output_type": "execute_result"
    }
   ],
   "source": [
    "right_dict = {rec[0]: rec[1] for rec in right_table}\n",
    "right_dict"
   ]
  },
  {
   "cell_type": "code",
   "execution_count": 52,
   "metadata": {},
   "outputs": [],
   "source": [
    "def apply_rules(left_table_line):\n",
    "    key, left_border, right_border = left_table_line\n",
    "    \n",
    "    # условие 3 (если есть соответствие)\n",
    "    if key in right_dict:\n",
    "        value_from_right_table = right_dict[key]\n",
    "        \n",
    "        # условие 3 (если значение < 200)\n",
    "        if value_from_right_table < 200:\n",
    "            if left_border < value_from_right_table < right_border:\n",
    "                return value_from_right_table\n",
    "            else:\n",
    "                return 0"
   ]
  },
  {
   "cell_type": "code",
   "execution_count": 53,
   "metadata": {},
   "outputs": [
    {
     "name": "stdout",
     "output_type": "stream",
     "text": [
      "['a', 10, 20, 15]\n",
      "['b', 30, 40, 0]\n"
     ]
    }
   ],
   "source": [
    "for line in left_table:\n",
    "    right_value = apply_rules(line)\n",
    "    if right_value is not None:\n",
    "        line.append(right_value)\n",
    "        print(line)"
   ]
  },
  {
   "cell_type": "code",
   "execution_count": 54,
   "metadata": {},
   "outputs": [
    {
     "data": {
      "text/html": [
       "<div>\n",
       "<style scoped>\n",
       "    .dataframe tbody tr th:only-of-type {\n",
       "        vertical-align: middle;\n",
       "    }\n",
       "\n",
       "    .dataframe tbody tr th {\n",
       "        vertical-align: top;\n",
       "    }\n",
       "\n",
       "    .dataframe thead th {\n",
       "        text-align: right;\n",
       "    }\n",
       "</style>\n",
       "<table border=\"1\" class=\"dataframe\">\n",
       "  <thead>\n",
       "    <tr style=\"text-align: right;\">\n",
       "      <th></th>\n",
       "      <th>name</th>\n",
       "      <th>col</th>\n",
       "    </tr>\n",
       "  </thead>\n",
       "  <tbody>\n",
       "    <tr>\n",
       "      <th>0</th>\n",
       "      <td>a</td>\n",
       "      <td>1</td>\n",
       "    </tr>\n",
       "    <tr>\n",
       "      <th>1</th>\n",
       "      <td>b</td>\n",
       "      <td>2</td>\n",
       "    </tr>\n",
       "    <tr>\n",
       "      <th>2</th>\n",
       "      <td>c</td>\n",
       "      <td>3</td>\n",
       "    </tr>\n",
       "  </tbody>\n",
       "</table>\n",
       "</div>"
      ],
      "text/plain": [
       "  name  col\n",
       "0    a    1\n",
       "1    b    2\n",
       "2    c    3"
      ]
     },
     "execution_count": 54,
     "metadata": {},
     "output_type": "execute_result"
    }
   ],
   "source": [
    "a = pd.DataFrame({'name': ['a', 'b', 'c'], 'col': [1, 2, 3]})\n",
    "a"
   ]
  },
  {
   "cell_type": "code",
   "execution_count": 55,
   "metadata": {},
   "outputs": [
    {
     "data": {
      "text/html": [
       "<div>\n",
       "<style scoped>\n",
       "    .dataframe tbody tr th:only-of-type {\n",
       "        vertical-align: middle;\n",
       "    }\n",
       "\n",
       "    .dataframe tbody tr th {\n",
       "        vertical-align: top;\n",
       "    }\n",
       "\n",
       "    .dataframe thead th {\n",
       "        text-align: right;\n",
       "    }\n",
       "</style>\n",
       "<table border=\"1\" class=\"dataframe\">\n",
       "  <thead>\n",
       "    <tr style=\"text-align: right;\">\n",
       "      <th></th>\n",
       "      <th>date</th>\n",
       "      <th>col_2</th>\n",
       "    </tr>\n",
       "  </thead>\n",
       "  <tbody>\n",
       "    <tr>\n",
       "      <th>0</th>\n",
       "      <td>2021-01-01</td>\n",
       "      <td>3</td>\n",
       "    </tr>\n",
       "    <tr>\n",
       "      <th>1</th>\n",
       "      <td>2021-01-02</td>\n",
       "      <td>4</td>\n",
       "    </tr>\n",
       "    <tr>\n",
       "      <th>2</th>\n",
       "      <td>2021-01-03</td>\n",
       "      <td>5</td>\n",
       "    </tr>\n",
       "  </tbody>\n",
       "</table>\n",
       "</div>"
      ],
      "text/plain": [
       "         date  col_2\n",
       "0  2021-01-01      3\n",
       "1  2021-01-02      4\n",
       "2  2021-01-03      5"
      ]
     },
     "execution_count": 55,
     "metadata": {},
     "output_type": "execute_result"
    }
   ],
   "source": [
    "b = pd.DataFrame({'date': ['2021-01-01', '2021-01-02', '2021-01-03'], 'col_2': [3, 4, 5]})\n",
    "b"
   ]
  },
  {
   "cell_type": "code",
   "execution_count": 56,
   "metadata": {},
   "outputs": [],
   "source": [
    "a['intersec'] = True\n",
    "b['intersec'] = True"
   ]
  },
  {
   "cell_type": "code",
   "execution_count": 57,
   "metadata": {},
   "outputs": [
    {
     "data": {
      "text/html": [
       "<div>\n",
       "<style scoped>\n",
       "    .dataframe tbody tr th:only-of-type {\n",
       "        vertical-align: middle;\n",
       "    }\n",
       "\n",
       "    .dataframe tbody tr th {\n",
       "        vertical-align: top;\n",
       "    }\n",
       "\n",
       "    .dataframe thead th {\n",
       "        text-align: right;\n",
       "    }\n",
       "</style>\n",
       "<table border=\"1\" class=\"dataframe\">\n",
       "  <thead>\n",
       "    <tr style=\"text-align: right;\">\n",
       "      <th></th>\n",
       "      <th>name</th>\n",
       "      <th>col</th>\n",
       "      <th>intersec</th>\n",
       "    </tr>\n",
       "  </thead>\n",
       "  <tbody>\n",
       "    <tr>\n",
       "      <th>0</th>\n",
       "      <td>a</td>\n",
       "      <td>1</td>\n",
       "      <td>True</td>\n",
       "    </tr>\n",
       "    <tr>\n",
       "      <th>1</th>\n",
       "      <td>b</td>\n",
       "      <td>2</td>\n",
       "      <td>True</td>\n",
       "    </tr>\n",
       "    <tr>\n",
       "      <th>2</th>\n",
       "      <td>c</td>\n",
       "      <td>3</td>\n",
       "      <td>True</td>\n",
       "    </tr>\n",
       "  </tbody>\n",
       "</table>\n",
       "</div>"
      ],
      "text/plain": [
       "  name  col  intersec\n",
       "0    a    1      True\n",
       "1    b    2      True\n",
       "2    c    3      True"
      ]
     },
     "execution_count": 57,
     "metadata": {},
     "output_type": "execute_result"
    }
   ],
   "source": [
    "a"
   ]
  },
  {
   "cell_type": "code",
   "execution_count": 58,
   "metadata": {
    "scrolled": false
   },
   "outputs": [
    {
     "data": {
      "text/html": [
       "<div>\n",
       "<style scoped>\n",
       "    .dataframe tbody tr th:only-of-type {\n",
       "        vertical-align: middle;\n",
       "    }\n",
       "\n",
       "    .dataframe tbody tr th {\n",
       "        vertical-align: top;\n",
       "    }\n",
       "\n",
       "    .dataframe thead th {\n",
       "        text-align: right;\n",
       "    }\n",
       "</style>\n",
       "<table border=\"1\" class=\"dataframe\">\n",
       "  <thead>\n",
       "    <tr style=\"text-align: right;\">\n",
       "      <th></th>\n",
       "      <th>date</th>\n",
       "      <th>col_2</th>\n",
       "      <th>intersec</th>\n",
       "    </tr>\n",
       "  </thead>\n",
       "  <tbody>\n",
       "    <tr>\n",
       "      <th>0</th>\n",
       "      <td>2021-01-01</td>\n",
       "      <td>3</td>\n",
       "      <td>True</td>\n",
       "    </tr>\n",
       "    <tr>\n",
       "      <th>1</th>\n",
       "      <td>2021-01-02</td>\n",
       "      <td>4</td>\n",
       "      <td>True</td>\n",
       "    </tr>\n",
       "    <tr>\n",
       "      <th>2</th>\n",
       "      <td>2021-01-03</td>\n",
       "      <td>5</td>\n",
       "      <td>True</td>\n",
       "    </tr>\n",
       "  </tbody>\n",
       "</table>\n",
       "</div>"
      ],
      "text/plain": [
       "         date  col_2  intersec\n",
       "0  2021-01-01      3      True\n",
       "1  2021-01-02      4      True\n",
       "2  2021-01-03      5      True"
      ]
     },
     "execution_count": 58,
     "metadata": {},
     "output_type": "execute_result"
    }
   ],
   "source": [
    "b"
   ]
  },
  {
   "cell_type": "code",
   "execution_count": 59,
   "metadata": {},
   "outputs": [
    {
     "data": {
      "text/html": [
       "<div>\n",
       "<style scoped>\n",
       "    .dataframe tbody tr th:only-of-type {\n",
       "        vertical-align: middle;\n",
       "    }\n",
       "\n",
       "    .dataframe tbody tr th {\n",
       "        vertical-align: top;\n",
       "    }\n",
       "\n",
       "    .dataframe thead th {\n",
       "        text-align: right;\n",
       "    }\n",
       "</style>\n",
       "<table border=\"1\" class=\"dataframe\">\n",
       "  <thead>\n",
       "    <tr style=\"text-align: right;\">\n",
       "      <th></th>\n",
       "      <th>name</th>\n",
       "      <th>col</th>\n",
       "      <th>intersec</th>\n",
       "      <th>date</th>\n",
       "      <th>col_2</th>\n",
       "    </tr>\n",
       "  </thead>\n",
       "  <tbody>\n",
       "    <tr>\n",
       "      <th>0</th>\n",
       "      <td>a</td>\n",
       "      <td>1</td>\n",
       "      <td>True</td>\n",
       "      <td>2021-01-01</td>\n",
       "      <td>3</td>\n",
       "    </tr>\n",
       "    <tr>\n",
       "      <th>1</th>\n",
       "      <td>a</td>\n",
       "      <td>1</td>\n",
       "      <td>True</td>\n",
       "      <td>2021-01-02</td>\n",
       "      <td>4</td>\n",
       "    </tr>\n",
       "    <tr>\n",
       "      <th>2</th>\n",
       "      <td>a</td>\n",
       "      <td>1</td>\n",
       "      <td>True</td>\n",
       "      <td>2021-01-03</td>\n",
       "      <td>5</td>\n",
       "    </tr>\n",
       "    <tr>\n",
       "      <th>3</th>\n",
       "      <td>b</td>\n",
       "      <td>2</td>\n",
       "      <td>True</td>\n",
       "      <td>2021-01-01</td>\n",
       "      <td>3</td>\n",
       "    </tr>\n",
       "    <tr>\n",
       "      <th>4</th>\n",
       "      <td>b</td>\n",
       "      <td>2</td>\n",
       "      <td>True</td>\n",
       "      <td>2021-01-02</td>\n",
       "      <td>4</td>\n",
       "    </tr>\n",
       "    <tr>\n",
       "      <th>5</th>\n",
       "      <td>b</td>\n",
       "      <td>2</td>\n",
       "      <td>True</td>\n",
       "      <td>2021-01-03</td>\n",
       "      <td>5</td>\n",
       "    </tr>\n",
       "    <tr>\n",
       "      <th>6</th>\n",
       "      <td>c</td>\n",
       "      <td>3</td>\n",
       "      <td>True</td>\n",
       "      <td>2021-01-01</td>\n",
       "      <td>3</td>\n",
       "    </tr>\n",
       "    <tr>\n",
       "      <th>7</th>\n",
       "      <td>c</td>\n",
       "      <td>3</td>\n",
       "      <td>True</td>\n",
       "      <td>2021-01-02</td>\n",
       "      <td>4</td>\n",
       "    </tr>\n",
       "    <tr>\n",
       "      <th>8</th>\n",
       "      <td>c</td>\n",
       "      <td>3</td>\n",
       "      <td>True</td>\n",
       "      <td>2021-01-03</td>\n",
       "      <td>5</td>\n",
       "    </tr>\n",
       "  </tbody>\n",
       "</table>\n",
       "</div>"
      ],
      "text/plain": [
       "  name  col  intersec        date  col_2\n",
       "0    a    1      True  2021-01-01      3\n",
       "1    a    1      True  2021-01-02      4\n",
       "2    a    1      True  2021-01-03      5\n",
       "3    b    2      True  2021-01-01      3\n",
       "4    b    2      True  2021-01-02      4\n",
       "5    b    2      True  2021-01-03      5\n",
       "6    c    3      True  2021-01-01      3\n",
       "7    c    3      True  2021-01-02      4\n",
       "8    c    3      True  2021-01-03      5"
      ]
     },
     "execution_count": 59,
     "metadata": {},
     "output_type": "execute_result"
    }
   ],
   "source": [
    "a.merge(b, on='intersec', how='left')"
   ]
  },
  {
   "cell_type": "code",
   "execution_count": 1,
   "metadata": {},
   "outputs": [],
   "source": [
    "queries = [\n",
    "    'сериалы этим летом',\n",
    "    'курс по питону',\n",
    "    'сериалы про спорт',\n",
    "    'тест тест тест тест'\n",
    "    ]"
   ]
  },
  {
   "cell_type": "code",
   "execution_count": 3,
   "metadata": {},
   "outputs": [
    {
     "name": "stdout",
     "output_type": "stream",
     "text": [
      "сериалы\n",
      "этим\n",
      "летом\n",
      "курс\n",
      "по\n",
      "питону\n",
      "сериалы\n",
      "про\n",
      "спорт\n",
      "тест\n",
      "тест\n",
      "тест\n",
      "тест\n"
     ]
    },
    {
     "data": {
      "text/plain": [
       "{'сериалы': 2,\n",
       " 'этим': 1,\n",
       " 'летом': 1,\n",
       " 'курс': 1,\n",
       " 'по': 1,\n",
       " 'питону': 1,\n",
       " 'про': 1,\n",
       " 'спорт': 1,\n",
       " 'тест': 4}"
      ]
     },
     "execution_count": 3,
     "metadata": {},
     "output_type": "execute_result"
    }
   ],
   "source": [
    "storage = {}\n",
    "\n",
    "for query in queries:\n",
    "    for word in query.split(' '):\n",
    "        print(word)\n",
    "        \n",
    "        storage.setdefault(word, 0)\n",
    "        storage[word] += 1\n",
    "        \n",
    "storage"
   ]
  }
 ],
 "metadata": {
  "kernelspec": {
   "display_name": "Python 3",
   "language": "python",
   "name": "python3"
  },
  "language_info": {
   "codemirror_mode": {
    "name": "ipython",
    "version": 3
   },
   "file_extension": ".py",
   "mimetype": "text/x-python",
   "name": "python",
   "nbconvert_exporter": "python",
   "pygments_lexer": "ipython3",
   "version": "3.7.0"
  }
 },
 "nbformat": 4,
 "nbformat_minor": 2
}
