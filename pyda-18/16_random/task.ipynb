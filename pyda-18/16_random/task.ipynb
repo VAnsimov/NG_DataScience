{
 "cells": [
  {
   "cell_type": "markdown",
   "metadata": {
    "collapsed": true,
    "pycharm": {
     "name": "#%% md\n"
    }
   },
   "source": [
    "Смоделировать игру против лотерейного автомата типа “777”. Игрок платит 1 руб., после чего выпадает случайное целое число, равномерно распределенное от 0 до 999. При некоторых значениях числа игрок получает выигрыш (см. справа)\n",
    "\n",
    "Выгодна ли игра игроку?\n",
    "\n",
    "Сколько в среднем приобретает или теряет игрок за одну игру?\n",
    "\n",
    "```\n",
    "777: 200 руб.\n",
    "999: 100 руб.\n",
    "555: 50 руб.\n",
    "333: 15 руб.\n",
    "111: 10 руб.\n",
    "*77: 5 руб.\n",
    "**7: 3 руб.\n",
    "*00: 2 руб.\n",
    "**0: 1 руб.\n",
    "```"
   ]
  },
  {
   "cell_type": "markdown",
   "source": [
    "### Решение"
   ],
   "metadata": {
    "collapsed": false
   }
  },
  {
   "cell_type": "code",
   "execution_count": 1,
   "outputs": [],
   "source": [
    "import numpy\n",
    "import re"
   ],
   "metadata": {
    "collapsed": false,
    "pycharm": {
     "name": "#%%\n"
    }
   }
  },
  {
   "cell_type": "code",
   "execution_count": 2,
   "outputs": [],
   "source": [
    "def get_probabilities() -> [float]:\n",
    "    steps = 10_000_000\n",
    "\n",
    "    success_777 = 0\n",
    "    success_999 = 0\n",
    "    success_555 = 0\n",
    "    success_333 = 0\n",
    "    success_111 = 0\n",
    "    success__77 = 0\n",
    "    success___7 = 0\n",
    "    success__00 = 0\n",
    "    success___0 = 0\n",
    "\n",
    "    for step in range(steps):\n",
    "        number = str(numpy.random.randint(0, 10)) \\\n",
    "                 + str(numpy.random.randint(0, 10)) \\\n",
    "                 + str(numpy.random.randint(0, 10))\n",
    "        if '777' == number: success_777 += 1\n",
    "        elif '999' == number: success_999 += 1\n",
    "        elif '555' == number: success_555 += 1\n",
    "        elif '333' == number: success_333 += 1\n",
    "        elif '111' == number: success_111 += 1\n",
    "        elif re.findall(r'.77', number): success__77 += 1\n",
    "        elif re.findall(r'..7', number): success___7 += 1\n",
    "        elif re.findall(r'.00', number): success__00 += 1\n",
    "        elif re.findall(r'..0', number): success___0 += 1\n",
    "\n",
    "    return [\n",
    "        success_777 / steps,\n",
    "        success_999 / steps,\n",
    "        success_555 / steps,\n",
    "        success_333 / steps,\n",
    "        success_111 / steps,\n",
    "        success__77 / steps,\n",
    "        success___7 / steps,\n",
    "        success__00 / steps,\n",
    "        success___0 / steps\n",
    "    ]\n",
    "\n",
    "probability_200, probability_100, probability_50, \\\n",
    "probability_15, probability_10, probability_5, \\\n",
    "probability_3, probability_2, probability_1, *_ = get_probabilities()"
   ],
   "metadata": {
    "collapsed": false,
    "pycharm": {
     "name": "#%%\n"
    }
   }
  },
  {
   "cell_type": "code",
   "execution_count": 3,
   "outputs": [
    {
     "name": "stdout",
     "output_type": "stream",
     "text": [
      "Вероятность выпадения 777: 0.001\n",
      "Вероятность выпадения 999: 0.001\n",
      "Вероятность выпадения 555: 0.001\n",
      "Вероятность выпадения 333: 0.001\n",
      "Вероятность выпадения 111: 0.001\n",
      "Вероятность выпадения *77: 0.009\n",
      "Вероятность выпадения **7: 0.09\n",
      "Вероятность выпадения *00: 0.01\n",
      "Вероятность выпадения **0: 0.09\n"
     ]
    }
   ],
   "source": [
    "print('Вероятность выпадения 777: {:.0}'.format(probability_200))\n",
    "print('Вероятность выпадения 999: {:.0}'.format(probability_100))\n",
    "print('Вероятность выпадения 555: {:.0}'.format(probability_50))\n",
    "print('Вероятность выпадения 333: {:.0}'.format(probability_15))\n",
    "print('Вероятность выпадения 111: {:.0}'.format(probability_10))\n",
    "print('Вероятность выпадения *77: {:.0}'.format(probability_5))\n",
    "print('Вероятность выпадения **7: {:.0}'.format(probability_3))\n",
    "print('Вероятность выпадения *00: {:.0}'.format(probability_2))\n",
    "print('Вероятность выпадения **0: {:.0}'.format(probability_1))"
   ],
   "metadata": {
    "collapsed": false,
    "pycharm": {
     "name": "#%%\n"
    }
   }
  },
  {
   "cell_type": "markdown",
   "source": [
    "- Вероятность выиграть 200 руб. - 0.1%, за одну игру игрок получает 0.2 руб.\n",
    "- Вероятность выиграть 100 руб. - 0.1%, за одну игру игрок получает 0.1 руб.\n",
    "- Вероятность выиграть 50 руб. - 0.1%, за одну игру игрок получает 0.05 руб.\n",
    "- Вероятность выиграть 15 руб. - 0.1%, за одну игру игрок получает 0.015 руб.\n",
    "- Вероятность выиграть 10 руб. - 0.1%, за одну игру игрок получает 0.01 руб.\n",
    "- Вероятность выиграть 5 руб. - 0.9%, за одну игру игрок получает 0.045 руб.\n",
    "- Вероятность выиграть 3 руб. - 9%, за одну игру игрок получает 0.27 руб.\n",
    "- Вероятность выиграть 2 руб. - 1%, за одну игру игрок получает 0.02 руб.\n",
    "- Вероятность выиграть 1 руб. - 9%, за одну игру игрок получает 0.09 руб.\n"
   ],
   "metadata": {
    "collapsed": false,
    "pycharm": {
     "name": "#%% md\n"
    }
   }
  },
  {
   "cell_type": "code",
   "execution_count": 4,
   "outputs": [
    {
     "name": "stdout",
     "output_type": "stream",
     "text": [
      "Выигрыш 0.8 руб.\n"
     ]
    }
   ],
   "source": [
    "# Формула Полной вероятности\n",
    "# P(A) = P(A / H₁) * P(H₁) + P(A / H₂) * P(H₂)\n",
    "\n",
    "profit_200 = 200 * probability_200\n",
    "profit_100 = 100 * probability_100\n",
    "profit_50 = 50 * probability_50\n",
    "profit_15 = 15 * probability_15\n",
    "profit_10 = 10 * probability_10\n",
    "profit_5 = 5 * probability_5\n",
    "profit_3 = 3 * probability_3\n",
    "profit_2 = 2 * probability_2\n",
    "profit_1 = 1 * probability_1\n",
    "\n",
    "profit = profit_200 + profit_100 + profit_50 + profit_15 + profit_10 + profit_5 + profit_3 + profit_2 + profit_1\n",
    "\n",
    "print('Выигрыш {:.0} руб.'. format(profit))"
   ],
   "metadata": {
    "collapsed": false,
    "pycharm": {
     "name": "#%%\n"
    }
   }
  },
  {
   "cell_type": "markdown",
   "source": [
    "За одну игру игрок тратит 1 руб. а выигрывает 0.8 руб."
   ],
   "metadata": {
    "collapsed": false,
    "pycharm": {
     "name": "#%% md\n"
    }
   }
  }
 ],
 "metadata": {
  "kernelspec": {
   "display_name": "Python 3",
   "language": "python",
   "name": "python3"
  },
  "language_info": {
   "codemirror_mode": {
    "name": "ipython",
    "version": 2
   },
   "file_extension": ".py",
   "mimetype": "text/x-python",
   "name": "python",
   "nbconvert_exporter": "python",
   "pygments_lexer": "ipython2",
   "version": "2.7.6"
  }
 },
 "nbformat": 4,
 "nbformat_minor": 0
}