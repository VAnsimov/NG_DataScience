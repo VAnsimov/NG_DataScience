{
 "cells": [
  {
   "cell_type": "markdown",
   "id": "ee9002e4",
   "metadata": {},
   "source": [
    "# Домашнее задание \"Теория оптимизации\"."
   ]
  },
  {
   "cell_type": "markdown",
   "id": "7c9d66d6",
   "metadata": {},
   "source": [
    "### Задание.\n",
    "При фиксированном seed=42 поразбирайтесь и поэкспериментируйте с параметрами алгоритма дифференциальной эволюции: strategy, popsize, tol, mutation, recombination и updating.\n",
    "Постройте графики количества итераций оптимизации функции ackley от значения параметра."
   ]
  },
  {
   "cell_type": "markdown",
   "id": "ad622b66",
   "metadata": {},
   "source": [
    "### Решение"
   ]
  },
  {
   "cell_type": "code",
   "execution_count": 1,
   "id": "bce7845e",
   "metadata": {},
   "outputs": [
    {
     "data": {
      "image/png": "[encoded data removed]",
      "text/plain": [
       "<Figure size 432x288 with 1 Axes>"
      ]
     },
     "metadata": {
      "needs_background": "light"
     },
     "output_type": "display_data"
    }
   ],
   "source": [
    "import numpy\n",
    "from matplotlib import pyplot\n",
    "from scipy.optimize import differential_evolution\n",
    "\n",
    "def ackley(x):\n",
    "    value_0 = numpy.array(x[0])\n",
    "    value_1 = numpy.array(x[1])\n",
    "\n",
    "    arg1 = -0.2 * numpy.sqrt(0.5 * (value_0 ** 2 + value_1 ** 2))\n",
    "    arg2 = 0.5 * (numpy.cos(2. * numpy.pi * value_0) + numpy.cos(2. * numpy.pi * value_1)) \n",
    "        \n",
    "    return -20. * numpy.exp(arg1) - numpy.exp(arg2) + 20. + numpy.e\n",
    "\n",
    "def show_differential_evolution(func):\n",
    "    bounds = [(-5, 5), (-5, 5)]\n",
    "    \n",
    "    x_values = []\n",
    "    y_values = []\n",
    "    \n",
    "    for tol in numpy.linspace(0, 1, 100):\n",
    "        result = differential_evolution(\n",
    "            func=func, \n",
    "            bounds=bounds,\n",
    "            tol=tol, \n",
    "            seed=42)\n",
    "        \n",
    "        x_values.append(tol)\n",
    "        y_values.append(result.nit)\n",
    "        \n",
    "    pyplot.plot(x_values, y_values)\n",
    "    pyplot.show()\n",
    "\n",
    "show_differential_evolution(\n",
    "    func=ackley)"
   ]
  },
  {
   "cell_type": "markdown",
   "id": "83dba7a3",
   "metadata": {},
   "source": [
    "### Дополнительное задание.\n",
    "\n",
    "Найти множество параметров (strategy=..., ..., updating=...), которые требуют минимального количества итераций.\n",
    "\n",
    "```python\n",
    "import numpy as np\n",
    "from scipy.optimize import differential_evolution\n",
    "\n",
    "\n",
    "def ackley(x):\n",
    "    arg1 = -0.2 * np.sqrt(0.5 * (x[0] ** 2 + x[1] ** 2))\n",
    "    arg2 = 0.5 * (np.cos(2. * np.pi * x[0]) + np.cos(2. * np.pi * x[1]))\n",
    "    return -20. * np.exp(arg1) - np.exp(arg2) + 20. + np.e\n",
    "\n",
    "bounds = [(-10, 10), (-10, 10)]\n",
    "\n",
    "result = differential_evolution(ackley, bounds, seed=42)\n",
    "result\n",
    "```"
   ]
  },
  {
   "cell_type": "markdown",
   "id": "256566dd",
   "metadata": {},
   "source": [
    "### Решение"
   ]
  },
  {
   "cell_type": "code",
   "execution_count": 2,
   "id": "249e7053",
   "metadata": {},
   "outputs": [],
   "source": [
    "import numpy\n",
    "import pandas\n",
    "from scipy.optimize import differential_evolution\n",
    "\n",
    "\n",
    "def ackley(x):\n",
    "    value_0 = numpy.array(x[0])\n",
    "    value_1 = numpy.array(x[1])\n",
    "\n",
    "    arg1 = -0.2 * numpy.sqrt(0.5 * (value_0 ** 2 + value_1 ** 2))\n",
    "    arg2 = 0.5 * (numpy.cos(2. * numpy.pi * value_0) + numpy.cos(2. * numpy.pi * value_1)) \n",
    "        \n",
    "    return -20. * numpy.exp(arg1) - numpy.exp(arg2) + 20. + numpy.e\n",
    "\n",
    "bounds = [(-10, 10), (-10, 10)]"
   ]
  },
  {
   "cell_type": "code",
   "execution_count": 3,
   "id": "9014859c",
   "metadata": {},
   "outputs": [
    {
     "data": {
      "image/png": "[encoded data removed]",
      "text/plain": [
       "<Figure size 432x288 with 1 Axes>"
      ]
     },
     "metadata": {
      "needs_background": "light"
     },
     "output_type": "display_data"
    }
   ],
   "source": [
    "# strategy\n",
    "\n",
    "def show_differential_evolution_strategy(func, bounds):\n",
    "    x_values = []\n",
    "    y_values = []\n",
    "    \n",
    "    strategies = [\n",
    "        'best1bin', 'best1exp', 'rand1exp', \n",
    "        'randtobest1exp', 'currenttobest1exp', 'best2exp', \n",
    "        'rand2exp', 'randtobest1bin', 'currenttobest1bin', \n",
    "        'best2bin', 'rand2bin', 'rand1bin'\n",
    "    ]\n",
    "    for strategy in strategies:\n",
    "        result = differential_evolution(\n",
    "            func=func, \n",
    "            bounds=bounds, \n",
    "            strategy=strategy,\n",
    "            seed=42)\n",
    "        \n",
    "        x_values.append(strategy)\n",
    "        y_values.append(result.nit)\n",
    "        \n",
    "    data_frame: pandas.DataFrame = pandas.DataFrame({\n",
    "        'strategy': x_values, \n",
    "        'nit': y_values\n",
    "    })  \n",
    "    data_frame = data_frame.sort_values(by=['nit'])\n",
    "    data_frame.sort_values(by=['nit']).plot.bar(\n",
    "        x='strategy', \n",
    "        y='nit')\n",
    "\n",
    "show_differential_evolution_strategy(\n",
    "    func=ackley,\n",
    "    bounds=bounds)"
   ]
  },
  {
   "cell_type": "code",
   "execution_count": 4,
   "id": "a8f798ab",
   "metadata": {},
   "outputs": [
    {
     "data": {
      "image/png": "[encoded data removed]",
      "text/plain": [
       "<Figure size 432x288 with 1 Axes>"
      ]
     },
     "metadata": {
      "needs_background": "light"
     },
     "output_type": "display_data"
    }
   ],
   "source": [
    "# popsize\n",
    "\n",
    "def show_differential_evolution_popsize(func, bounds):\n",
    "    x_values = []\n",
    "    y_values = []\n",
    "    \n",
    "    for popsize in range(20):\n",
    "        result = differential_evolution(\n",
    "            func=func, \n",
    "            bounds=bounds, \n",
    "            popsize=popsize,\n",
    "            seed=42)\n",
    "        \n",
    "        x_values.append(popsize)\n",
    "        y_values.append(result.nit)\n",
    "        \n",
    "    data_frame: pandas.DataFrame = pandas.DataFrame({\n",
    "        'popsize': x_values, \n",
    "        'nit': y_values\n",
    "    })  \n",
    "    data_frame = data_frame\n",
    "    data_frame.plot.bar(\n",
    "        x='popsize', \n",
    "        y='nit')\n",
    "\n",
    "show_differential_evolution_popsize(\n",
    "    func=ackley,\n",
    "    bounds=bounds)"
   ]
  },
  {
   "cell_type": "code",
   "execution_count": 5,
   "id": "91137dd9",
   "metadata": {},
   "outputs": [
    {
     "data": {
      "image/png": "[encoded data removed]",
      "text/plain": [
       "<Figure size 432x288 with 1 Axes>"
      ]
     },
     "metadata": {
      "needs_background": "light"
     },
     "output_type": "display_data"
    }
   ],
   "source": [
    "# tol\n",
    "\n",
    "def show_differential_evolution_tol(func, bounds):\n",
    "    bounds = [(-5, 5), (-5, 5)]\n",
    "    \n",
    "    x_values = []\n",
    "    y_values = []\n",
    "    \n",
    "    for tol in numpy.linspace(0.2, 0.4, 20):\n",
    "        result = differential_evolution(\n",
    "            func=func, \n",
    "            bounds=bounds,\n",
    "            tol=tol, \n",
    "            seed=42)\n",
    "        \n",
    "        x_values.append(tol)\n",
    "        y_values.append(result.nit)\n",
    "        \n",
    "    pyplot.plot(x_values, y_values)\n",
    "    pyplot.show()\n",
    "\n",
    "show_differential_evolution_tol(\n",
    "    func=ackley,\n",
    "    bounds=bounds)"
   ]
  },
  {
   "cell_type": "code",
   "execution_count": 6,
   "id": "6a3fa417",
   "metadata": {},
   "outputs": [
    {
     "data": {
      "image/png": "[encoded data removed]",
      "text/plain": [
       "<Figure size 432x288 with 1 Axes>"
      ]
     },
     "metadata": {
      "needs_background": "light"
     },
     "output_type": "display_data"
    }
   ],
   "source": [
    "# mutation\n",
    "\n",
    "def show_differential_evolution_mutation(func, bounds):\n",
    "    x_values = []\n",
    "    y_values = []\n",
    "    \n",
    "    for mutation in numpy.linspace(0, 1, 20):\n",
    "        result = differential_evolution(\n",
    "            func=func, \n",
    "            bounds=bounds, \n",
    "            mutation=(mutation, 1),\n",
    "            seed=42)\n",
    "        \n",
    "        x_values.append(round(mutation, 1))\n",
    "        y_values.append(result.nit)\n",
    "        \n",
    "    data_frame: pandas.DataFrame = pandas.DataFrame({\n",
    "        'mutation': x_values, \n",
    "        'nit': y_values\n",
    "    })  \n",
    "    data_frame.plot.bar(\n",
    "        x='mutation', \n",
    "        y='nit')\n",
    "\n",
    "show_differential_evolution_mutation(\n",
    "    func=ackley,\n",
    "    bounds=bounds)"
   ]
  },
  {
   "cell_type": "code",
   "execution_count": 7,
   "id": "1ff2a843",
   "metadata": {},
   "outputs": [
    {
     "data": {
      "image/png": "[encoded data removed]",
      "text/plain": [
       "<Figure size 432x288 with 1 Axes>"
      ]
     },
     "metadata": {
      "needs_background": "light"
     },
     "output_type": "display_data"
    }
   ],
   "source": [
    "# recombination\n",
    "\n",
    "def show_differential_evolution_recombination(func, bounds):\n",
    "    x_values = []\n",
    "    y_values = []\n",
    "    \n",
    "    for recombination in numpy.linspace(0, 1, 10):\n",
    "        result = differential_evolution(\n",
    "            func=func, \n",
    "            bounds=bounds, \n",
    "            recombination=recombination,\n",
    "            seed=42)\n",
    "        \n",
    "        x_values.append(round(recombination, 1))\n",
    "        y_values.append(result.nit)\n",
    "        \n",
    "    data_frame: pandas.DataFrame = pandas.DataFrame({\n",
    "        'recombination': x_values, \n",
    "        'nit': y_values\n",
    "    })  \n",
    "    data_frame.plot.bar(\n",
    "        x='recombination', \n",
    "        y='nit')\n",
    "\n",
    "show_differential_evolution_recombination(\n",
    "    func=ackley,\n",
    "    bounds=bounds)"
   ]
  },
  {
   "cell_type": "code",
   "execution_count": 8,
   "id": "11756064",
   "metadata": {},
   "outputs": [
    {
     "data": {
      "image/png": "[encoded data removed]",
      "text/plain": [
       "<Figure size 432x288 with 1 Axes>"
      ]
     },
     "metadata": {
      "needs_background": "light"
     },
     "output_type": "display_data"
    }
   ],
   "source": [
    "# updating\n",
    "\n",
    "def show_differential_evolution_updating(func, bounds):\n",
    "    x_values = []\n",
    "    y_values = []\n",
    "    \n",
    "    updatings = ['immediate', 'deferred']\n",
    "    for updating in updatings:\n",
    "        result = differential_evolution(\n",
    "            func=func, \n",
    "            bounds=bounds, \n",
    "            updating=updating,\n",
    "            seed=42)\n",
    "        \n",
    "        x_values.append(updating)\n",
    "        y_values.append(result.nit)\n",
    "        \n",
    "    data_frame: pandas.DataFrame = pandas.DataFrame({\n",
    "        'updating': x_values, \n",
    "        'nit': y_values\n",
    "    })  \n",
    "    data_frame.plot.bar(\n",
    "        x='updating', \n",
    "        y='nit')\n",
    "\n",
    "show_differential_evolution_updating(\n",
    "    func=ackley,\n",
    "    bounds=bounds)"
   ]
  },
  {
   "cell_type": "code",
   "execution_count": 9,
   "id": "1c7b64ec",
   "metadata": {},
   "outputs": [
    {
     "data": {
      "text/plain": [
       "     fun: 1.4814525162165637e-08\n",
       "     jac: array([0.05558185, 1.20437171])\n",
       " message: 'Optimization terminated successfully.'\n",
       "    nfev: 178\n",
       "     nit: 1\n",
       " success: True\n",
       "       x: array([-4.89514203e-09, -1.86315719e-09])"
      ]
     },
     "execution_count": 9,
     "metadata": {},
     "output_type": "execute_result"
    }
   ],
   "source": [
    "# result\n",
    "\n",
    "\n",
    "def show_differential_evolution_total(func, bounds):\n",
    "    x_values = []\n",
    "    y_values = []\n",
    "    \n",
    "    return differential_evolution(\n",
    "        func=func, \n",
    "        bounds=bounds,\n",
    "        tol=0.33,\n",
    "        strategy='best1bin',\n",
    "        popsize=2,\n",
    "        mutation=(0.0, 1),\n",
    "        recombination=1,\n",
    "        updating='immediate',\n",
    "        seed=42)\n",
    "\n",
    "# parameters:\n",
    "# tol = 0.325\n",
    "# strategy = 'best1bin'\n",
    "# popsize = 2\n",
    "# mutation = (0.0, 1)\n",
    "# recombination = 1\n",
    "# updating = 'immediate'\n",
    "\n",
    "show_differential_evolution_total(\n",
    "    func=ackley,\n",
    "    bounds=bounds)"
   ]
  }
 ],
 "metadata": {
  "kernelspec": {
   "display_name": "Python 3",
   "language": "python",
   "name": "python3"
  },
  "language_info": {
   "codemirror_mode": {
    "name": "ipython",
    "version": 3
   },
   "file_extension": ".py",
   "mimetype": "text/x-python",
   "name": "python",
   "nbconvert_exporter": "python",
   "pygments_lexer": "ipython3",
   "version": "3.9.1"
  }
 },
 "nbformat": 4,
 "nbformat_minor": 5
}
