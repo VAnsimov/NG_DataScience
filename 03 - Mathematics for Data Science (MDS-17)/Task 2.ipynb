{
 "cells": [
  {
   "cell_type": "markdown",
   "metadata": {},
   "source": [
    "# Домашнее задание \"Линейная алгебра. Матрицы\".\n",
    "## Уровень 0:\n",
    "\n",
    "- Создайте матрицу 3 на 3, заполненную числами от 1 до 9\n",
    "- Прибавьте к ней матрицу с единицами на диагонале\n",
    "- Умножьте полученную матрицу на вектор (1, 2, 3)\n",
    "- Посчитайте обратную матрицу к полученной в результате прибавления матрице"
   ]
  },
  {
   "cell_type": "markdown",
   "metadata": {
    "pycharm": {
     "name": "#%% md\n"
    }
   },
   "source": [
    "## Решение"
   ]
  },
  {
   "cell_type": "code",
   "execution_count": 1,
   "metadata": {
    "collapsed": false,
    "jupyter": {
     "outputs_hidden": false
    },
    "pycharm": {
     "name": "#%%\n"
    }
   },
   "outputs": [],
   "source": [
    "import numpy\n",
    "import matplotlib.pyplot as pyplot"
   ]
  },
  {
   "cell_type": "markdown",
   "metadata": {},
   "source": [
    "#### 1) Создайте матрицу 3 на 3, заполненную числами от 1 до 9"
   ]
  },
  {
   "cell_type": "code",
   "execution_count": 2,
   "metadata": {
    "collapsed": false,
    "jupyter": {
     "outputs_hidden": false
    },
    "pycharm": {
     "name": "#%%\n"
    }
   },
   "outputs": [
    {
     "data": {
      "text/plain": "array([[8, 4, 3],\n       [5, 2, 7],\n       [8, 1, 2]])"
     },
     "execution_count": 2,
     "metadata": {},
     "output_type": "execute_result"
    }
   ],
   "source": [
    "matrix_3_3 = numpy.array([[8, 4, 3],\n",
    "                          [5, 2, 7],\n",
    "                          [8, 1, 2]])\n",
    "\n",
    "matrix_3_3"
   ]
  },
  {
   "cell_type": "markdown",
   "metadata": {},
   "source": [
    "#### 2) Прибавьте к ней матрицу с единицами на диагонале"
   ]
  },
  {
   "cell_type": "code",
   "execution_count": 3,
   "metadata": {
    "collapsed": false,
    "jupyter": {
     "outputs_hidden": false
    },
    "pycharm": {
     "name": "#%%\n"
    }
   },
   "outputs": [
    {
     "data": {
      "text/plain": "array([[9., 4., 3.],\n       [5., 3., 7.],\n       [8., 1., 3.]])"
     },
     "execution_count": 3,
     "metadata": {},
     "output_type": "execute_result"
    }
   ],
   "source": [
    "matrix_3_3 = matrix_3_3 + numpy.eye(3)\n",
    "\n",
    "matrix_3_3"
   ]
  },
  {
   "cell_type": "markdown",
   "metadata": {},
   "source": [
    "#### 3) Умножьте полученную матрицу на вектор (1, 2, 3)"
   ]
  },
  {
   "cell_type": "code",
   "execution_count": 4,
   "metadata": {
    "collapsed": false,
    "jupyter": {
     "outputs_hidden": false
    },
    "pycharm": {
     "name": "#%%\n"
    }
   },
   "outputs": [
    {
     "data": {
      "text/plain": "array([[ 9.,  8.,  9.],\n       [ 5.,  6., 21.],\n       [ 8.,  2.,  9.]])"
     },
     "execution_count": 4,
     "metadata": {},
     "output_type": "execute_result"
    }
   ],
   "source": [
    "matrix_3_3 * numpy.array([1, 2, 3])"
   ]
  },
  {
   "cell_type": "markdown",
   "metadata": {},
   "source": [
    "#### 4) Посчитайте обратную матрицу к полученной в результате прибавления матрице"
   ]
  },
  {
   "cell_type": "code",
   "execution_count": 5,
   "metadata": {
    "collapsed": false,
    "jupyter": {
     "outputs_hidden": false
    },
    "pycharm": {
     "name": "#%%\n"
    }
   },
   "outputs": [
    {
     "data": {
      "text/plain": "array([[ 0.016, -0.072,  0.152],\n       [ 0.328,  0.024, -0.384],\n       [-0.152,  0.184,  0.056]])"
     },
     "execution_count": 5,
     "metadata": {},
     "output_type": "execute_result"
    }
   ],
   "source": [
    "numpy.linalg.inv(matrix_3_3)"
   ]
  },
  {
   "cell_type": "markdown",
   "metadata": {},
   "source": [
    "## Уровень 1:\n",
    "\n",
    "Дан объект в 2d пространстве:\n",
    "\n",
    "```python\n",
    "import numpy as np\n",
    "import matplotlib.pyplot as plt\n",
    "\n",
    "A = [\n",
    "    [-100, -100, 1],\n",
    "    [-100, 100, 1],\n",
    "    [100, 100, 1],\n",
    "    [0, 0, 1],\n",
    "    [100, -100, 1],\n",
    "    [-100, -100, 1]\n",
    "]\n",
    "\n",
    "A = np.array(A)\n",
    "x = A[:,0]\n",
    "y = A[:,1]\n",
    "\n",
    "plt.plot(x, y)\n",
    "plt.ylim([-200, 200])\n",
    "plt.xlim([-200, 200])\n",
    "```\n",
    "\n",
    "При помощи матричных операций выполните:\n",
    " - Уменьшить объект в два раза\n",
    " - Повернуть на 130 градусов\n",
    " - Отразить объект относительно прямой y=x\n",
    " - Выполнить смещение объекта и масштабирование (применить 2 матрицы трансформаций). Смещение на (200, 300) и масштабирование на (0.5, 1.2)"
   ]
  },
  {
   "cell_type": "markdown",
   "metadata": {},
   "source": [
    "## Решение"
   ]
  },
  {
   "cell_type": "code",
   "execution_count": 6,
   "metadata": {
    "collapsed": false,
    "jupyter": {
     "outputs_hidden": false
    },
    "pycharm": {
     "name": "#%%\n"
    }
   },
   "outputs": [],
   "source": [
    "class MatrixFactory:\n",
    "\n",
    "    def make_origin_matrix(self):\n",
    "        return numpy.array(\n",
    "            [[-100, -100, 1],\n",
    "             [-100, 100, 1],\n",
    "             [100, 100, 1],\n",
    "             [0, 0, 1],\n",
    "             [100, -100, 1],\n",
    "             [-100, -100, 1]])\n",
    "\n",
    "    def make_rotation_axis_matrix(self):\n",
    "        '''\n",
    "        Создает матрицы для развартопа осям x и y\n",
    "        :return:\n",
    "        numpy.ndarray # ось x\n",
    "        numpy.ndarray # ось y\n",
    "        '''\n",
    "        cos_130 = numpy.cos((130 * numpy.pi) / 180)\n",
    "        sin_130 = numpy.sin(numpy.deg2rad(130))\n",
    "\n",
    "        matrix_axis_x = numpy.array(\n",
    "            [[1, 0,       0],\n",
    "            [0, cos_130, -sin_130],\n",
    "            [0, sin_130, cos_130]])\n",
    "\n",
    "        matrix_axis_y = numpy.array(\n",
    "            [[cos_130,  0, sin_130],\n",
    "            [0,        1, 0],\n",
    "            [-sin_130, 0, cos_130]])\n",
    "\n",
    "        return matrix_axis_x, matrix_axis_y\n",
    "\n",
    "    def make_mirror_matrix(self):\n",
    "        '''\n",
    "        Создает матрицу для отразижения относительно прямой y=x\n",
    "        :return: umpy.ndarray\n",
    "        '''\n",
    "        return numpy.array([[0, 1, 0],\n",
    "                            [1, 0, 0],\n",
    "                            [0, 0, 1]])\n",
    "\n",
    "    def make_matrix(self, axis_x, axis_y):\n",
    "        '''\n",
    "        Создает матрицу для с заданными значениями\n",
    "        :return: umpy.ndarray\n",
    "        '''\n",
    "        return numpy.array(\n",
    "            [[axis_x, axis_y, 0],\n",
    "            [axis_x, axis_y, 0],\n",
    "            [axis_x, axis_y, 0],\n",
    "            [axis_x, axis_y, 0],\n",
    "            [axis_x, axis_y, 0],\n",
    "            [axis_x, axis_y, 0]])\n",
    "\n",
    "def show_matrix(matrix):\n",
    "    '''\n",
    "    Показывает матрицу на оси `x` и `y`\n",
    "    '''\n",
    "    axis_x, axis_y = matrix[:,0], matrix[:,1]\n",
    "\n",
    "    axis_min = 0\n",
    "    axis_max = 0\n",
    "    for vector in [axis_x, axis_y]:\n",
    "        for item in vector:\n",
    "            if item < axis_min: axis_min = item\n",
    "            if item > axis_max: axis_max = item\n",
    "\n",
    "    axis_min *= 1.5\n",
    "    axis_max *= 1.5\n",
    "\n",
    "    pyplot.plot(axis_x, axis_y)\n",
    "    pyplot.ylim([axis_min, axis_max])\n",
    "    pyplot.xlim([axis_min, axis_max])\n",
    "    pyplot.grid()\n",
    "    pyplot.show()\n",
    "\n"
   ]
  },
  {
   "cell_type": "code",
   "execution_count": 7,
   "metadata": {
    "collapsed": false,
    "jupyter": {
     "outputs_hidden": false
    },
    "pycharm": {
     "name": "#%%\n"
    }
   },
   "outputs": [
    {
     "data": {
      "text/plain": "<Figure size 432x288 with 1 Axes>",
      "image/png": "[encoded data removed]"
     },
     "metadata": {
      "needs_background": "light"
     },
     "output_type": "display_data"
    }
   ],
   "source": [
    "matrix_factory = MatrixFactory()\n",
    "matrix_A = matrix_factory.make_origin_matrix()\n",
    "\n",
    "show_matrix(matrix_A)"
   ]
  },
  {
   "cell_type": "markdown",
   "metadata": {
    "pycharm": {
     "name": "#%% md\n"
    }
   },
   "source": [
    "#### 1) Уменьшить объект в два раза"
   ]
  },
  {
   "cell_type": "code",
   "execution_count": 8,
   "metadata": {
    "collapsed": false,
    "jupyter": {
     "outputs_hidden": false
    },
    "pycharm": {
     "name": "#%%\n"
    }
   },
   "outputs": [
    {
     "data": {
      "text/plain": "<Figure size 432x288 with 1 Axes>",
      "image/png": "[encoded data removed]"
     },
     "metadata": {
      "needs_background": "light"
     },
     "output_type": "display_data"
    }
   ],
   "source": [
    "show_matrix(matrix_A / 2)"
   ]
  },
  {
   "cell_type": "markdown",
   "metadata": {},
   "source": [
    "#### 2) Повернуть на 130 градусов"
   ]
  },
  {
   "cell_type": "code",
   "execution_count": 9,
   "metadata": {
    "collapsed": false,
    "jupyter": {
     "outputs_hidden": false
    },
    "pycharm": {
     "name": "#%%\n"
    }
   },
   "outputs": [
    {
     "data": {
      "text/plain": "<Figure size 432x288 with 1 Axes>",
      "image/png": "[encoded data removed]"
     },
     "metadata": {
      "needs_background": "light"
     },
     "output_type": "display_data"
    }
   ],
   "source": [
    "matrix_axis_x, matrix_axis_y = matrix_factory.make_rotation_axis_matrix()\n",
    "\n",
    "show_matrix(matrix_A @ matrix_axis_x @ matrix_axis_y)"
   ]
  },
  {
   "cell_type": "markdown",
   "metadata": {},
   "source": [
    "#### 3) Отразить объект относительно прямой y=x"
   ]
  },
  {
   "cell_type": "code",
   "execution_count": 10,
   "metadata": {
    "collapsed": false,
    "jupyter": {
     "outputs_hidden": false
    },
    "pycharm": {
     "name": "#%%\n"
    }
   },
   "outputs": [
    {
     "data": {
      "text/plain": "<Figure size 432x288 with 1 Axes>",
      "image/png": "[encoded data removed]"
     },
     "metadata": {
      "needs_background": "light"
     },
     "output_type": "display_data"
    }
   ],
   "source": [
    "show_matrix(matrix_A @ matrix_factory.make_mirror_matrix())"
   ]
  },
  {
   "cell_type": "markdown",
   "metadata": {},
   "source": [
    "#### 4) Выполнить смещение объекта и масштабирование (применить 2 матрицы трансформаций). Смещение на (200, 300) и масштабирование на (0.5, 1.2)"
   ]
  },
  {
   "cell_type": "code",
   "execution_count": 11,
   "metadata": {
    "collapsed": false,
    "jupyter": {
     "outputs_hidden": false
    },
    "pycharm": {
     "name": "#%%\n"
    }
   },
   "outputs": [
    {
     "data": {
      "text/plain": "<Figure size 432x288 with 1 Axes>",
      "image/png": "[encoded data removed]"
     },
     "metadata": {
      "needs_background": "light"
     },
     "output_type": "display_data"
    }
   ],
   "source": [
    "offset_matrix = matrix_factory.make_matrix(\n",
    "    axis_x=200,\n",
    "    axis_y=300)\n",
    "\n",
    "zoom_matrix = matrix_factory.make_matrix(\n",
    "    axis_x=0.5,\n",
    "    axis_y=1.2)\n",
    "\n",
    "show_matrix((matrix_A + offset_matrix) * zoom_matrix)"
   ]
  }
 ],
 "metadata": {
  "kernelspec": {
   "display_name": "Python 3",
   "language": "python",
   "name": "python3"
  },
  "language_info": {
   "codemirror_mode": {
    "name": "ipython",
    "version": 3
   },
   "file_extension": ".py",
   "mimetype": "text/x-python",
   "name": "python",
   "nbconvert_exporter": "python",
   "pygments_lexer": "ipython3",
   "version": "3.9.1"
  }
 },
 "nbformat": 4,
 "nbformat_minor": 4
}