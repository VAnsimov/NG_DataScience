{
 "cells": [
  {
   "cell_type": "markdown",
   "id": "48bbeff4",
   "metadata": {},
   "source": [
    "# Домашнее задание \"Теория вероятности. Дискретные Случайные Величины\"."
   ]
  },
  {
   "cell_type": "markdown",
   "id": "a72a9b50",
   "metadata": {},
   "source": [
    "## Уровень 0:\n",
    "\n",
    "#### Задание 1:\n",
    "Монетку подбрасывают 15 раз, найдите вероятность выпадения простого числа орлов.\n",
    "\n",
    "#### Задание 2:\n",
    "Создайте свою дискретную случайную величину с не менее, чем 10 значениями. Просемплируйте 1000 случайных значений, постройте гистограмму плотности распределения по выборке, посчитайте среднее, дисперсию и медиану."
   ]
  },
  {
   "cell_type": "markdown",
   "id": "4dd31f4f",
   "metadata": {},
   "source": [
    "### Решение"
   ]
  },
  {
   "cell_type": "code",
   "execution_count": 1,
   "id": "dab82b32",
   "metadata": {},
   "outputs": [],
   "source": [
    "import numpy\n",
    "import math\n",
    "from matplotlib import pyplot\n",
    "\n",
    "def bernoulli(p, n, k):\n",
    "    '''\n",
    "    p: вероятность наступления события\n",
    "    n: количества опытов\n",
    "    k: событие которое наступает k раз\n",
    "    '''\n",
    "    cnk = math.factorial(n) / (math.factorial(k)*math.factorial(n-k))\n",
    "    return cnk * (p ** k) * ((1 - p) ** (n - k))"
   ]
  },
  {
   "cell_type": "code",
   "execution_count": 2,
   "id": "62f2bc2a",
   "metadata": {},
   "outputs": [
    {
     "name": "stdout",
     "output_type": "stream",
     "text": [
      "вероятность выпадения орла 2 раз: 0.3%\n",
      "вероятность выпадения орла 3 раз: 1.4%\n",
      "вероятность выпадения орла 5 раз: 9.2%\n",
      "вероятность выпадения орла 7 раз: 19.6%\n",
      "вероятность выпадения орла 11 раз: 4.2%\n",
      "вероятность выпадения орла 13 раз: 0.3%\n",
      "\n",
      "Вероятность выпадения простого числа орлов: 35.0%\n"
     ]
    }
   ],
   "source": [
    "# Задание 1:\n",
    "# Монетку подбрасывают 15 раз, найдите вероятность выпадения простого числа орлов.\n",
    "\n",
    "def show_probability_prime_numbers():\n",
    "    prime_numbers = [2, 3, 5, 7, 11, 13]\n",
    "    probability_total = 0\n",
    "    \n",
    "    for number in prime_numbers:\n",
    "        probability = bernoulli(\n",
    "            p=0.5,\n",
    "            n=15,\n",
    "            k=number)\n",
    "        probability_total += probability\n",
    "        \n",
    "        print('вероятность выпадения орла {} раз: {:.1%}'.format(number, probability))\n",
    "        \n",
    "    print('\\nВероятность выпадения простого числа орлов: {:.1%}'.format(probability_total))\n",
    "    \n",
    "show_probability_prime_numbers()"
   ]
  },
  {
   "cell_type": "code",
   "execution_count": 3,
   "id": "591aba75",
   "metadata": {},
   "outputs": [
    {
     "name": "stdout",
     "output_type": "stream",
     "text": [
      "[7 3 9 8 0 3 1 4 5 6]\n"
     ]
    }
   ],
   "source": [
    "# Задание 2:\n",
    "# Создайте свою дискретную случайную величину с не менее, чем 10 значениями. \n",
    "\n",
    "def show_ten_random_numbers():\n",
    "    print(numpy.random.randint(\n",
    "        low=0,\n",
    "        high=10,\n",
    "        size=10))\n",
    "    \n",
    "show_ten_random_numbers()"
   ]
  },
  {
   "cell_type": "code",
   "execution_count": 4,
   "id": "ebfb9951",
   "metadata": {},
   "outputs": [
    {
     "data": {
      "image/png": "[encoded data removed]",
      "text/plain": [
       "<Figure size 432x288 with 1 Axes>"
      ]
     },
     "metadata": {
      "needs_background": "light"
     },
     "output_type": "display_data"
    },
    {
     "name": "stdout",
     "output_type": "stream",
     "text": [
      "mean:  4.499\n",
      "median:  4.5\n",
      "std:  2.877846243286809\n"
     ]
    }
   ],
   "source": [
    "# Задание 2:\n",
    "# Просемплируйте 1000 случайных значений, постройте гистограмму плотности распределения по выборке, посчитайте среднее, дисперсию и медиану.\n",
    "\n",
    "def show_ten_random_numbers():\n",
    "    numbers = numpy.random.randint(\n",
    "        low=0,\n",
    "        high=10,\n",
    "        size=1000)\n",
    "    pyplot.hist(numbers)\n",
    "    pyplot.show()\n",
    "    \n",
    "    print('mean: ', numbers.mean())\n",
    "    print('median: ', numpy.median(numbers))\n",
    "    print('std: ', numpy.std(numbers))\n",
    "    \n",
    "show_ten_random_numbers()"
   ]
  },
  {
   "cell_type": "markdown",
   "id": "92353dd9",
   "metadata": {},
   "source": [
    "## Уровень 1:\n",
    "\n",
    "#### Задание 3:\n",
    "\n",
    "Пусть брошены 3 уравновешенные монеты.\n",
    "\n",
    "Рассмотрим 3 события:\n",
    " - A1 - монеты 1 и 2 упали одной и той же стороной\n",
    " - A2 - монеты 2 и 3 упали одной и той же стороной\n",
    " - A3 - монеты 1 и 3 упали одной и той же стороной\n",
    " \n",
    "\n",
    "Покажите, почему эти 3 события (A1, A2, A3) являются попарно независимыми, но не являются независимыми в совокупности.\n",
    "\n",
    "\n",
    "#### Задание 4 (формула полной вероятности):\n",
    "\n",
    "В магазин привезли устройства с 3-х разных предприятий.\n",
    "\n",
    "Соотношение устройств следующее: 20% - продукция первого предприятия, 30% - продукция второго предприятия, 50% - продукция третьего предприятия; далее, 10% продукции первого предприятия высшего сорта, на втором предприятии - 5% и на третьем - 20% продукции высшего сорта.\n",
    "Найти вероятность того, что случайно купленная новая продукция окажется высшего сорта."
   ]
  },
  {
   "cell_type": "markdown",
   "id": "58f3a71b",
   "metadata": {},
   "source": [
    "### Решение"
   ]
  },
  {
   "cell_type": "markdown",
   "id": "07da7d22",
   "metadata": {},
   "source": [
    "> Задание 3:\n",
    ">\n",
    "> Пусть брошены 3 уравновешенные монеты. \n",
    "> ...\n",
    "\n",
    "A1, A2 и A3 попарно не зависимы, так как значение одной из них не влияет на вероятность значений другой.\n",
    "Они в совокупности зависимы, ибо зная, например, что события A1 и A2 произошли, мы знаем точно, что A3 также произошло. \n"
   ]
  },
  {
   "cell_type": "markdown",
   "id": "034bc9b8",
   "metadata": {},
   "source": [
    "\n",
    "> Задание 4 (формула полной вероятности):\n",
    ">\n",
    "> В магазин привезли устройства с 3-х разных предприятий.\n",
    "> ...\n",
    "\n",
    "P(A) = P(A|B1)P(B1) + P(A|B2)P(B2) + . . . + P(A|Bn)P(Bn)\n",
    "\n",
    "Где:\n",
    "- P(B1) = покупка продукции 1 предприятия = 0.2\n",
    "- P(B2) = покупка продукции 2 предприятия = 0.3\n",
    "- P(B3) = покупка продукции 3 предприятия = 0.5\n",
    "\n",
    "\n",
    "- P(A|B1) = 10% продукции высшего сорта 1 предприятия = 0.1\n",
    "- P(A|B2) = 5% продукции высшего сорта 2 предприятия = 0.05\n",
    "- P(A|B3) = 20% продукции высшего сорта 3 предприятия = 0.2\n",
    "\n",
    "P(A) = 0.2 * 0.1 + 0.3 * 0.05 + 0.5 * 0.2 = 0.02 + 0.015 + 0.1 = 0.135\n",
    "\n",
    "\n",
    "Вероятность что случайно купленная новая продукция окажется высшего сорта равна 0.135\n"
   ]
  },
  {
   "cell_type": "code",
   "execution_count": null,
   "id": "5f2e8667",
   "metadata": {},
   "outputs": [],
   "source": []
  }
 ],
 "metadata": {
  "kernelspec": {
   "display_name": "Python 3",
   "language": "python",
   "name": "python3"
  },
  "language_info": {
   "codemirror_mode": {
    "name": "ipython",
    "version": 3
   },
   "file_extension": ".py",
   "mimetype": "text/x-python",
   "name": "python",
   "nbconvert_exporter": "python",
   "pygments_lexer": "ipython3",
   "version": "3.9.1"
  }
 },
 "nbformat": 4,
 "nbformat_minor": 5
}
