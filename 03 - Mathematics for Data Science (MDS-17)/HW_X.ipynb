{
 "cells": [
  {
   "cell_type": "markdown",
   "metadata": {
    "id": "g1hQiFW7isGe"
   },
   "source": [
    "# Итоговая работа."
   ]
  },
  {
   "cell_type": "code",
   "execution_count": 1,
   "metadata": {
    "id": "NyZ7GotDi1Mp"
   },
   "outputs": [],
   "source": [
    "import matplotlib.pyplot as plt\n",
    "import numpy as np\n",
    "\n",
    "from scipy.optimize import minimize\n",
    "%matplotlib inline"
   ]
  },
  {
   "cell_type": "markdown",
   "metadata": {
    "id": "VZFf_auXisJd"
   },
   "source": [
    "## Задание 1"
   ]
  },
  {
   "cell_type": "markdown",
   "metadata": {
    "id": "ABMPXsuhisMO"
   },
   "source": [
    "Дана матрица рейтингов фильмов (строки - пользователи (10 человек), столбцы - фильмы (15 фильмов))"
   ]
  },
  {
   "cell_type": "code",
   "execution_count": 2,
   "metadata": {
    "id": "D4_Vshevi-4P"
   },
   "outputs": [],
   "source": [
    "raitings = np.array([[ 4,  4,  9,  4,  1,  6, 10,  7,  9,  6,  9,  2,  8,  6,  6],\n",
    "                     [ 9,  2,  5, 10,  7,  8, 10,  5,  6,  2,  1,  6,  8,  9,  7],\n",
    "                     [ 1,  6,  8,  8,  4,  9,  3,  8, 10,  5,  2,  6,  8,  1,  6],\n",
    "                     [ 6,  1,  9,  7,  7,  9,  2,  3,  5,  1,  6,  6,  3,  2,  7],\n",
    "                     [ 3,  7,  3,  5,  7,  9,  9,  6,  2,  9,  1,  2,  8, 10,  6],\n",
    "                     [ 8,  3,  7,  3,  8,  6,  1,  8,  8,  6,  1,  9,  4, 10,  1],\n",
    "                     [ 9,  8,  4,  8,  8, 10,  6,  1,  1,  2,  9,  5,  2,  7,  2],\n",
    "                     [ 4,  1,  6,  4,  3, 10,  4,  4,  2,  8,  7,  9,  3,  8,  3],\n",
    "                     [ 2,  7,  7,  6, 10,  6,  8,  9,  8,  6, 10,  1,  7, 10,  4],\n",
    "                     [ 5, 10,  8,  8,  9,  7,  2,  9,  9, 10,  8,  8,  8,  6, 10]])"
   ]
  },
  {
   "cell_type": "markdown",
   "metadata": {
    "id": "FuYpBPsTjBVa"
   },
   "source": [
    "**a)** Необходимо найти наиболее похожего пользователя по косинусной метрике для каждого из (ответ: 10 пар вида (x, y), где y - наиболее похожий пользователь на пользователя x).\n",
    "\n",
    "**b)** Предположим, вы захотели сжать признаковые описания пользователя с 15 фильмов, до, скажем, 5-ти признаков, как вы это сделаете?"
   ]
  },
  {
   "cell_type": "markdown",
   "metadata": {},
   "source": [
    "## Решение"
   ]
  },
  {
   "cell_type": "code",
   "execution_count": 3,
   "metadata": {},
   "outputs": [
    {
     "name": "stdout",
     "output_type": "stream",
     "text": [
      "Матрица с дистанциями.\n",
      "Чем ближе к нулю, тем пользоваетль более похож на пользоваетля с нулевым значением\n",
      "\n",
      "[[0.         0.17397081 0.15078471 0.21659884 0.18082368 0.25881452\n",
      "  0.27264172 0.19032478 0.08934018 0.13989224]\n",
      " [0.17397081 0.         0.18765675 0.15364663 0.12861948 0.17286893\n",
      "  0.17370316 0.19973997 0.17473692 0.18031873]\n",
      " [0.15078471 0.18765675 0.         0.15330626 0.21605701 0.20902015\n",
      "  0.32383777 0.23710448 0.17887923 0.08126949]\n",
      " [0.21659884 0.15364663 0.15330626 0.         0.30846591 0.21334208\n",
      "  0.16725789 0.17065333 0.2229334  0.1411313 ]\n",
      " [0.18082368 0.12861948 0.21605701 0.30846591 0.         0.2235566\n",
      "  0.21799532 0.18763131 0.12051523 0.15425211]\n",
      " [0.25881452 0.17286893 0.20902015 0.21334208 0.2235566  0.\n",
      "  0.25988199 0.15548315 0.19377124 0.14485092]\n",
      " [0.27264172 0.17370316 0.32383777 0.16725789 0.21799532 0.25988199\n",
      "  0.         0.17330826 0.18869956 0.20845282]\n",
      " [0.19032478 0.19973997 0.23710448 0.17065333 0.18763131 0.15548315\n",
      "  0.17330826 0.         0.2018724  0.16317771]\n",
      " [0.08934018 0.17473692 0.17887923 0.2229334  0.12051523 0.19377124\n",
      "  0.18869956 0.2018724  0.         0.09906203]\n",
      " [0.13989224 0.18031873 0.08126949 0.1411313  0.15425211 0.14485092\n",
      "  0.20845282 0.16317771 0.09906203 0.        ]]\n",
      "\n",
      "Пользователь c индексом 0, похож на пользователя c индексом 8\n",
      "Пользователь c индексом 1, похож на пользователя c индексом 4\n",
      "Пользователь c индексом 2, похож на пользователя c индексом 9\n",
      "Пользователь c индексом 3, похож на пользователя c индексом 9\n",
      "Пользователь c индексом 4, похож на пользователя c индексом 8\n",
      "Пользователь c индексом 5, похож на пользователя c индексом 9\n",
      "Пользователь c индексом 6, похож на пользователя c индексом 3\n",
      "Пользователь c индексом 7, похож на пользователя c индексом 5\n",
      "Пользователь c индексом 8, похож на пользователя c индексом 0\n",
      "Пользователь c индексом 9, похож на пользователя c индексом 2\n"
     ]
    }
   ],
   "source": [
    "# a) Необходимо найти наиболее похожего пользователя по косинусной метрике для каждого \n",
    "#    (ответ: 10 пар вида (x, y), где y - наиболее похожий пользователь на пользователя x).\n",
    "\n",
    "import numpy \n",
    "from sklearn.metrics import pairwise_distances\n",
    "\n",
    "def print_simular_users():\n",
    "    distances_matrix = pairwise_distances(raitings, metric='cosine')\n",
    "\n",
    "    print('Матрица с дистанциями.')\n",
    "    print('Чем ближе к нулю, тем пользоваетль более похож на пользоваетля с нулевым значением')\n",
    "    print()\n",
    "    print(distances_matrix)\n",
    "    print()\n",
    "          \n",
    "    for line_index in range(len(distances_matrix)):\n",
    "        user_x_index = 0\n",
    "        user_similar_index = 0\n",
    "        distance_min = numpy.finfo(numpy.float64).max\n",
    "    \n",
    "        for user_index in range(len(distances_matrix[line_index])):\n",
    "            # получаем дистанцию пользователя\n",
    "            user_distance = distances_matrix[line_index][user_index]\n",
    "       \n",
    "            # пользователь с дистанцией 0 это пользователь от которого дистанцию считают\n",
    "            if user_distance == 0:\n",
    "                user_x_index = user_index\n",
    "                \n",
    "            # ищем минимальную дистанцию\n",
    "            elif user_distance < distance_min:\n",
    "                distance_min = user_distance\n",
    "                user_similar_index = user_index\n",
    "        \n",
    "        print('Пользователь c индексом {}, похож на пользователя c индексом {}'.format(user_x_index, user_similar_index))\n",
    "                \n",
    "print_simular_users()\n",
    "\n"
   ]
  },
  {
   "cell_type": "code",
   "execution_count": 4,
   "metadata": {},
   "outputs": [
    {
     "name": "stdout",
     "output_type": "stream",
     "text": [
      "mse:  1.2455442696728187\n",
      "\n",
      "Сжатые признаки:\n",
      "\n",
      "[[-5.30986101  1.92919845 -4.93300027  2.70188013  5.50497886]\n",
      " [ 2.87763403  2.71659559  1.40592782  7.26325751 -4.50322291]\n",
      " [-4.94010408 -6.68861167 -0.94550184  3.61556661 -0.68969272]\n",
      " [ 5.14939908 -6.28027284 -4.65978558  1.09024004 -1.01471112]\n",
      " [-1.37488691  7.54357985  4.00834369  2.1284001  -0.16324949]\n",
      " [ 2.65341956 -3.77075601  8.58430748 -1.46628319  1.67401769]\n",
      " [ 8.61573944  3.78603335 -4.02721027 -4.37582577 -3.13880277]\n",
      " [ 5.39658258 -1.0170466   1.01456742 -1.89512837  6.54883538]\n",
      " [-5.7843488   5.29857107 -1.48083611 -3.71295542  0.21312695]\n",
      " [-7.2835739  -3.51729118  1.03318766 -5.34915166 -4.43127987]]\n"
     ]
    }
   ],
   "source": [
    "# b) Предположим, вы захотели сжать признаковые описания пользователя с 15 фильмов, до, скажем, 5-ти признаков, как вы это сделаете?\n",
    "\n",
    "import numpy\n",
    "from matplotlib import pyplot\n",
    "from sklearn.decomposition import PCA\n",
    "from sklearn.metrics import mean_squared_error\n",
    "\n",
    "def print_reduced_ratings(raitings):\n",
    "    pca = PCA(n_components=5)\n",
    "    raitings_reduced = pca.fit_transform(raitings)\n",
    "    original_data = pca.inverse_transform(raitings_reduced)\n",
    "\n",
    "    print('mse: ', mean_squared_error(raitings, original_data))\n",
    "    print()\n",
    "    print('Сжатые признаки:\\n')\n",
    "    print(raitings_reduced)\n",
    "    \n",
    "print_reduced_ratings(raitings)"
   ]
  },
  {
   "cell_type": "markdown",
   "metadata": {
    "id": "QRJEo5ydjFjG"
   },
   "source": [
    "---\n",
    "\n",
    "## Задание 2"
   ]
  },
  {
   "cell_type": "markdown",
   "metadata": {
    "id": "39rGnTIojFlV"
   },
   "source": [
    "\n",
    "Вычислите производную $tg^2(sin(x) + cos(2x+3))$ в точке $x_0=1$ (на python и на бумаге)."
   ]
  },
  {
   "cell_type": "markdown",
   "metadata": {},
   "source": [
    "## Решение"
   ]
  },
  {
   "cell_type": "code",
   "execution_count": 5,
   "metadata": {},
   "outputs": [
    {
     "name": "stdout",
     "output_type": "stream",
     "text": [
      "[55.38592404]\n"
     ]
    }
   ],
   "source": [
    "import numpy\n",
    "from scipy.optimize import approx_fprime\n",
    "\n",
    "def task_2_func(x):\n",
    "    return numpy.tan(numpy.sin(x) + numpy.cos(2 * x + 3)) ** 2\n",
    "\n",
    "def print_diff():\n",
    "    x = 1\n",
    "    eps = numpy.sqrt(numpy.finfo(float).eps)\n",
    "    \n",
    "    print(approx_fprime(x, task_2_func, eps))\n",
    "    \n",
    "print_diff()"
   ]
  },
  {
   "cell_type": "markdown",
   "metadata": {},
   "source": [
    "### Решение на бумаге\n",
    "\n",
    "$𝑡𝑔2(𝑠𝑖𝑛(𝑥)+𝑐𝑜𝑠(2𝑥+3))$\n",
    "\n",
    "$𝑠𝑖𝑛(𝑥)+𝑐𝑜𝑠(2𝑥+3) = z$\n",
    "\n",
    "$f`(x) = 2tg(z) * (tg(z))'$\n",
    "\n",
    "$f`(x) = 2tg(z) * z' * { \n",
    "    1\n",
    "    \\over \n",
    "    cos^2(z)\n",
    "}$\n",
    "\n",
    "$f`(x) = 2tg(𝑠𝑖𝑛(𝑥)+𝑐𝑜𝑠(2𝑥+3)) * (cos(x) - 2sin(2𝑥+3)) * { \n",
    "    1\n",
    "    \\over \n",
    "    cos^2(𝑠𝑖𝑛(𝑥)+𝑐𝑜𝑠(2𝑥+3))\n",
    "}$\n",
    "\n",
    "$f`(1) = 2tg(1.125133170271123) * 2.4581508551944165 * { \n",
    "    1\n",
    "    \\over \n",
    "    cos^2(1.125133170271123)\n",
    "} = 4.186575559122887 * 2.4581508551944165 * { \n",
    "    1\n",
    "    \\over \n",
    "    0.18580958356150512\n",
    "} = 10.291234290993968 * 5.381853728061278$\n",
    "\n",
    "Ответ:\n",
    "\n",
    "$f`(1) = 55.385917635337954$\n"
   ]
  },
  {
   "cell_type": "markdown",
   "metadata": {
    "id": "T1y3_xiwjFpC"
   },
   "source": [
    "---\n",
    "\n",
    "## Задание 3"
   ]
  },
  {
   "cell_type": "markdown",
   "metadata": {
    "id": "1EyIA1IQjU7w"
   },
   "source": [
    "Дана функция с неизвестными параметрами a и b, вам также известны значения функции fx в точках x. Найдите оптимальные параметры a, b, минимизирующие абсолютную ошибку **error**."
   ]
  },
  {
   "cell_type": "code",
   "execution_count": 6,
   "metadata": {
    "id": "eoBdc8Pwjhmk"
   },
   "outputs": [],
   "source": [
    "def f(x, a, b):\n",
    "    return np.e**a * np.sin(b*x) + x"
   ]
  },
  {
   "cell_type": "code",
   "execution_count": 7,
   "metadata": {
    "id": "nftvBKK2jho9"
   },
   "outputs": [],
   "source": [
    "x = np.array([0.        , 0.26315789, 0.52631579, 0.78947368, 1.05263158,\n",
    "              1.31578947, 1.57894737, 1.84210526, 2.10526316, 2.36842105,\n",
    "              2.63157895, 2.89473684, 3.15789474, 3.42105263, 3.68421053,\n",
    "              3.94736842, 4.21052632, 4.47368421, 4.73684211, 5.        ])"
   ]
  },
  {
   "cell_type": "code",
   "execution_count": 8,
   "metadata": {
    "id": "Dk9sBWrKjhrH"
   },
   "outputs": [],
   "source": [
    "fx = np.array([  0.        , -12.01819092, -18.90968634, -17.68786571,\n",
    "                -8.7529108 ,   4.27524517,  16.06801336,  21.81250213,\n",
    "                19.22059845,   9.48411207,  -3.22273056, -13.48576488,\n",
    "               -16.91096359, -11.95866834,  -0.58630088,  12.56873816,\n",
    "                22.12489421,  24.20292139,  18.04522521,   6.33211092])"
   ]
  },
  {
   "cell_type": "code",
   "execution_count": 9,
   "metadata": {
    "id": "X_4afDeijht2"
   },
   "outputs": [
    {
     "data": {
      "image/png": "[encoded data removed]",
      "text/plain": [
       "<Figure size 432x288 with 1 Axes>"
      ]
     },
     "metadata": {
      "needs_background": "light"
     },
     "output_type": "display_data"
    }
   ],
   "source": [
    "plt.plot(x, fx)\n",
    "plt.show()"
   ]
  },
  {
   "cell_type": "code",
   "execution_count": 10,
   "metadata": {
    "id": "oXoGpFu0i-6g"
   },
   "outputs": [],
   "source": [
    "def error(params):\n",
    "    return np.sum(np.abs(fx - f(x, params[0], params[1])))"
   ]
  },
  {
   "cell_type": "markdown",
   "metadata": {},
   "source": [
    "### Решение"
   ]
  },
  {
   "cell_type": "code",
   "execution_count": 11,
   "metadata": {},
   "outputs": [
    {
     "name": "stdout",
     "output_type": "stream",
     "text": [
      "     fun: 1.5111690991886917e-06\n",
      " message: 'Optimization terminated successfully.'\n",
      "    nfev: 2073\n",
      "     nit: 66\n",
      " success: True\n",
      "       x: array([ 3. , -2.5])\n",
      "\n",
      "В точках:  [ 3.  -2.5]\n",
      "Минимальное количество ошибок:  0.0\n"
     ]
    }
   ],
   "source": [
    "import numpy\n",
    "from matplotlib import pyplot\n",
    "from scipy.optimize import differential_evolution\n",
    "\n",
    "def func(x, a, b):\n",
    "    return numpy.e ** a * numpy.sin(b * x) + x\n",
    "\n",
    "def error(params, fx, x):\n",
    "    return numpy.sum(numpy.abs(fx - func(x, params[0], params[1])))\n",
    "\n",
    "def print_error_min():\n",
    "    x = numpy.array([\n",
    "        0.        , 0.26315789, 0.52631579, 0.78947368, 1.05263158,          \n",
    "        1.31578947, 1.57894737, 1.84210526, 2.10526316, 2.36842105,          \n",
    "        2.63157895, 2.89473684, 3.15789474, 3.42105263, 3.68421053,          \n",
    "        3.94736842, 4.21052632, 4.47368421, 4.73684211, 5.        \n",
    "    ])\n",
    "    fx = numpy.array([\n",
    "          0.        , -12.01819092, -18.90968634, -17.68786571,\n",
    "         -8.7529108 ,   4.27524517,  16.06801336,  21.81250213,\n",
    "         19.22059845,   9.48411207,  -3.22273056, -13.48576488,\n",
    "        -16.91096359, -11.95866834,  -0.58630088,  12.56873816,\n",
    "         22.12489421,  24.20292139,  18.04522521,   6.33211092\n",
    "    ])\n",
    "    \n",
    "    bounds_min, bounds_max = -5, 5\n",
    "    bounds = [(bounds_min, bounds_max), (bounds_min, bounds_max)]\n",
    "\n",
    "    result = differential_evolution(\n",
    "        error, \n",
    "        bounds, \n",
    "        args=(fx, x))\n",
    "    \n",
    "    print(result)\n",
    "    \n",
    "    print('\\nВ точках: ', result.x)\n",
    "    print('Минимальное количество ошибок: ', round(error(result.x, fx, x), 3))\n",
    "    \n",
    "print_error_min()"
   ]
  },
  {
   "cell_type": "markdown",
   "metadata": {
    "id": "4AXJ_r5UjrY5"
   },
   "source": [
    "---\n",
    "\n",
    "## Задание 4"
   ]
  },
  {
   "cell_type": "markdown",
   "metadata": {
    "id": "zRnYGwhXjtQB"
   },
   "source": [
    "Создайте собственную дискретную случайную величину с 20 значениями. Сгенерируйте 1000 выборок размера 50. Посчитайте среднее для каждой выборки. Постройте гистограмму распределения средних."
   ]
  },
  {
   "cell_type": "markdown",
   "metadata": {},
   "source": [
    "### Решение"
   ]
  },
  {
   "cell_type": "code",
   "execution_count": 12,
   "metadata": {},
   "outputs": [
    {
     "name": "stdout",
     "output_type": "stream",
     "text": [
      "[89 49 16 84 50 61 86 16 78 57 35 43 89  6 15 28 87 66 71 27]\n",
      "\n",
      "\n"
     ]
    },
    {
     "data": {
      "image/png": "[encoded data removed]",
      "text/plain": [
       "<Figure size 432x288 with 1 Axes>"
      ]
     },
     "metadata": {
      "needs_background": "light"
     },
     "output_type": "display_data"
    }
   ],
   "source": [
    "import numpy\n",
    "from matplotlib import pyplot\n",
    "\n",
    "def show_ten_random_numbers():\n",
    "    print(numpy.random.randint(\n",
    "        low=0,\n",
    "        high=100,\n",
    "        size=20))\n",
    "\n",
    "def show_random_numbers():\n",
    "    total_numbers = []\n",
    "    \n",
    "    for step in range(1000):\n",
    "        numbers = numpy.random.randint(\n",
    "            low=0,\n",
    "            high=100,\n",
    "            size=50)\n",
    "        total_numbers.append(numbers.mean())\n",
    "        \n",
    "    pyplot.hist(total_numbers)\n",
    "    pyplot.show()\n",
    "    \n",
    "    \n",
    "show_ten_random_numbers()\n",
    "print('\\n')\n",
    "show_random_numbers()"
   ]
  },
  {
   "cell_type": "markdown",
   "metadata": {
    "id": "KJWpqOvPjt1E"
   },
   "source": [
    "---\n",
    "\n",
    "## Задание 5"
   ]
  },
  {
   "cell_type": "markdown",
   "metadata": {
    "id": "48ezmZDMjvIY"
   },
   "source": [
    "Найдите собственные значения и собственные вектора матрицы (на python и на бумаге):"
   ]
  },
  {
   "cell_type": "markdown",
   "metadata": {
    "id": "509GRSXskfQt"
   },
   "source": [
    "\n",
    "\n",
    "```\n",
    "m = np.array([[1, 4],\n",
    "              [1, 1]])\n",
    "print(m)\n",
    "```\n",
    "\n"
   ]
  },
  {
   "cell_type": "markdown",
   "metadata": {},
   "source": [
    "### Решение"
   ]
  },
  {
   "cell_type": "code",
   "execution_count": 13,
   "metadata": {},
   "outputs": [
    {
     "name": "stdout",
     "output_type": "stream",
     "text": [
      "Eigenvalue - 3.00\n",
      "Eigenvector - [0.89442719 0.4472136 ]\n",
      "\n",
      "Eigenvalue - -1.00\n",
      "Eigenvector - [-0.89442719  0.4472136 ]\n",
      "\n"
     ]
    }
   ],
   "source": [
    "import numpy\n",
    "\n",
    "def print_eigenvalues_eigenvectors_matrix():\n",
    "    matrix = numpy.array([[1, 4],\n",
    "                          [1, 1]])\n",
    "    \n",
    "    eigenvalues, eigenvectors =  numpy.linalg.eig(matrix)\n",
    "\n",
    "    for index in range(len(eigenvalues)):\n",
    "        print(\"Eigenvalue - {0:.2f}\".format(eigenvalues[index]))\n",
    "        print(\"Eigenvector - {}\".format(eigenvectors[:,index]))\n",
    "        print()\n",
    "\n",
    "\n",
    "print_eigenvalues_eigenvectors_matrix()"
   ]
  },
  {
   "cell_type": "markdown",
   "metadata": {},
   "source": [
    "### Решение на бумаге\n",
    "\n",
    "$\\begin{bmatrix}\n",
    "    1 & 4\\\\\n",
    "    1 & 1\n",
    " \\end{bmatrix} \\begin{bmatrix}x\\\\y\\end{bmatrix} = λ \\begin{bmatrix}x\\\\y\\end{bmatrix}$ \n",
    "\n",
    "$\\begin{bmatrix}\n",
    "    1 * x & 4 * y\\\\\n",
    "    1 * x & 1 * y\n",
    " \\end{bmatrix} = \\begin{bmatrix}x & 4y\\\\x & y\\end{bmatrix} = \\begin{bmatrix}λx\\\\λy\\end{bmatrix}$ \n",
    "\n",
    "$\\begin{equation}\n",
    "\\left\\{ \n",
    "  \\begin{aligned}\n",
    "    x + 4y = λx\\\\\n",
    "    x + y = λy\\\\\n",
    "  \\end{aligned}\n",
    "  \\right.\n",
    "\\end{equation}$\n",
    "\n",
    "$\\begin{equation}\n",
    "\\left\\{ \n",
    "  \\begin{aligned}\n",
    "    x + 4y - λx = 0\\\\\n",
    "    x + y - λy = 0\\\\\n",
    "  \\end{aligned}\n",
    "  \\right.\n",
    "\\end{equation}$\n",
    "\n",
    "$\\begin{equation}\n",
    "\\left\\{ \n",
    "  \\begin{aligned}\n",
    "    (1 - λ)x + 4y = 0\\\\\n",
    "    x + (1 - λ)y = 0\\\\\n",
    "  \\end{aligned}\n",
    "  \\right.\n",
    "\\end{equation}$\n",
    "\n",
    "$\\begin{bmatrix}1 - λ & 4\\\\1 & 1 - λ\\end{bmatrix} = 0$\n",
    "\n",
    "$(1 - λ)*(1 - λ) - 4 * 1 = 0$\n",
    "\n",
    "$λ^2 - 2λ - 3 = 0$\n",
    "\n",
    "Квадратное уравнение: $ax^2+bx+c=0$ рещается через $D=b^2-4ac$\n",
    "\n",
    "$D = 2^2 - 4 * -3 = 16$\n",
    "\n",
    "Cобственные значения:\n",
    "\n",
    "$λ1 = (2 - 4) / 2 = -1$\n",
    "\n",
    "$λ2 = (2 + 4) / 2 = 3$"
   ]
  },
  {
   "cell_type": "markdown",
   "metadata": {},
   "source": [
    "---\n",
    "\n",
    "собственный вектор λ1:\n",
    "\n",
    "$\\begin{bmatrix}\n",
    "    1 - λ & 4\\\\\n",
    "    1 & 1 - λ\n",
    "\\end{bmatrix} = 0$ \n",
    "\n",
    "$λ1 = -1$\n",
    "\n",
    "$\\begin{bmatrix}\n",
    "    2 & 4\\\\\n",
    "    1 & 2\n",
    "\\end{bmatrix} = 0$ \n",
    "\n",
    "$\\begin{equation}\n",
    "\\left\\{ \n",
    "  \\begin{aligned}\n",
    "    2x + 4y = 0\\\\\n",
    "    x + 2y = 0\\\\\n",
    "  \\end{aligned}\n",
    "  \\right.\n",
    "\\end{equation}$\n",
    "\n",
    "x = 2, y = -1\n",
    "\n",
    "$\\begin{bmatrix}\n",
    "    2\\\\\n",
    "    -1\n",
    "\\end{bmatrix}$\n",
    "\n",
    "\n",
    "собственный вектор λ2:\n",
    "\n",
    "$λ2 = 3$\n",
    "\n",
    "$\\begin{bmatrix}\n",
    "    -2 & 4\\\\\n",
    "    1 & -2\n",
    "\\end{bmatrix} = 0$ \n",
    "\n",
    "$\\begin{equation}\n",
    "\\left\\{ \n",
    "  \\begin{aligned}\n",
    "    -2x + 4y = 0\\\\\n",
    "    x - 2y = 0\\\\\n",
    "  \\end{aligned}\n",
    "  \\right.\n",
    "\\end{equation}$\n",
    "\n",
    "x = 2, y = -1\n",
    "\n",
    "$\\begin{bmatrix}\n",
    "    2\\\\\n",
    "    -1\n",
    "\\end{bmatrix}$"
   ]
  }
 ],
 "metadata": {
  "colab": {
   "name": "HW_X",
   "provenance": []
  },
  "kernelspec": {
   "display_name": "Python 3",
   "language": "python",
   "name": "python3"
  },
  "language_info": {
   "codemirror_mode": {
    "name": "ipython",
    "version": 3
   },
   "file_extension": ".py",
   "mimetype": "text/x-python",
   "name": "python",
   "nbconvert_exporter": "python",
   "pygments_lexer": "ipython3",
   "version": "3.9.1"
  }
 },
 "nbformat": 4,
 "nbformat_minor": 4
}
