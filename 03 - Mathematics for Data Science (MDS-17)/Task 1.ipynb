{
 "cells": [
  {
   "cell_type": "markdown",
   "metadata": {
    "pycharm": {
     "name": "#%% md\n"
    }
   },
   "source": [
    "# Домашнее задание \"Линейная алгебра. Векторы\".\n",
    "\n",
    "Даны вектора x = (1,1), y = (2, 0) и z = (0,2)\n",
    "\n",
    "Надо:\n",
    "- Изобразить вектора на экране\n",
    "- Изобразить точку x + y + z\n",
    "- Найти угол между векторами x и y"
   ]
  },
  {
   "cell_type": "code",
   "execution_count": 1,
   "metadata": {
    "collapsed": false,
    "jupyter": {
     "outputs_hidden": false
    },
    "pycharm": {
     "name": "#%%\n"
    }
   },
   "outputs": [],
   "source": [
    "import numpy\n",
    "import matplotlib.pyplot as pyplot\n",
    "\n",
    "vector_x = numpy.array([1, 1])\n",
    "vector_y = numpy.array([2, 0])\n",
    "vector_z = numpy.array([0, 2])\n",
    "\n",
    "def setupPyplot():\n",
    "    ''' Настраивает pyplot для показа веторов '''\n",
    "    pyplot.xlim(-0.5, 5)\n",
    "    pyplot.ylim(-0.5, 5)\n",
    "    pyplot.grid()"
   ]
  },
  {
   "cell_type": "markdown",
   "metadata": {},
   "source": [
    "### Изобразить вектора на экране"
   ]
  },
  {
   "cell_type": "code",
   "execution_count": 2,
   "metadata": {
    "collapsed": false,
    "jupyter": {
     "outputs_hidden": false
    },
    "pycharm": {
     "name": "#%%\n"
    }
   },
   "outputs": [
    {
     "data": {
      "image/png": "[encoded data removed]",
      "text/plain": [
       "<Figure size 432x288 with 1 Axes>"
      ]
     },
     "metadata": {
      "needs_background": "light"
     },
     "output_type": "display_data"
    }
   ],
   "source": [
    "def showVectors():\n",
    "    ''' Показывает ветора x, y, z '''\n",
    "    for vector in [vector_x,  vector_y, vector_z]:\n",
    "        pyplot.quiver(\n",
    "            vector[0], vector[1],\n",
    "            angles='xy',\n",
    "            scale_units='xy',\n",
    "            scale=1)\n",
    "    pyplot.show()\n",
    "\n",
    "setupPyplot()\n",
    "showVectors()"
   ]
  },
  {
   "cell_type": "markdown",
   "metadata": {},
   "source": [
    "### Изобразить точку x + y + z"
   ]
  },
  {
   "cell_type": "code",
   "execution_count": 3,
   "metadata": {
    "collapsed": false,
    "jupyter": {
     "outputs_hidden": false
    },
    "pycharm": {
     "name": "#%%\n"
    }
   },
   "outputs": [
    {
     "data": {
      "image/png": "[encoded data removed]",
      "text/plain": [
       "<Figure size 432x288 with 1 Axes>"
      ]
     },
     "metadata": {
      "needs_background": "light"
     },
     "output_type": "display_data"
    }
   ],
   "source": [
    "def showVectorsSum():\n",
    "    ''' Показывает сумму веторов x, y, z '''\n",
    "    vector = vector_x + vector_y + vector_z\n",
    "    pyplot.quiver(\n",
    "        vector[0], vector[1],\n",
    "        angles='xy',\n",
    "        scale_units='xy',\n",
    "        scale=1)\n",
    "    pyplot.show()\n",
    "\n",
    "setupPyplot()\n",
    "showVectorsSum()"
   ]
  },
  {
   "cell_type": "markdown",
   "metadata": {},
   "source": [
    "### Найти угол между векторами x и y"
   ]
  },
  {
   "cell_type": "code",
   "execution_count": 4,
   "metadata": {
    "collapsed": false,
    "jupyter": {
     "outputs_hidden": false
    },
    "pycharm": {
     "name": "#%%\n"
    }
   },
   "outputs": [
    {
     "data": {
      "text/plain": [
       "0.7071067811865475"
      ]
     },
     "execution_count": 4,
     "metadata": {},
     "output_type": "execute_result"
    }
   ],
   "source": [
    "def angle_xy():\n",
    "    '''\n",
    "    Находит уго между веторомами x и y\n",
    "\n",
    "    :return: Угол веторов\n",
    "    '''\n",
    "    scalar_xy = numpy.dot(vector_x, vector_y)\n",
    "    module_x = (vector_x[0] ** 2 + vector_x[1] ** 2) ** 0.5\n",
    "    module_y = (vector_y[0] ** 2 + vector_y[1] ** 2) ** 0.5\n",
    "\n",
    "    return scalar_xy / (module_x * module_y)\n",
    "\n",
    "angle_xy()"
   ]
  }
 ],
 "metadata": {
  "kernelspec": {
   "display_name": "Python 3",
   "language": "python",
   "name": "python3"
  },
  "language_info": {
   "codemirror_mode": {
    "name": "ipython",
    "version": 3
   },
   "file_extension": ".py",
   "mimetype": "text/x-python",
   "name": "python",
   "nbconvert_exporter": "python",
   "pygments_lexer": "ipython3",
   "version": "3.9.1"
  }
 },
 "nbformat": 4,
 "nbformat_minor": 4
}
