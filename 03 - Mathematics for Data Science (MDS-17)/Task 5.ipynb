{
  "cells":[
    {
      "cell_type":"markdown",
      "source":[
        "# Домашнее задание \"Производная функции нескольких аргументов\"."
      ],
      "attachments":{
        
      },
      "metadata":{
        
      }
    },
    {
      "cell_type":"markdown",
      "source":[
        "## Уровень 0:\n",
        "Посчитайте частные производные функций:\n",
        "\n",
        "1) $f(x,y)=2x^2y^3 + 1\/x + y^2x + 7$, а для этой функции также градиент в точке $(1,2)$\n",
        "\n",
        "2) $f(x,y)=x^2y - sin(xy) + cos(x^2) + 6y$"
      ],
      "attachments":{
        
      },
      "metadata":{
        
      }
    },
    {
      "cell_type":"markdown",
      "source":[
        "## Решение"
      ],
      "attachments":{
        
      },
      "metadata":{
        
      }
    },
    {
      "cell_type":"markdown",
      "source":[
        "1) $f(x,y) = 2x^2y^3 + 1\/x + y^2x + 7$\n",
        "\n",
        "$f'x(x,y) = 2x^2y^3 + 1\/x + y^2x + 7 = 4xy^3 - 1\/x^2 + y^2$\n",
        "\n",
        "$f'y(x,y) = 2x^2y^3 + 1\/x + y^2x + 7 = 6x^2y^2 + 2y$\n",
        "\n",
        " Градиент в точке  $(1,2)$:\n",
        "\n",
        "$f'x(1,2) = 4 * 1 * 2^3 - 1\/1^2 + 2^2 = 4 * 8 - 1 + 4 = 35$\n",
        "\n",
        "$f'y(1,2) = 6 * 1^2 * 2^2 + 2 * 2 = 24 + 4 = 28$"
      ],
      "attachments":{
        
      },
      "metadata":{
        
      }
    },
    {
      "cell_type":"markdown",
      "source":[
        "2) $f(x,y) = x^2y - sin(xy) + cos(x^2) + 6y$\n",
        "\n",
        "$f'x(x,y)=x^2y - sin(xy) + cos(x^2) + 6y = 2xy - y * cos(xy) - 2sin(x^2)$\n",
        "\n",
        "$f'y(x,y)=x^2y - sin(xy) + cos(x^2) + 6y = x^2 - x * cos(xy) - 6$"
      ],
      "attachments":{
        
      },
      "metadata":{
        
      }
    },
    {
      "cell_type":"markdown",
      "source":[
        "## Уровень 1:\n",
        "\n",
        "Градиентный спуск своими руками"
      ],
      "attachments":{
        
      },
      "metadata":{
        
      }
    },
    {
      "cell_type":"markdown",
      "source":[
        "## Решение"
      ],
      "attachments":{
        
      },
      "metadata":{
        
      }
    },
    {
      "cell_type":"code",
      "source":[
        "import numpy\n",
        "from scipy.optimize import approx_fprime\n",
        "from scipy.optimize import minimize"
      ],
      "execution_count":1,
      "outputs":[
        
      ],
      "metadata":{
        
      }
    },
    {
      "cell_type":"code",
      "source":[
        "x_values = numpy.array([100, 200])\n",
        "learning_rate = 0.1"
      ],
      "execution_count":2,
      "outputs":[
        
      ],
      "metadata":{
        
      }
    },
    {
      "cell_type":"code",
      "source":[
        "def func_x(values):\n",
        "    return (values[0] ** 2) + (values[1] ** 2)\n",
        "\n",
        "def print_gradient_for(values, learning_rate):\n",
        "\n",
        "    eps = numpy.sqrt(numpy.finfo(float).eps)\n",
        "\n",
        "    for i in range(100):\n",
        "        # Calculate gradient\n",
        "        gradient = approx_fprime(values, func_x, [eps, eps])\n",
        "\n",
        "        # Update x with gradient\n",
        "        values = values - gradient * learning_rate\n",
        "\n",
        "    round_values = map(lambda value: round(value, 3), values)\n",
        "    print(\"Минимум достигается в: \", list(round_values))\n",
        "    print(\"Значение функции в минимуме: \", round(func_x(values), 3))\n",
        "    \n",
        "print_gradient_for(\n",
        "    values=x_values,\n",
        "    learning_rate=learning_rate)"
      ],
      "execution_count":3,
      "outputs":[
        {
          "name":"stdout",
          "text":[
            "Минимум достигается в:  [0.0, 0.0]\n",
            "Значение функции в минимуме:  0.0\n"
          ],
          "output_type":"stream"
        }
      ],
      "metadata":{
        
      }
    },
    {
      "cell_type":"markdown",
      "source":[
        "\n",
        "Проверка с помощью встроенной функции numpy:"
      ],
      "attachments":{
        
      },
      "metadata":{
        
      }
    },
    {
      "cell_type":"code",
      "source":[
        "\n",
        "res = minimize(func_x, x_values, method = 'nelder-mead', options = {'xtol':1e-6, 'disp':True })\n",
        "\n",
        "print('Значение функции в минимуме:', round(res['fun'], 6))"
      ],
      "execution_count":4,
      "outputs":[
        {
          "name":"stdout",
          "text":[
            "Optimization terminated successfully.\n",
            "         Current function value: 0.000000\n",
            "         Iterations: 72\n",
            "         Function evaluations: 138\n",
            "Значение функции в минимуме: 0.0\n"
          ],
          "output_type":"stream"
        }
      ],
      "metadata":{
        
      }
    }
  ],
  "metadata":{
    
  },
  "nbformat":4,
  "nbformat_minor":0
}