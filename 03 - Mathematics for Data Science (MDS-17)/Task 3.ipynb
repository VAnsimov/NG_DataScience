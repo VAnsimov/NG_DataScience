{
 "cells": [
  {
   "cell_type": "markdown",
   "source": [
    "\n",
    "# Домашнее задание \"Продвинутая линейная алгебра\""
   ],
   "attachments": {},
   "metadata": {}
  },
  {
   "cell_type": "markdown",
   "source": [
    "\n",
    "## Уровень 0:\n",
    "\n",
    "Придумайте матрицы, которые обладают следующими свойствами:\n",
    "\n",
    "a) Диагональная, ортогональная, но не единичная(!)\n",
    "\n",
    "b) Верхнетреугольная, ортогональная\n",
    "\n",
    "c) Нижнетреугольная, ортогональная\n",
    "\n",
    "d) Матрица, у которой определитель = 1, и все элементы не равны 0\n",
    "\n",
    "P.S. Во всех пунктах ответом должна быть ненулевая матрица размерности не менее 2!\n",
    "Найдите собственные значения и собственные вектора матриц:\n",
    "\n",
    "```python\n",
    "m = np.array([[2, 2],\n",
    "              [1, 3]])\n",
    "print(m)\n",
    "```"
   ],
   "attachments": {},
   "metadata": {}
  },
  {
   "cell_type": "markdown",
   "source": [
    "## Решение"
   ],
   "attachments": {},
   "metadata": {}
  },
  {
   "cell_type": "code",
   "source": [
    "import numpy\n",
    "from matplotlib import pyplot\n",
    "from sklearn.datasets import load_digits\n",
    "from sklearn.decomposition import PCA\n",
    "from sklearn.metrics import mean_squared_error"
   ],
   "execution_count": 1,
   "outputs": [],
   "metadata": {}
  },
  {
   "cell_type": "markdown",
   "source": [
    "### a) Диагональная, ортогональная, но не единичная(!)"
   ],
   "attachments": {},
   "metadata": {}
  },
  {
   "cell_type": "code",
   "source": [
    "def print_matrix():\n",
    "    matrix = numpy.array([[1, 0, 0],\n",
    "                          [0, -1, 0],\n",
    "                          [0, 0, 1]])\n",
    "    transpose_matrix = matrix.transpose()\n",
    "\n",
    "    print('Q:\\n', matrix)\n",
    "    print('\\n')\n",
    "    print('Qᵀ*Q = Е:\\n',transpose_matrix @ matrix)\n",
    "\n",
    "print_matrix()"
   ],
   "execution_count": 2,
   "outputs": [
    {
     "name": "stdout",
     "output_type": "stream",
     "text": [
      "Q:\n",
      " [[ 1  0  0]\n",
      " [ 0 -1  0]\n",
      " [ 0  0  1]]\n",
      "\n",
      "\n",
      "Qᵀ*Q = Е:\n",
      " [[1 0 0]\n",
      " [0 1 0]\n",
      " [0 0 1]]\n"
     ]
    }
   ],
   "metadata": {}
  },
  {
   "cell_type": "markdown",
   "source": [
    "### b) Верхнетреугольная, ортогональная\n",
    "### c) Нижнетреугольная, ортогональная\n",
    "\n",
    "Ответ:\n",
    "\n",
    "Кажется что такой матрицы нет, она будет диагональной, но не треугольной"
   ],
   "attachments": {},
   "metadata": {}
  },
  {
   "cell_type": "markdown",
   "source": [
    "### с) Матрица, у которой определитель = 1, и все элементы не равны 0"
   ],
   "attachments": {},
   "metadata": {}
  },
  {
   "cell_type": "code",
   "source": [
    "def print_matrix_with_dot_one():\n",
    "    matrix = numpy.array([[5, 3], [3, 2]])\n",
    "    determinant = numpy.linalg.det(matrix)\n",
    "\n",
    "    print('matrix:\\n', matrix)\n",
    "    print()\n",
    "    print('determinant: {0:.2f}'.format(determinant))\n",
    "\n",
    "print_matrix_with_dot_one()"
   ],
   "execution_count": 3,
   "outputs": [
    {
     "name": "stdout",
     "output_type": "stream",
     "text": [
      "matrix:\n",
      " [[5 3]\n",
      " [3 2]]\n",
      "\n",
      "determinant: 1.00\n"
     ]
    }
   ],
   "metadata": {}
  },
  {
   "cell_type": "markdown",
   "source": [
    "### Найдите собственные значения и собственные вектора матриц:"
   ],
   "attachments": {},
   "metadata": {}
  },
  {
   "cell_type": "code",
   "source": [
    "def print_eigenvalues_eigenvectors_matrix():\n",
    "    matrix = numpy.array([[-3,  3,  2],\n",
    "                          [ 1, -1, -2],\n",
    "                          [-1, -3,  0]])\n",
    "    \n",
    "    eigenvalues, eigenvectors =  numpy.linalg.eig(matrix)\n",
    "\n",
    "    for index in range(len(eigenvalues)):\n",
    "        print(\"Eigenvalue - {0:.2f}\".format(eigenvalues[index]))\n",
    "        print(\"Eigenvector - {}\".format(eigenvectors[:,index]))\n",
    "        print()\n",
    "\n",
    "\n",
    "print_eigenvalues_eigenvectors_matrix()"
   ],
   "execution_count": 4,
   "outputs": [
    {
     "name": "stdout",
     "output_type": "stream",
     "text": [
      "Eigenvalue - 2.00\n",
      "Eigenvector - [-2.01878445e-16  5.54700196e-01 -8.32050294e-01]\n",
      "\n",
      "Eigenvalue - -4.00\n",
      "Eigenvector - [ 9.48683298e-01 -3.16227766e-01  2.73252305e-17]\n",
      "\n",
      "Eigenvalue - -2.00\n",
      "Eigenvector - [ 8.94427191e-01 -4.24630503e-16  4.47213595e-01]\n",
      "\n"
     ]
    }
   ],
   "metadata": {}
  },
  {
   "cell_type": "markdown",
   "source": [
    "## Уровень 1:\n",
    "\n",
    "Найдите спектральное разложение матрицы:\n",
    "```python\n",
    "m = np.array([[1, 2],\n",
    "              [2,3]])\n",
    "print(m)\n",
    "```\n",
    "\n",
    "Постройте зависимость качества восстановления рукописных цифр (MNIST) в зависимости от различного количества компонент PCA. В качестве метрики различия предлагаю использовать MSE.*\n",
    "\n",
    "----\n",
    "\n",
    "У PCA есть метод transform и inverse_transofrm. Первый - снижает размерность, второй - восстанавливает оригинальные данные с потерей информации. Надо посчитать насколько в среднем точно восстанавливается оригинальная картинка в зависимости от количества компонент в PCA."
   ],
   "attachments": {},
   "metadata": {}
  },
  {
   "cell_type": "markdown",
   "source": [
    "## Решение"
   ],
   "attachments": {},
   "metadata": {}
  },
  {
   "cell_type": "markdown",
   "source": [
    "### Найдите спектральное разложение матрицы:\n",
    "\n",
    "```python\n",
    "m = np.array([[1, 2],\n",
    "              [2,3]])\n",
    "print(m)\n",
    "```"
   ],
   "attachments": {},
   "metadata": {}
  },
  {
   "cell_type": "code",
   "source": [
    "def make_diagonal_matrix(matrix):\n",
    "    eigenvalues, _ = numpy.linalg.eig(matrix)\n",
    "    diagonal_value = []\n",
    "\n",
    "    for line_index in range(matrix.shape[0]):\n",
    "        line_values = []\n",
    "        for item_index in range(matrix.shape[1]):\n",
    "            if line_index == item_index:\n",
    "                line_values.append(eigenvalues[line_index])\n",
    "            else:\n",
    "                line_values.append(0.0)\n",
    "        diagonal_value.append(line_values)\n",
    "\n",
    "    return numpy.array(diagonal_value)\n",
    "\n",
    "def spectral_decomposition_matrix():\n",
    "    matrix = numpy.array([[1,  2, 3],\n",
    "                          [2, 3, 3],\n",
    "                          [2, 3, 3]])\n",
    "    \n",
    "    print('Original matrix:\\n', matrix)\n",
    "    \n",
    "    print()\n",
    "    \n",
    "    _, eigenvectors = numpy.linalg.eig(matrix)\n",
    "    print('𝙑:\\n', eigenvectors, '\\n')\n",
    "\n",
    "    diagonal_matrix = make_diagonal_matrix(matrix)\n",
    "    print('𝞚:\\n', diagonal_matrix, '\\n')\n",
    "\n",
    "    inv_matrix = numpy.linalg.inv(eigenvectors)\n",
    "    print('𝙑¯¹:\\n', inv_matrix, '\\n')\n",
    "    \n",
    "    print('A = 𝙑𝞚𝙑¯¹')\n",
    "    print(eigenvectors @ diagonal_matrix @ inv_matrix)\n",
    "\n",
    "spectral_decomposition_matrix()"
   ],
   "execution_count": 5,
   "outputs": [
    {
     "name": "stdout",
     "output_type": "stream",
     "text": [
      "Original matrix:\n",
      " [[1 2 3]\n",
      " [2 3 3]\n",
      " [2 3 3]]\n",
      "\n",
      "𝙑:\n",
      " [[-0.91764422  0.47605817  0.6882472 ]\n",
      " [ 0.28100631  0.62183946 -0.6882472 ]\n",
      " [ 0.28100631  0.62183946  0.22941573]] \n",
      "\n",
      "𝞚:\n",
      " [[-0.53112887  0.          0.        ]\n",
      " [ 0.          7.53112887  0.        ]\n",
      " [ 0.          0.          0.        ]] \n",
      "\n",
      "𝙑¯¹:\n",
      " [[-8.82789672e-01 -4.93134160e-01  1.16896654e+00]\n",
      " [ 3.98928481e-01  6.24878025e-01  6.77848634e-01]\n",
      " [ 2.34435323e-17 -1.08972474e+00  1.08972474e+00]] \n",
      "\n",
      "A = 𝙑𝞚𝙑¯¹\n",
      "[[1. 2. 3.]\n",
      " [2. 3. 3.]\n",
      " [2. 3. 3.]]\n"
     ]
    }
   ],
   "metadata": {}
  },
  {
   "cell_type": "markdown",
   "source": [
    "### Постройте зависимость качества восстановления рукописных цифр (MNIST) в зависимости от различного количества компонент PCA. В качестве метрики различия предлагаю использовать MSE.*"
   ],
   "attachments": {},
   "metadata": {}
  },
  {
   "cell_type": "code",
   "source": [
    "def show_graph():\n",
    "    digits = load_digits()\n",
    "    images = digits.images\n",
    "    mean_squared_errors = []\n",
    "    components = []\n",
    "    \n",
    "    for number in images:\n",
    "        for component_count in range(1, 9):\n",
    "            pca = PCA(n_components=component_count)\n",
    "            number_reduced = pca.fit_transform(number)\n",
    "            original_data = pca.inverse_transform(number_reduced)\n",
    "\n",
    "            mse = mean_squared_error(number, original_data)\n",
    "            mean_squared_errors.append(mse)\n",
    "            components.append(component_count)\n",
    "\n",
    "    pyplot.xlabel('n_components')\n",
    "    pyplot.ylabel('mse')\n",
    "    pyplot.bar(components, mean_squared_errors)\n",
    "\n",
    "\n",
    "show_graph()"
   ],
   "execution_count": 6,
   "outputs": [
    {
     "data": {
      "text/plain": "<Figure size 432x288 with 1 Axes>",
      "image/png": "[encoded data removed]"
     },
     "metadata": {
      "needs_background": "light"
     },
     "output_type": "display_data"
    }
   ],
   "metadata": {}
  }
 ],
 "metadata": {},
 "nbformat": 4,
 "nbformat_minor": 0
}