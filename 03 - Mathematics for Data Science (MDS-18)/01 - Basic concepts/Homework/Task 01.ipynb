{
 "cells": [
  {
   "cell_type": "markdown",
   "id": "52635faf",
   "metadata": {},
   "source": [
    "# Основные понятия\n",
    "\n",
    "Даны векторы x = (1,1), y = (2, 0) и z = (0,2)\n",
    "\n",
    "Необходимо в Python:\n",
    "- Изобразить векторы на экране\n",
    "- Изобразить точку x + y + z\n",
    "- Найти угол между векторами x и y\n"
   ]
  },
  {
   "cell_type": "markdown",
   "id": "a3bbbad4",
   "metadata": {},
   "source": [
    "# Решение"
   ]
  },
  {
   "cell_type": "code",
   "execution_count": 1,
   "id": "0426ce98",
   "metadata": {},
   "outputs": [],
   "source": [
    "import numpy\n",
    "from matplotlib import pyplot"
   ]
  },
  {
   "cell_type": "code",
   "execution_count": 2,
   "id": "1eff2864",
   "metadata": {},
   "outputs": [],
   "source": [
    "x = numpy.array([1, 1])\n",
    "y = numpy.array([2, 0])\n",
    "z = numpy.array([0, 2])"
   ]
  },
  {
   "cell_type": "code",
   "execution_count": 3,
   "id": "2f8fa380",
   "metadata": {},
   "outputs": [],
   "source": [
    "def setupPyplot():\n",
    "    ''' Настраивает pyplot для показа веторов '''\n",
    "    pyplot.xlim(-0.5, 5)\n",
    "    pyplot.ylim(-0.5, 5)\n",
    "    pyplot.grid()\n",
    "\n",
    "def show_vectors(vectors):\n",
    "    '''Строит нрафик для массива векторов'''\n",
    "    for vector in vectors:\n",
    "        pyplot.scatter(vector[0], vector[1])\n",
    "    pyplot.show()"
   ]
  },
  {
   "cell_type": "markdown",
   "id": "4211151a",
   "metadata": {},
   "source": [
    "Изобразить векторы на экране"
   ]
  },
  {
   "cell_type": "code",
   "execution_count": 4,
   "id": "4b07bf93",
   "metadata": {},
   "outputs": [
    {
     "data": {
      "image/png": "[encoded data removed]",
      "text/plain": [
       "<Figure size 432x288 with 1 Axes>"
      ]
     },
     "metadata": {
      "needs_background": "light"
     },
     "output_type": "display_data"
    }
   ],
   "source": [
    "setupPyplot()\n",
    "show_vectors([x, y, z])"
   ]
  },
  {
   "cell_type": "markdown",
   "id": "5957c7f3",
   "metadata": {},
   "source": [
    "Изобразить точку x + y + z"
   ]
  },
  {
   "cell_type": "code",
   "execution_count": 5,
   "id": "9650b123",
   "metadata": {},
   "outputs": [
    {
     "data": {
      "image/png": "[encoded data removed]",
      "text/plain": [
       "<Figure size 432x288 with 1 Axes>"
      ]
     },
     "metadata": {
      "needs_background": "light"
     },
     "output_type": "display_data"
    }
   ],
   "source": [
    "setupPyplot()\n",
    "show_vectors([x + y + z])"
   ]
  },
  {
   "cell_type": "markdown",
   "id": "d04bdc24",
   "metadata": {},
   "source": [
    "Найти угол между векторами x и y"
   ]
  },
  {
   "cell_type": "code",
   "execution_count": 6,
   "id": "d86e6371",
   "metadata": {},
   "outputs": [
    {
     "data": {
      "text/plain": [
       "45.00000000000001"
      ]
     },
     "execution_count": 6,
     "metadata": {},
     "output_type": "execute_result"
    }
   ],
   "source": [
    "def get_angel(x, y):\n",
    "    cos = numpy.dot(x, y) / (numpy.linalg.norm(x) * numpy.linalg.norm(y))\n",
    "    arccos = numpy.arccos(cos)\n",
    "    return numpy.rad2deg(arccos)\n",
    "\n",
    "get_angel(x, y)"
   ]
  },
  {
   "cell_type": "code",
   "execution_count": null,
   "id": "999f9f00",
   "metadata": {},
   "outputs": [],
   "source": []
  }
 ],
 "metadata": {
  "kernelspec": {
   "display_name": "Python 3",
   "language": "python",
   "name": "python3"
  },
  "language_info": {
   "codemirror_mode": {
    "name": "ipython",
    "version": 3
   },
   "file_extension": ".py",
   "mimetype": "text/x-python",
   "name": "python",
   "nbconvert_exporter": "python",
   "pygments_lexer": "ipython3",
   "version": "3.9.1"
  }
 },
 "nbformat": 4,
 "nbformat_minor": 5
}
