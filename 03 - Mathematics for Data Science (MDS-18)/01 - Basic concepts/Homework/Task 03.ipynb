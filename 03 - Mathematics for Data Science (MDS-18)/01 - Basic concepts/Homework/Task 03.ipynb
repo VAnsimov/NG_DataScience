{
 "cells": [
  {
   "cell_type": "markdown",
   "id": "88cf30c8",
   "metadata": {},
   "source": [
    "# Основные понятия\n",
    "\n",
    "Необходимо в Python:\n",
    "\n",
    "$f(x) = 3x(x^2 + x)^3$\n",
    "\n",
    "- Посчитайте значение первой и второй производной функции в точке x = 1"
   ]
  },
  {
   "cell_type": "markdown",
   "id": "0562ab9c",
   "metadata": {},
   "source": [
    "# Решение"
   ]
  },
  {
   "cell_type": "code",
   "execution_count": 1,
   "id": "321a8315",
   "metadata": {},
   "outputs": [],
   "source": [
    "import sympy\n",
    "\n",
    "x = sympy.Symbol('x')\n",
    "\n",
    "one_func = sympy.diff(3 * x * (x ** 2 + x) ** 3, x, 1)\n",
    "two_func = sympy.diff(3 * x * (x ** 2 + x) ** 3, x, 2)"
   ]
  },
  {
   "cell_type": "code",
   "execution_count": 2,
   "id": "d8c30524",
   "metadata": {},
   "outputs": [
    {
     "data": {
      "text/latex": [
       "$\\displaystyle 3 x \\left(6 x + 3\\right) \\left(x^{2} + x\\right)^{2} + 3 \\left(x^{2} + x\\right)^{3}$"
      ],
      "text/plain": [
       "3*x*(6*x + 3)*(x**2 + x)**2 + 3*(x**2 + x)**3"
      ]
     },
     "execution_count": 2,
     "metadata": {},
     "output_type": "execute_result"
    }
   ],
   "source": [
    "one_func"
   ]
  },
  {
   "cell_type": "code",
   "execution_count": 3,
   "id": "5dc1fc29",
   "metadata": {},
   "outputs": [
    {
     "data": {
      "text/latex": [
       "$\\displaystyle 132$"
      ],
      "text/plain": [
       "132"
      ]
     },
     "execution_count": 3,
     "metadata": {},
     "output_type": "execute_result"
    }
   ],
   "source": [
    "one_func.subs(x, 1)"
   ]
  },
  {
   "cell_type": "code",
   "execution_count": 4,
   "id": "68cd0c6b",
   "metadata": {},
   "outputs": [
    {
     "data": {
      "text/latex": [
       "$\\displaystyle 18 x^{2} \\left(x + 1\\right) \\left(x \\left(x + 1\\right) + \\left(x + 1\\right) \\left(2 x + 1\\right) + \\left(2 x + 1\\right)^{2}\\right)$"
      ],
      "text/plain": [
       "18*x**2*(x + 1)*(x*(x + 1) + (x + 1)*(2*x + 1) + (2*x + 1)**2)"
      ]
     },
     "execution_count": 4,
     "metadata": {},
     "output_type": "execute_result"
    }
   ],
   "source": [
    "two_func"
   ]
  },
  {
   "cell_type": "code",
   "execution_count": 5,
   "id": "608384f0",
   "metadata": {},
   "outputs": [
    {
     "data": {
      "text/latex": [
       "$\\displaystyle 612$"
      ],
      "text/plain": [
       "612"
      ]
     },
     "execution_count": 5,
     "metadata": {},
     "output_type": "execute_result"
    }
   ],
   "source": [
    "two_func.subs(x, 1)"
   ]
  }
 ],
 "metadata": {
  "kernelspec": {
   "display_name": "Python 3",
   "language": "python",
   "name": "python3"
  },
  "language_info": {
   "codemirror_mode": {
    "name": "ipython",
    "version": 3
   },
   "file_extension": ".py",
   "mimetype": "text/x-python",
   "name": "python",
   "nbconvert_exporter": "python",
   "pygments_lexer": "ipython3",
   "version": "3.9.1"
  }
 },
 "nbformat": 4,
 "nbformat_minor": 5
}
