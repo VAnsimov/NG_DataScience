{
 "cells": [
  {
   "cell_type": "markdown",
   "id": "89626575",
   "metadata": {},
   "source": [
    "# Основные понятия\n",
    "\n",
    "Необходимо в Python:\n",
    "\n",
    "- Создайте матрицу 3 на 3, заполненную числами от 1 до 9\n",
    "- Прибавьте к ней матрицу с единицами на диагонали \n",
    "- Умножьте полученную матрицу на вектор (1, 2, 3)"
   ]
  },
  {
   "cell_type": "markdown",
   "id": "006817ca",
   "metadata": {},
   "source": [
    "# Решение"
   ]
  },
  {
   "cell_type": "code",
   "execution_count": 1,
   "id": "85572752",
   "metadata": {},
   "outputs": [],
   "source": [
    "import numpy"
   ]
  },
  {
   "cell_type": "markdown",
   "id": "8f7cf904",
   "metadata": {},
   "source": [
    "Создайте матрицу 3 на 3, заполненную числами от 1 до 9"
   ]
  },
  {
   "cell_type": "code",
   "execution_count": 2,
   "id": "fdd26ff5",
   "metadata": {},
   "outputs": [],
   "source": [
    "matrix = numpy.array([\n",
    "    [1, 2, 3],\n",
    "    [4, 5, 6],\n",
    "    [7, 8, 9]\n",
    "])"
   ]
  },
  {
   "cell_type": "markdown",
   "id": "cc8c836b",
   "metadata": {},
   "source": [
    "Прибавьте к ней матрицу с единицами на диагонали"
   ]
  },
  {
   "cell_type": "code",
   "execution_count": 3,
   "id": "708b5e9a",
   "metadata": {},
   "outputs": [],
   "source": [
    "matrix = matrix + numpy.eye(3)"
   ]
  },
  {
   "cell_type": "markdown",
   "id": "985de0fe",
   "metadata": {},
   "source": [
    "Умножьте полученную матрицу на вектор (1, 2, 3)"
   ]
  },
  {
   "cell_type": "code",
   "execution_count": 4,
   "id": "9724731f",
   "metadata": {},
   "outputs": [
    {
     "data": {
      "text/plain": [
       "array([15., 34., 53.])"
      ]
     },
     "execution_count": 4,
     "metadata": {},
     "output_type": "execute_result"
    }
   ],
   "source": [
    "vector = numpy.array([1, 2, 3])\n",
    "\n",
    "numpy.dot(matrix, vector)"
   ]
  },
  {
   "cell_type": "code",
   "execution_count": null,
   "id": "0e3a060f",
   "metadata": {},
   "outputs": [],
   "source": []
  }
 ],
 "metadata": {
  "kernelspec": {
   "display_name": "Python 3",
   "language": "python",
   "name": "python3"
  },
  "language_info": {
   "codemirror_mode": {
    "name": "ipython",
    "version": 3
   },
   "file_extension": ".py",
   "mimetype": "text/x-python",
   "name": "python",
   "nbconvert_exporter": "python",
   "pygments_lexer": "ipython3",
   "version": "3.9.1"
  }
 },
 "nbformat": 4,
 "nbformat_minor": 5
}
