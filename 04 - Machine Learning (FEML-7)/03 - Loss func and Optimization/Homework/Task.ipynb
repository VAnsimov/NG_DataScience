{
 "cells": [
  {
   "cell_type": "markdown",
   "id": "790cb8f2",
   "metadata": {},
   "source": [
    "# Задание \"Функции потерь и оптимизация\"\n",
    "\n",
    "- Реализовать самостоятельно логистическую регрессию\n",
    "- Обучить ее методом градиентного спуска\n",
    "- Методом nesterov momentum\n",
    "- Методом rmsprop\n",
    "\n",
    "**Дополнительное задание***\n",
    "\n",
    "*В качестве dataset’а взять Iris, оставив 2 класса:*\n",
    "- *Iris Versicolor*\n",
    "- *Iris Virginica*"
   ]
  },
  {
   "cell_type": "markdown",
   "id": "1b6375e9",
   "metadata": {},
   "source": [
    "## Решение"
   ]
  },
  {
   "cell_type": "code",
   "execution_count": 1,
   "id": "56dcfce9",
   "metadata": {},
   "outputs": [],
   "source": [
    "import pandas\n",
    "import numpy\n",
    "from sklearn.datasets import load_iris\n",
    "from matplotlib import pyplot"
   ]
  },
  {
   "cell_type": "markdown",
   "id": "8c5b6bd2",
   "metadata": {},
   "source": [
    "#### Подготовка данных"
   ]
  },
  {
   "cell_type": "code",
   "execution_count": 2,
   "id": "d4aeb53d",
   "metadata": {},
   "outputs": [
    {
     "data": {
      "text/html": [
       "<div>\n",
       "<style scoped>\n",
       "    .dataframe tbody tr th:only-of-type {\n",
       "        vertical-align: middle;\n",
       "    }\n",
       "\n",
       "    .dataframe tbody tr th {\n",
       "        vertical-align: top;\n",
       "    }\n",
       "\n",
       "    .dataframe thead th {\n",
       "        text-align: right;\n",
       "    }\n",
       "</style>\n",
       "<table border=\"1\" class=\"dataframe\">\n",
       "  <thead>\n",
       "    <tr style=\"text-align: right;\">\n",
       "      <th></th>\n",
       "      <th>index</th>\n",
       "      <th>sepal_len</th>\n",
       "      <th>sepal_wid</th>\n",
       "      <th>petal_len</th>\n",
       "      <th>petal_wid</th>\n",
       "      <th>class</th>\n",
       "    </tr>\n",
       "  </thead>\n",
       "  <tbody>\n",
       "    <tr>\n",
       "      <th>0</th>\n",
       "      <td>50</td>\n",
       "      <td>7.0</td>\n",
       "      <td>3.2</td>\n",
       "      <td>4.7</td>\n",
       "      <td>1.4</td>\n",
       "      <td>1</td>\n",
       "    </tr>\n",
       "    <tr>\n",
       "      <th>1</th>\n",
       "      <td>51</td>\n",
       "      <td>6.4</td>\n",
       "      <td>3.2</td>\n",
       "      <td>4.5</td>\n",
       "      <td>1.5</td>\n",
       "      <td>1</td>\n",
       "    </tr>\n",
       "    <tr>\n",
       "      <th>2</th>\n",
       "      <td>52</td>\n",
       "      <td>6.9</td>\n",
       "      <td>3.1</td>\n",
       "      <td>4.9</td>\n",
       "      <td>1.5</td>\n",
       "      <td>1</td>\n",
       "    </tr>\n",
       "    <tr>\n",
       "      <th>3</th>\n",
       "      <td>53</td>\n",
       "      <td>5.5</td>\n",
       "      <td>2.3</td>\n",
       "      <td>4.0</td>\n",
       "      <td>1.3</td>\n",
       "      <td>1</td>\n",
       "    </tr>\n",
       "    <tr>\n",
       "      <th>4</th>\n",
       "      <td>54</td>\n",
       "      <td>6.5</td>\n",
       "      <td>2.8</td>\n",
       "      <td>4.6</td>\n",
       "      <td>1.5</td>\n",
       "      <td>1</td>\n",
       "    </tr>\n",
       "  </tbody>\n",
       "</table>\n",
       "</div>"
      ],
      "text/plain": [
       "   index  sepal_len  sepal_wid  petal_len  petal_wid  class\n",
       "0     50        7.0        3.2        4.7        1.4      1\n",
       "1     51        6.4        3.2        4.5        1.5      1\n",
       "2     52        6.9        3.1        4.9        1.5      1\n",
       "3     53        5.5        2.3        4.0        1.3      1\n",
       "4     54        6.5        2.8        4.6        1.5      1"
      ]
     },
     "execution_count": 2,
     "metadata": {},
     "output_type": "execute_result"
    }
   ],
   "source": [
    "def get_iris_data():\n",
    "    iris = load_iris()\n",
    "    iris_data = pandas.DataFrame(iris.data)\n",
    "    iris_data['class'] = iris.target\n",
    "    target_names = iris.target_names\n",
    "    \n",
    "    iris_data.columns = [\n",
    "        'sepal_len', \n",
    "        'sepal_wid', \n",
    "        'petal_len', \n",
    "        'petal_wid', \n",
    "        'class'\n",
    "    ]\n",
    "    \n",
    "    iris_data = iris_data.loc[\n",
    "        (iris_data['class'] == 1) | (iris_data['class'] == 2)\n",
    "    ]\n",
    "\n",
    "    iris_data.dropna(\n",
    "        how=\"all\", \n",
    "        inplace=True)\n",
    "    \n",
    "    return iris_data.reset_index()\n",
    "\n",
    "iris_data = get_iris_data()\n",
    "iris_data.head()"
   ]
  },
  {
   "cell_type": "markdown",
   "id": "619e0a9e",
   "metadata": {},
   "source": [
    "### Реализовать самостоятельно логистическую регрессию\n",
    "\n",
    "Формула логистической регрессис\n",
    "\n",
    "$L = X_{0} + w_{1}X_{1} + w_{2}X_{2} + ... + w_{n}X_{n}$\n",
    "\n",
    "$p = { \n",
    "    1\n",
    "    \\over \n",
    "    1 + e^-L\n",
    "}$"
   ]
  },
  {
   "cell_type": "code",
   "execution_count": 3,
   "id": "4601ec84",
   "metadata": {},
   "outputs": [],
   "source": [
    "import math\n",
    "\n",
    "class IrisLogisticRegression:\n",
    "    \n",
    "    def __init__(self):\n",
    "        self.__weight = numpy.array([])\n",
    "        self.__losses = numpy.array([])\n",
    "        self.__offset = 0\n",
    "    \n",
    "    # Privet functions #\n",
    "    \n",
    "    def __sigmoid(self, L):\n",
    "        return 1 / (1 + math.e ** -L)\n",
    "    \n",
    "    def __loss(self, logistic_regression, y_values):\n",
    "        return -(y_values * numpy.log(logistic_regression) + (1 - y_values) * numpy.log(1 - logistic_regression)).mean()\n",
    "\n",
    "    # Public functions #\n",
    "    \n",
    "    def get_losses(self):\n",
    "        return self.__losses\n",
    "    \n",
    "    def fit(self, x_values, y_values, epochs, learning_rate, speed_type='default'):\n",
    "        x_values = x_values.to_numpy()\n",
    "        y_values = y_values.to_numpy()\n",
    "\n",
    "        # Инициализируем веса и смещение\n",
    "        self.__weight = numpy.zeros(x_values.shape[1])\n",
    "        self.__losses = []\n",
    "        self.__offset = 0\n",
    "        \n",
    "        values_count = y_values.shape[0]\n",
    "        \n",
    "        # Для nesterov_momentum\n",
    "        prev_v_w = 0\n",
    "        prev_v_b = 0\n",
    "          \n",
    "        # Для rmsprop\n",
    "        grad_squared = 0\n",
    "        \n",
    "        for _ in range(epochs):\n",
    "             # Находим регрессию\n",
    "            L = self.__offset + numpy.dot(x_values, self.__weight)\n",
    "            logisticRegression = self.__sigmoid(L)\n",
    "            \n",
    "            # Находим градиент\n",
    "            dZ = logisticRegression - y_values \n",
    "            dW = numpy.dot(x_values.T, dZ) / values_count\n",
    "            dB = numpy.sum(dZ) / values_count\n",
    "            \n",
    "            if speed_type == 'nesterov_momentum':\n",
    "                eta = 0.1\n",
    "                momentum = 0.9\n",
    "                \n",
    "                v_w = momentum * prev_v_w + eta * dW\n",
    "                v_b = momentum * prev_v_b + eta * dB\n",
    "                \n",
    "                # Обновляем веса\n",
    "                self.__weight -= v_w\n",
    "                self.__offset -= v_b\n",
    "                prev_v_w = v_w\n",
    "                prev_v_b = v_b\n",
    "                \n",
    "            elif speed_type == 'rmsprop':\n",
    "                grad_squared += dW * dW\n",
    "                \n",
    "                # Обновляем веса\n",
    "                self.__weight -= (learning_rate / numpy.sqrt(grad_squared)) * dW\n",
    "                self.__offset -= learning_rate * dB\n",
    "                \n",
    "            else:\n",
    "                # Обновляем веса\n",
    "                self.__weight -= learning_rate * dW\n",
    "                self.__offset -= learning_rate * dB\n",
    "            \n",
    "            # Находим ошибки\n",
    "            loss = self.__loss(logisticRegression, y_values)\n",
    "            self.__losses = numpy.append(self.__losses, loss)\n",
    "                \n",
    "        \n",
    "    def predict(self, x_values):\n",
    "        x_values = x_values.to_numpy()\n",
    "       \n",
    "        L = numpy.dot(x_values, self.__weight)\n",
    "        logisticRegression = self.__sigmoid(L)\n",
    "        \n",
    "        logisticRegression = logisticRegression >= 0.5\n",
    "        y_pred = []\n",
    "\n",
    "        for i in range(len(logisticRegression)):\n",
    "            if logisticRegression[i] == True: \n",
    "                y_pred.append(1)\n",
    "            else:\n",
    "                y_pred.append(0)\n",
    "                \n",
    "        return numpy.array(y_pred)"
   ]
  },
  {
   "cell_type": "code",
   "execution_count": 4,
   "id": "e52341a1",
   "metadata": {},
   "outputs": [],
   "source": [
    "def get_accuracy(y_values, y_predict_values):\n",
    "    loss_count = 0\n",
    "    \n",
    "    for item_1, item_2  in zip(y_predict_values, y_values):\n",
    "        if item_1 != item_2: loss_count += 1\n",
    "            \n",
    "    return 1 - loss_count / len(y_values)"
   ]
  },
  {
   "cell_type": "code",
   "execution_count": 5,
   "id": "7c510a82",
   "metadata": {},
   "outputs": [],
   "source": [
    "from sklearn.model_selection import train_test_split\n",
    "\n",
    "x_values = iris_data[['sepal_len', 'sepal_wid', 'petal_len', 'petal_wid']]\n",
    "y_values = iris_data['class'] - 1\n",
    "\n",
    "X_train, X_test, y_train, y_test = train_test_split(x_values, y_values, test_size=0.2)"
   ]
  },
  {
   "cell_type": "code",
   "execution_count": 6,
   "id": "826dfd07",
   "metadata": {},
   "outputs": [
    {
     "name": "stdout",
     "output_type": "stream",
     "text": [
      "accuracy: 0.9\n"
     ]
    },
    {
     "data": {
      "image/png": "[encoded data removed]",
      "text/plain": [
       "<Figure size 432x288 with 1 Axes>"
      ]
     },
     "metadata": {
      "needs_background": "light"
     },
     "output_type": "display_data"
    }
   ],
   "source": [
    "irisLogisticRegression = IrisLogisticRegression()\n",
    "\n",
    "irisLogisticRegression.fit(\n",
    "    x_values=X_train, \n",
    "    y_values=y_train,\n",
    "    epochs=500, \n",
    "    learning_rate=0.1)\n",
    "\n",
    "y_pred = irisLogisticRegression.predict(X_test)\n",
    "print('accuracy:', get_accuracy(y_test, y_pred))\n",
    "\n",
    "pyplot.plot(irisLogisticRegression.get_losses())\n",
    "pyplot.show()"
   ]
  },
  {
   "cell_type": "code",
   "execution_count": 7,
   "id": "99a78d27",
   "metadata": {},
   "outputs": [
    {
     "name": "stdout",
     "output_type": "stream",
     "text": [
      "accuracy: 0.9\n"
     ]
    },
    {
     "data": {
      "image/png": "[encoded data removed]",
      "text/plain": [
       "<Figure size 432x288 with 1 Axes>"
      ]
     },
     "metadata": {
      "needs_background": "light"
     },
     "output_type": "display_data"
    }
   ],
   "source": [
    "irisLogisticRegression = IrisLogisticRegression()\n",
    "\n",
    "\n",
    "irisLogisticRegression.fit(\n",
    "    x_values=X_train, \n",
    "    y_values=y_train,\n",
    "    epochs=60, \n",
    "    learning_rate=0.1,\n",
    "    speed_type='nesterov_momentum')\n",
    "\n",
    "y_pred = irisLogisticRegression.predict(X_test)\n",
    "print('accuracy:', get_accuracy(y_test, y_pred))\n",
    "\n",
    "pyplot.plot(irisLogisticRegression.get_losses())\n",
    "pyplot.show()"
   ]
  },
  {
   "cell_type": "code",
   "execution_count": 8,
   "id": "8f2fab60",
   "metadata": {},
   "outputs": [
    {
     "name": "stdout",
     "output_type": "stream",
     "text": [
      "accuracy: 0.7\n"
     ]
    },
    {
     "data": {
      "image/png": "[encoded data removed]",
      "text/plain": [
       "<Figure size 432x288 with 1 Axes>"
      ]
     },
     "metadata": {
      "needs_background": "light"
     },
     "output_type": "display_data"
    }
   ],
   "source": [
    "irisLogisticRegression = IrisLogisticRegression()\n",
    "\n",
    "irisLogisticRegression.fit(\n",
    "    x_values=X_train, \n",
    "    y_values=y_train,\n",
    "    epochs=1000, \n",
    "    learning_rate=0.1,\n",
    "    speed_type='rmsprop')\n",
    "\n",
    "y_pred = irisLogisticRegression.predict(X_test)\n",
    "print('accuracy:', get_accuracy(y_test, y_pred))\n",
    "\n",
    "pyplot.plot(irisLogisticRegression.get_losses())\n",
    "pyplot.show()"
   ]
  },
  {
   "cell_type": "code",
   "execution_count": null,
   "id": "ebc2358d",
   "metadata": {},
   "outputs": [],
   "source": []
  }
 ],
 "metadata": {
  "kernelspec": {
   "display_name": "Python 3",
   "language": "python",
   "name": "python3"
  },
  "language_info": {
   "codemirror_mode": {
    "name": "ipython",
    "version": 3
   },
   "file_extension": ".py",
   "mimetype": "text/x-python",
   "name": "python",
   "nbconvert_exporter": "python",
   "pygments_lexer": "ipython3",
   "version": "3.9.1"
  }
 },
 "nbformat": 4,
 "nbformat_minor": 5
}
