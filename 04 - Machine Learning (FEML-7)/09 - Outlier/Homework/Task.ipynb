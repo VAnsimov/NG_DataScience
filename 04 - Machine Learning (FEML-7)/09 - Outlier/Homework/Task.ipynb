{
 "cells": [
  {
   "cell_type": "markdown",
   "id": "a27ea163",
   "metadata": {},
   "source": [
    "# Домашняя работа \"Поиск выбросов и генерация новых признаков\"\n",
    "\n",
    "Взять датасет https://www.kaggle.com/c/sberbank-russian-housing-market/overview\n",
    "\n",
    "- Провести EDA с упором на пропущенные значения\n",
    "- Обучить простую модель несколько раз (см. ниже) и сравнить качество.\n",
    "- При обучении модели постепенно заполнять пропуски. При заполнении пропусков обосновывать выбранный тип метода заполнения.\n",
    "- Сгенерировать не менее новых 5 признаков (генерация с помощью PolynomialFeatures считать как один признак) и обучить модель после каждого добавления нового признака для контроля качества.\n",
    "- Построить изменения качества график качества модели на каждом шаге (после каждого заполнения пропусков в очередном признаке и после каждого добавления нового признака)"
   ]
  },
  {
   "cell_type": "markdown",
   "id": "851b2cb2",
   "metadata": {},
   "source": [
    "# Решение"
   ]
  },
  {
   "cell_type": "code",
   "execution_count": 1,
   "id": "6144fb1f",
   "metadata": {},
   "outputs": [],
   "source": [
    "import pandas\n",
    "from matplotlib import pyplot"
   ]
  },
  {
   "cell_type": "code",
   "execution_count": 2,
   "id": "e736de89",
   "metadata": {},
   "outputs": [],
   "source": [
    "def get_train_data(columns):\n",
    "    return pandas.read_csv('train.csv')[columns]\n",
    "\n",
    "columns = [\n",
    "    'full_sq', 'floor', 'max_floor', 'material', 'build_year', 'num_room', 'kitch_sq',\n",
    "    'state', 'area_m', 'raion_popul', 'green_zone_part', 'indust_part', 'preschool_education_centers_raion',\n",
    "    'school_education_centers_raion', 'hospital_beds_raion', 'healthcare_centers_raion', 'sport_objects_raion',\n",
    "    'additional_education_raion', 'shopping_centers_raion', 'office_raion', 'ID_metro', 'metro_min_walk', 'kindergarten_km',\n",
    "    'school_km', 'park_km', 'green_zone_km', 'industrial_km', 'water_km', 'mkad_km', 'ttk_km', 'sadovoe_km', 'bulvar_ring_km',\n",
    "    'kremlin_km', 'ts_km', 'big_market_km','market_shop_km', 'fitness_km', 'university_km', 'workplaces_km', 'shopping_centers_km',\n",
    "]\n",
    "target = 'life_sq'\n",
    "data = get_train_data(columns=columns + [target])"
   ]
  },
  {
   "cell_type": "markdown",
   "id": "8736631b",
   "metadata": {},
   "source": [
    "#### EDA с упором на пропущенные значения"
   ]
  },
  {
   "cell_type": "code",
   "execution_count": 3,
   "id": "9fe585fa",
   "metadata": {},
   "outputs": [
    {
     "name": "stdout",
     "output_type": "stream",
     "text": [
      "<class 'pandas.core.frame.DataFrame'>\n",
      "RangeIndex: 30471 entries, 0 to 30470\n",
      "Data columns (total 41 columns):\n",
      " #   Column                             Non-Null Count  Dtype  \n",
      "---  ------                             --------------  -----  \n",
      " 0   full_sq                            30471 non-null  int64  \n",
      " 1   floor                              30304 non-null  float64\n",
      " 2   max_floor                          20899 non-null  float64\n",
      " 3   material                           20899 non-null  float64\n",
      " 4   build_year                         16866 non-null  float64\n",
      " 5   num_room                           20899 non-null  float64\n",
      " 6   kitch_sq                           20899 non-null  float64\n",
      " 7   state                              16912 non-null  float64\n",
      " 8   area_m                             30471 non-null  float64\n",
      " 9   raion_popul                        30471 non-null  int64  \n",
      " 10  green_zone_part                    30471 non-null  float64\n",
      " 11  indust_part                        30471 non-null  float64\n",
      " 12  preschool_education_centers_raion  30471 non-null  int64  \n",
      " 13  school_education_centers_raion     30471 non-null  int64  \n",
      " 14  hospital_beds_raion                16030 non-null  float64\n",
      " 15  healthcare_centers_raion           30471 non-null  int64  \n",
      " 16  sport_objects_raion                30471 non-null  int64  \n",
      " 17  additional_education_raion         30471 non-null  int64  \n",
      " 18  shopping_centers_raion             30471 non-null  int64  \n",
      " 19  office_raion                       30471 non-null  int64  \n",
      " 20  ID_metro                           30471 non-null  int64  \n",
      " 21  metro_min_walk                     30446 non-null  float64\n",
      " 22  kindergarten_km                    30471 non-null  float64\n",
      " 23  school_km                          30471 non-null  float64\n",
      " 24  park_km                            30471 non-null  float64\n",
      " 25  green_zone_km                      30471 non-null  float64\n",
      " 26  industrial_km                      30471 non-null  float64\n",
      " 27  water_km                           30471 non-null  float64\n",
      " 28  mkad_km                            30471 non-null  float64\n",
      " 29  ttk_km                             30471 non-null  float64\n",
      " 30  sadovoe_km                         30471 non-null  float64\n",
      " 31  bulvar_ring_km                     30471 non-null  float64\n",
      " 32  kremlin_km                         30471 non-null  float64\n",
      " 33  ts_km                              30471 non-null  float64\n",
      " 34  big_market_km                      30471 non-null  float64\n",
      " 35  market_shop_km                     30471 non-null  float64\n",
      " 36  fitness_km                         30471 non-null  float64\n",
      " 37  university_km                      30471 non-null  float64\n",
      " 38  workplaces_km                      30471 non-null  float64\n",
      " 39  shopping_centers_km                30471 non-null  float64\n",
      " 40  life_sq                            24088 non-null  float64\n",
      "dtypes: float64(31), int64(10)\n",
      "memory usage: 9.5 MB\n"
     ]
    }
   ],
   "source": [
    "data.info()"
   ]
  },
  {
   "cell_type": "code",
   "execution_count": 4,
   "id": "5d8415ed",
   "metadata": {},
   "outputs": [
    {
     "data": {
      "text/html": [
       "<div>\n",
       "<style scoped>\n",
       "    .dataframe tbody tr th:only-of-type {\n",
       "        vertical-align: middle;\n",
       "    }\n",
       "\n",
       "    .dataframe tbody tr th {\n",
       "        vertical-align: top;\n",
       "    }\n",
       "\n",
       "    .dataframe thead th {\n",
       "        text-align: right;\n",
       "    }\n",
       "</style>\n",
       "<table border=\"1\" class=\"dataframe\">\n",
       "  <thead>\n",
       "    <tr style=\"text-align: right;\">\n",
       "      <th></th>\n",
       "      <th>full_sq</th>\n",
       "      <th>floor</th>\n",
       "      <th>max_floor</th>\n",
       "      <th>material</th>\n",
       "      <th>build_year</th>\n",
       "      <th>num_room</th>\n",
       "      <th>kitch_sq</th>\n",
       "      <th>state</th>\n",
       "      <th>area_m</th>\n",
       "      <th>raion_popul</th>\n",
       "      <th>...</th>\n",
       "      <th>bulvar_ring_km</th>\n",
       "      <th>kremlin_km</th>\n",
       "      <th>ts_km</th>\n",
       "      <th>big_market_km</th>\n",
       "      <th>market_shop_km</th>\n",
       "      <th>fitness_km</th>\n",
       "      <th>university_km</th>\n",
       "      <th>workplaces_km</th>\n",
       "      <th>shopping_centers_km</th>\n",
       "      <th>life_sq</th>\n",
       "    </tr>\n",
       "  </thead>\n",
       "  <tbody>\n",
       "    <tr>\n",
       "      <th>0</th>\n",
       "      <td>43</td>\n",
       "      <td>4.0</td>\n",
       "      <td>NaN</td>\n",
       "      <td>NaN</td>\n",
       "      <td>NaN</td>\n",
       "      <td>NaN</td>\n",
       "      <td>NaN</td>\n",
       "      <td>NaN</td>\n",
       "      <td>6.407578e+06</td>\n",
       "      <td>155572</td>\n",
       "      <td>...</td>\n",
       "      <td>13.675657</td>\n",
       "      <td>15.156211</td>\n",
       "      <td>4.308127</td>\n",
       "      <td>10.814172</td>\n",
       "      <td>1.676258</td>\n",
       "      <td>0.485841</td>\n",
       "      <td>6.715026</td>\n",
       "      <td>0.884350</td>\n",
       "      <td>0.648488</td>\n",
       "      <td>27.0</td>\n",
       "    </tr>\n",
       "    <tr>\n",
       "      <th>1</th>\n",
       "      <td>34</td>\n",
       "      <td>3.0</td>\n",
       "      <td>NaN</td>\n",
       "      <td>NaN</td>\n",
       "      <td>NaN</td>\n",
       "      <td>NaN</td>\n",
       "      <td>NaN</td>\n",
       "      <td>NaN</td>\n",
       "      <td>9.589337e+06</td>\n",
       "      <td>115352</td>\n",
       "      <td>...</td>\n",
       "      <td>8.132640</td>\n",
       "      <td>8.698054</td>\n",
       "      <td>0.725560</td>\n",
       "      <td>6.910568</td>\n",
       "      <td>3.424716</td>\n",
       "      <td>0.668364</td>\n",
       "      <td>1.852560</td>\n",
       "      <td>0.686252</td>\n",
       "      <td>0.519311</td>\n",
       "      <td>19.0</td>\n",
       "    </tr>\n",
       "    <tr>\n",
       "      <th>2</th>\n",
       "      <td>43</td>\n",
       "      <td>2.0</td>\n",
       "      <td>NaN</td>\n",
       "      <td>NaN</td>\n",
       "      <td>NaN</td>\n",
       "      <td>NaN</td>\n",
       "      <td>NaN</td>\n",
       "      <td>NaN</td>\n",
       "      <td>4.808270e+06</td>\n",
       "      <td>101708</td>\n",
       "      <td>...</td>\n",
       "      <td>8.054252</td>\n",
       "      <td>9.067885</td>\n",
       "      <td>3.562188</td>\n",
       "      <td>5.752368</td>\n",
       "      <td>1.375443</td>\n",
       "      <td>0.733101</td>\n",
       "      <td>0.841254</td>\n",
       "      <td>1.510089</td>\n",
       "      <td>1.486533</td>\n",
       "      <td>29.0</td>\n",
       "    </tr>\n",
       "    <tr>\n",
       "      <th>3</th>\n",
       "      <td>89</td>\n",
       "      <td>9.0</td>\n",
       "      <td>NaN</td>\n",
       "      <td>NaN</td>\n",
       "      <td>NaN</td>\n",
       "      <td>NaN</td>\n",
       "      <td>NaN</td>\n",
       "      <td>NaN</td>\n",
       "      <td>1.258354e+07</td>\n",
       "      <td>178473</td>\n",
       "      <td>...</td>\n",
       "      <td>18.309433</td>\n",
       "      <td>19.487005</td>\n",
       "      <td>0.583025</td>\n",
       "      <td>27.892717</td>\n",
       "      <td>0.811275</td>\n",
       "      <td>0.623484</td>\n",
       "      <td>10.903161</td>\n",
       "      <td>0.622272</td>\n",
       "      <td>0.599914</td>\n",
       "      <td>50.0</td>\n",
       "    </tr>\n",
       "    <tr>\n",
       "      <th>4</th>\n",
       "      <td>77</td>\n",
       "      <td>4.0</td>\n",
       "      <td>NaN</td>\n",
       "      <td>NaN</td>\n",
       "      <td>NaN</td>\n",
       "      <td>NaN</td>\n",
       "      <td>NaN</td>\n",
       "      <td>NaN</td>\n",
       "      <td>8.398461e+06</td>\n",
       "      <td>108171</td>\n",
       "      <td>...</td>\n",
       "      <td>0.787593</td>\n",
       "      <td>2.578671</td>\n",
       "      <td>2.609420</td>\n",
       "      <td>9.155057</td>\n",
       "      <td>1.969738</td>\n",
       "      <td>0.220288</td>\n",
       "      <td>0.991683</td>\n",
       "      <td>0.892668</td>\n",
       "      <td>0.429052</td>\n",
       "      <td>77.0</td>\n",
       "    </tr>\n",
       "  </tbody>\n",
       "</table>\n",
       "<p>5 rows × 41 columns</p>\n",
       "</div>"
      ],
      "text/plain": [
       "   full_sq  floor  max_floor  material  build_year  num_room  kitch_sq  state  \\\n",
       "0       43    4.0        NaN       NaN         NaN       NaN       NaN    NaN   \n",
       "1       34    3.0        NaN       NaN         NaN       NaN       NaN    NaN   \n",
       "2       43    2.0        NaN       NaN         NaN       NaN       NaN    NaN   \n",
       "3       89    9.0        NaN       NaN         NaN       NaN       NaN    NaN   \n",
       "4       77    4.0        NaN       NaN         NaN       NaN       NaN    NaN   \n",
       "\n",
       "         area_m  raion_popul  ...  bulvar_ring_km  kremlin_km     ts_km  \\\n",
       "0  6.407578e+06       155572  ...       13.675657   15.156211  4.308127   \n",
       "1  9.589337e+06       115352  ...        8.132640    8.698054  0.725560   \n",
       "2  4.808270e+06       101708  ...        8.054252    9.067885  3.562188   \n",
       "3  1.258354e+07       178473  ...       18.309433   19.487005  0.583025   \n",
       "4  8.398461e+06       108171  ...        0.787593    2.578671  2.609420   \n",
       "\n",
       "   big_market_km  market_shop_km  fitness_km  university_km  workplaces_km  \\\n",
       "0      10.814172        1.676258    0.485841       6.715026       0.884350   \n",
       "1       6.910568        3.424716    0.668364       1.852560       0.686252   \n",
       "2       5.752368        1.375443    0.733101       0.841254       1.510089   \n",
       "3      27.892717        0.811275    0.623484      10.903161       0.622272   \n",
       "4       9.155057        1.969738    0.220288       0.991683       0.892668   \n",
       "\n",
       "   shopping_centers_km  life_sq  \n",
       "0             0.648488     27.0  \n",
       "1             0.519311     19.0  \n",
       "2             1.486533     29.0  \n",
       "3             0.599914     50.0  \n",
       "4             0.429052     77.0  \n",
       "\n",
       "[5 rows x 41 columns]"
      ]
     },
     "execution_count": 4,
     "metadata": {},
     "output_type": "execute_result"
    }
   ],
   "source": [
    "data.head()"
   ]
  },
  {
   "cell_type": "markdown",
   "id": "ff078026",
   "metadata": {},
   "source": [
    "- **full_sq:** total area in square meters, including loggias, balconies and other non-residential areas\n",
    "- **life_sq:** living area in square meters, excluding loggias, balconies and other non-residential areas\n",
    "- **floor:** for apartments, floor of the building\n",
    "- **max_floor:** number of floors in the building\n",
    "- **material:** wall material\n",
    "- **build_year:** year built\n",
    "- **num_room:** number of living rooms\n",
    "- **kitch_sq:** kitchen area\n",
    "- **state:** apartment condition\n",
    "- **area_m:** Area mun. area, sq.m.\n",
    "- **raion_popul:** Number of municipality population. district\n",
    "- **green_zone_part:** Proportion of area of ​​greenery in the total area\n",
    "- **indust_part:** Share of industrial zones in area of ​​the total area\n",
    "- **preschool_education_centers_raion:** Number of pre-school  institutions\n",
    "- **school_education_centers_raion:** Number of  high school institutions\n",
    "- **hospital_beds_raion:** Number of hospital beds for the district\n",
    "- **healthcare_centers_raion:** Number of healthcare centers in district\n",
    "- **sport_objects_raion:** Number of higher education institutions\n",
    "- **additional_education_raion:** Number of additional education organizations\n",
    "- **shopping_centers_raion:** Number of malls and shopping centres in district\n",
    "- **office_raion:** Number of malls and shopping centres in district\n",
    "- **metro_min_walk:** Time to metro by foot\n",
    "- **metro_km_walk:** Distance to the metro, km\n",
    "- **kindergarten_km:** Distance to kindergarten\n",
    "- **school_km:** Distance to high school \n",
    "- **park_km:** Distance to park\n",
    "- **incineration_km:** Distance to the incineration\n",
    "- **water_km:** Distance to the water reservoir / river\n",
    "- **mkad_km:** Distance to MKAD (Moscow Circle Auto Road)\n",
    "- **ttk_km:** Distance to the TTC (Third Transport Ring)\n",
    "- **sadovoe_km:** Distance to the Garden Ring\n",
    "- **bulvar_ring_km:** The distance to the Boulevard Ring\n",
    "- **kremlin_km:** Distance to the city center (Kremlin)\n",
    "- **ts_km:** Distance to power station\n",
    "- **big_market_km:** Distance to grocery / wholesale markets\n",
    "- **market_shop_km:** Distance to markets and department stores\n",
    "- **fitness_km:** Distance to fitness\n",
    "- **university_km:** Distance to universities\n",
    "- **workplaces_km:** Distance to workplaces\n",
    "- **shopping_centers_km:** Distance to shopping centers\n",
    "- **office_km:** Distance to business centers/ offices\n",
    "- **additional_education_km:** Distance to additional education\n",
    "- **preschool_km:** Distance to preschool education organizations\n",
    "- **price_doc:** sale price (this is the target variable)"
   ]
  },
  {
   "cell_type": "markdown",
   "id": "a4714856",
   "metadata": {},
   "source": [
    "#### Вспомогательные функции"
   ]
  },
  {
   "cell_type": "code",
   "execution_count": 5,
   "id": "5f4eef76",
   "metadata": {},
   "outputs": [],
   "source": [
    "from Services import VariablesService\n",
    "\n",
    "variablesService = VariablesService()"
   ]
  },
  {
   "cell_type": "markdown",
   "id": "6965a12b",
   "metadata": {},
   "source": [
    "#### Обучить простую модель"
   ]
  },
  {
   "cell_type": "code",
   "execution_count": 6,
   "id": "00015db7",
   "metadata": {},
   "outputs": [],
   "source": [
    "from sklearn.linear_model import LinearRegression\n",
    "from sklearn.model_selection import train_test_split\n",
    "\n",
    "def get_line_regression_score(data, column_names, target_column_name):\n",
    "    x_train, x_test, y_train, y_test = split_data(data, column_names, target_column_name)\n",
    "    \n",
    "    linearRegression = LinearRegression()\n",
    "    linearRegression.fit(x_train, y_train)\n",
    "        \n",
    "    return linearRegression.score(x_test, y_test)\n",
    "    \n",
    "def split_data(data, column_names, target_column_name):\n",
    "    column_names = list(column_names.copy())\n",
    "    \n",
    "    try:\n",
    "        column_names.remove(target_column_name)\n",
    "    except:\n",
    "        pass\n",
    "    \n",
    "    x_values = data[column_names]\n",
    "    y_values = data[[target_column_name]]\n",
    "    \n",
    "    return train_test_split(\n",
    "            x_values, \n",
    "            y_values, \n",
    "            train_size=0.75, \n",
    "            random_state=42)"
   ]
  },
  {
   "cell_type": "code",
   "execution_count": 7,
   "id": "034a556c",
   "metadata": {},
   "outputs": [
    {
     "data": {
      "text/plain": [
       "['floor',\n",
       " 'max_floor',\n",
       " 'material',\n",
       " 'build_year',\n",
       " 'num_room',\n",
       " 'kitch_sq',\n",
       " 'state',\n",
       " 'hospital_beds_raion',\n",
       " 'metro_min_walk',\n",
       " 'life_sq']"
      ]
     },
     "execution_count": 7,
     "metadata": {},
     "output_type": "execute_result"
    }
   ],
   "source": [
    "# колонки с пропущенными значениями      \n",
    "variablesService.get_columns_with_outlier_values(data=data)"
   ]
  },
  {
   "cell_type": "code",
   "execution_count": 8,
   "id": "89bcb13a",
   "metadata": {},
   "outputs": [
    {
     "data": {
      "text/plain": [
       "0.1466548299380569"
      ]
     },
     "execution_count": 8,
     "metadata": {},
     "output_type": "execute_result"
    }
   ],
   "source": [
    "control_score = get_line_regression_score(\n",
    "    data=data.fillna(0),\n",
    "    column_names=columns,\n",
    "    target_column_name=target)\n",
    "\n",
    "control_score"
   ]
  },
  {
   "cell_type": "markdown",
   "id": "48134801",
   "metadata": {},
   "source": [
    "#### Заполняем пропуски\n",
    "\n",
    "Я, преимущественно, заполнял бы пропуски медианами, так как они менее чувствительны к выбросам и наверное пользовался вариантом линейной регрессии. Но так как  колонок много и видимо хотят чтобы я показал что умею заполнять пропуски разными методами (в ДЗ по по выбросам, как это не странно) то далее заполняю разными методами."
   ]
  },
  {
   "cell_type": "code",
   "execution_count": 9,
   "id": "998cad9e",
   "metadata": {},
   "outputs": [
    {
     "data": {
      "text/plain": [
       "0.14296179085032346"
      ]
     },
     "execution_count": 9,
     "metadata": {},
     "output_type": "execute_result"
    }
   ],
   "source": [
    "data = variablesService.get_filled_averages_dataset(\n",
    "    dataset=data, \n",
    "    target_column='state', \n",
    "    mode='median')\n",
    "\n",
    "state_score = get_line_regression_score(\n",
    "    data=data.fillna(0),\n",
    "    column_names=columns,\n",
    "    target_column_name=target)\n",
    "\n",
    "state_score"
   ]
  },
  {
   "cell_type": "code",
   "execution_count": 10,
   "id": "6d2f5f75",
   "metadata": {},
   "outputs": [
    {
     "data": {
      "text/plain": [
       "0.14323261935295928"
      ]
     },
     "execution_count": 10,
     "metadata": {},
     "output_type": "execute_result"
    }
   ],
   "source": [
    "data = variablesService.get_filled_averages_dataset(\n",
    "    dataset=data, \n",
    "    target_column='hospital_beds_raion', \n",
    "    mode='median')\n",
    "\n",
    "state_hospital = get_line_regression_score(\n",
    "    data=data.fillna(0),\n",
    "    column_names=columns,\n",
    "    target_column_name=target)\n",
    "\n",
    "state_hospital"
   ]
  },
  {
   "cell_type": "code",
   "execution_count": 11,
   "id": "a8347402",
   "metadata": {},
   "outputs": [
    {
     "data": {
      "text/plain": [
       "0.17409950730931123"
      ]
     },
     "execution_count": 11,
     "metadata": {},
     "output_type": "execute_result"
    }
   ],
   "source": [
    "data = variablesService.get_filled_averages_dataset(\n",
    "    dataset=data, \n",
    "    target_column='max_floor', \n",
    "    mode='max')\n",
    "\n",
    "max_floor_score = get_line_regression_score(\n",
    "    data=data.fillna(0),\n",
    "    column_names=columns,\n",
    "    target_column_name=target)\n",
    "\n",
    "max_floor_score"
   ]
  },
  {
   "cell_type": "code",
   "execution_count": 12,
   "id": "1d425503",
   "metadata": {},
   "outputs": [
    {
     "data": {
      "text/plain": [
       "0.174062638169325"
      ]
     },
     "execution_count": 12,
     "metadata": {},
     "output_type": "execute_result"
    }
   ],
   "source": [
    "data = variablesService.get_filled_averages_dataset(\n",
    "    dataset=data, \n",
    "    target_column='floor', \n",
    "    mode='mode')\n",
    "\n",
    "floor_score = get_line_regression_score(\n",
    "    data=data.fillna(0),\n",
    "    column_names=columns,\n",
    "    target_column_name=target)\n",
    "\n",
    "floor_score"
   ]
  },
  {
   "cell_type": "code",
   "execution_count": 13,
   "id": "3f9d0363",
   "metadata": {},
   "outputs": [
    {
     "data": {
      "text/plain": [
       "0.174062638169325"
      ]
     },
     "execution_count": 13,
     "metadata": {},
     "output_type": "execute_result"
    }
   ],
   "source": [
    "data = variablesService.get_filled_indicator_dataset(\n",
    "    dataset=data, \n",
    "    target_column='material')\n",
    "\n",
    "material_score = get_line_regression_score(\n",
    "    data=data.fillna(0),\n",
    "    column_names=columns,\n",
    "    target_column_name=target)\n",
    "\n",
    "material_score"
   ]
  },
  {
   "cell_type": "code",
   "execution_count": 14,
   "id": "3f75d22c",
   "metadata": {},
   "outputs": [
    {
     "data": {
      "text/plain": [
       "0.14339653257439933"
      ]
     },
     "execution_count": 14,
     "metadata": {},
     "output_type": "execute_result"
    }
   ],
   "source": [
    "data = variablesService.get_filled_linear_regression_dataset(\n",
    "    dataset=data, \n",
    "    target_column='num_room', \n",
    "    columns=variablesService.get_columns_with_filled_values(\n",
    "        data=data))\n",
    "\n",
    "num_score = get_line_regression_score(\n",
    "    data=data.fillna(0),\n",
    "    column_names=columns,\n",
    "    target_column_name=target)\n",
    "\n",
    "num_score"
   ]
  },
  {
   "cell_type": "code",
   "execution_count": 15,
   "id": "ad576952",
   "metadata": {},
   "outputs": [
    {
     "data": {
      "text/plain": [
       "0.14347655323935726"
      ]
     },
     "execution_count": 15,
     "metadata": {},
     "output_type": "execute_result"
    }
   ],
   "source": [
    "data = variablesService.get_filled_linear_regression_dataset(\n",
    "    dataset=data, \n",
    "    target_column='build_year', \n",
    "    columns=variablesService.get_columns_with_filled_values(\n",
    "        data=data))\n",
    "\n",
    "build_year_score = get_line_regression_score(\n",
    "    data=data.fillna(0),\n",
    "    column_names=columns,\n",
    "    target_column_name=target)\n",
    "\n",
    "build_year_score"
   ]
  },
  {
   "cell_type": "code",
   "execution_count": 16,
   "id": "4ca74f23",
   "metadata": {},
   "outputs": [
    {
     "data": {
      "text/plain": [
       "0.14270863420808755"
      ]
     },
     "execution_count": 16,
     "metadata": {},
     "output_type": "execute_result"
    }
   ],
   "source": [
    "data = variablesService.get_filled_linear_regression_dataset(\n",
    "    dataset=data, \n",
    "    target_column='kitch_sq', \n",
    "    columns=variablesService.get_columns_with_filled_values(\n",
    "        data=data))\n",
    "\n",
    "kitch_sq_score = get_line_regression_score(\n",
    "    data=data.fillna(0),\n",
    "    column_names=columns,\n",
    "    target_column_name=target)\n",
    "\n",
    "kitch_sq_score"
   ]
  },
  {
   "cell_type": "code",
   "execution_count": 17,
   "id": "c1bb6c5f",
   "metadata": {},
   "outputs": [
    {
     "data": {
      "text/plain": [
       "0.14270415079663046"
      ]
     },
     "execution_count": 17,
     "metadata": {},
     "output_type": "execute_result"
    }
   ],
   "source": [
    "data = variablesService.get_filled_linear_regression_dataset(\n",
    "    dataset=data, \n",
    "    target_column='metro_min_walk', \n",
    "    columns=variablesService.get_columns_with_filled_values(\n",
    "        data=data))\n",
    "\n",
    "metro_min_walk_score = get_line_regression_score(\n",
    "    data=data.fillna(0),\n",
    "    column_names=columns,\n",
    "    target_column_name=target)\n",
    "\n",
    "metro_min_walk_score"
   ]
  },
  {
   "cell_type": "code",
   "execution_count": 18,
   "id": "389cd6d4",
   "metadata": {},
   "outputs": [
    {
     "data": {
      "text/plain": [
       "0.26811597132257514"
      ]
     },
     "execution_count": 18,
     "metadata": {},
     "output_type": "execute_result"
    }
   ],
   "source": [
    "data = variablesService.get_filled_linear_regression_dataset(\n",
    "    dataset=data, \n",
    "    target_column='life_sq', \n",
    "    columns=variablesService.get_columns_with_filled_values(\n",
    "        data=data))\n",
    "\n",
    "life_sq_score = get_line_regression_score(\n",
    "    data=data.fillna(0),\n",
    "    column_names=columns,\n",
    "    target_column_name=target)\n",
    "\n",
    "life_sq_score"
   ]
  },
  {
   "cell_type": "code",
   "execution_count": 19,
   "id": "450d1462",
   "metadata": {},
   "outputs": [
    {
     "data": {
      "image/png": "[encoded data removed]",
      "text/plain": [
       "<Figure size 432x288 with 1 Axes>"
      ]
     },
     "metadata": {
      "needs_background": "light"
     },
     "output_type": "display_data"
    }
   ],
   "source": [
    "scores = [state_score, state_hospital, max_floor_score,\n",
    "     floor_score, material_score,\n",
    "     num_score, build_year_score,\n",
    "     kitch_sq_score, metro_min_walk_score,\n",
    "     life_sq_score]\n",
    "\n",
    "pyplot.plot(\n",
    "    list(range(len(scores))), \n",
    "    scores)\n",
    "pyplot.show()"
   ]
  },
  {
   "cell_type": "markdown",
   "id": "d92ad88f",
   "metadata": {},
   "source": [
    "#### Сгенерировать не менее новых 5 признаков \n",
    "\n",
    "Генерация с помощью PolynomialFeatures считать как один признак и обучить модель после каждого добавления нового признака для контроля качества."
   ]
  },
  {
   "cell_type": "code",
   "execution_count": 20,
   "id": "bde27470",
   "metadata": {},
   "outputs": [
    {
     "data": {
      "text/plain": [
       "0.2681159713228395"
      ]
     },
     "execution_count": 20,
     "metadata": {},
     "output_type": "execute_result"
    }
   ],
   "source": [
    "km_column_names = [\n",
    "    'kindergarten_km', \n",
    "    'school_km', \n",
    "    'park_km', \n",
    "    'green_zone_km', \n",
    "    'industrial_km', \n",
    "    'water_km', \n",
    "    'mkad_km', \n",
    "    'ttk_km', \n",
    "    'sadovoe_km', \n",
    "    'bulvar_ring_km', \n",
    "    'kremlin_km', \n",
    "    'ts_km', \n",
    "    'big_market_km', \n",
    "    'market_shop_km', \n",
    "    'fitness_km', \n",
    "    'university_km', \n",
    "    'workplaces_km', \n",
    "    'shopping_centers_km'\n",
    "]\n",
    "data['total_km'] = data[km_column_names].sum(axis=1)\n",
    "columns.append('total_km')\n",
    "\n",
    "total_km_score = get_line_regression_score(\n",
    "    data=data.fillna(0),\n",
    "    column_names=columns,\n",
    "    target_column_name=target)\n",
    "\n",
    "total_km_score"
   ]
  },
  {
   "cell_type": "code",
   "execution_count": 21,
   "id": "8966be4f",
   "metadata": {},
   "outputs": [
    {
     "data": {
      "text/plain": [
       "0.26811597133116305"
      ]
     },
     "execution_count": 21,
     "metadata": {},
     "output_type": "execute_result"
    }
   ],
   "source": [
    "data['squaer_area_m'] = data['area_m'] * 2\n",
    "columns.append('squaer_area_m')\n",
    "\n",
    "squaer_area_m_score = get_line_regression_score(\n",
    "    data=data.fillna(0),\n",
    "    column_names=columns,\n",
    "    target_column_name=target)\n",
    "\n",
    "squaer_area_m_score"
   ]
  },
  {
   "cell_type": "code",
   "execution_count": 22,
   "id": "fa4ce475",
   "metadata": {},
   "outputs": [
    {
     "data": {
      "text/plain": [
       "0.268170721981442"
      ]
     },
     "execution_count": 22,
     "metadata": {},
     "output_type": "execute_result"
    }
   ],
   "source": [
    "data['floor_max_floor'] = data['floor'] * data['max_floor']\n",
    "columns.append('floor_max_floor')\n",
    "\n",
    "floor_max_floor_score = get_line_regression_score(\n",
    "    data=data.fillna(0),\n",
    "    column_names=columns,\n",
    "    target_column_name=target)\n",
    "\n",
    "floor_max_floor_score"
   ]
  },
  {
   "cell_type": "code",
   "execution_count": 23,
   "id": "52d18adf",
   "metadata": {},
   "outputs": [
    {
     "data": {
      "text/plain": [
       "0.6406668613791802"
      ]
     },
     "execution_count": 23,
     "metadata": {},
     "output_type": "execute_result"
    }
   ],
   "source": [
    "data['life_kitch_sq_score'] = data['life_sq'] * data['kitch_sq']\n",
    "columns.append('life_kitch_sq_score')\n",
    "\n",
    "life_kitch_sq_score = get_line_regression_score(\n",
    "    data=data.fillna(0),\n",
    "    column_names=columns,\n",
    "    target_column_name=target)\n",
    "\n",
    "life_kitch_sq_score"
   ]
  },
  {
   "cell_type": "code",
   "execution_count": 24,
   "id": "fd63bde3",
   "metadata": {},
   "outputs": [
    {
     "data": {
      "text/plain": [
       "0.6407583986294687"
      ]
     },
     "execution_count": 24,
     "metadata": {},
     "output_type": "execute_result"
    }
   ],
   "source": [
    "from sklearn.preprocessing import PolynomialFeatures\n",
    "import random\n",
    "\n",
    "polynomialFeatures = PolynomialFeatures(2)\n",
    "polynomial_values = polynomialFeatures.fit_transform(data[columns])\n",
    "polynomial_column_names = polynomialFeatures.get_feature_names(data[columns].columns)\n",
    "polynomial_column = random.choice(polynomial_column_names)\n",
    "polynomial_data = pandas.DataFrame(polynomial_values, columns=polynomial_column_names)\n",
    "\n",
    "while True:\n",
    "    if polynomial_column in columns:\n",
    "        polynomial_column = random.choice(polynomial_column_names)\n",
    "    else:\n",
    "        columns.append(polynomial_column)\n",
    "        break\n",
    "        \n",
    "data[polynomial_column] = polynomial_data[polynomial_column]\n",
    "\n",
    "polynomial_score = get_line_regression_score(\n",
    "    data=data.fillna(0),\n",
    "    column_names=columns,\n",
    "    target_column_name=target)\n",
    "\n",
    "polynomial_score"
   ]
  },
  {
   "cell_type": "code",
   "execution_count": 25,
   "id": "1810a6e7",
   "metadata": {},
   "outputs": [
    {
     "data": {
      "image/png": "[encoded data removed]",
      "text/plain": [
       "<Figure size 432x288 with 1 Axes>"
      ]
     },
     "metadata": {
      "needs_background": "light"
     },
     "output_type": "display_data"
    }
   ],
   "source": [
    "scores = [\n",
    "    state_score, state_hospital, max_floor_score,\n",
    "    floor_score, material_score,\n",
    "    num_score, build_year_score,\n",
    "    kitch_sq_score, metro_min_walk_score,\n",
    "    life_sq_score,\n",
    "    total_km_score, \n",
    "    squaer_area_m_score,\n",
    "    floor_max_floor_score,\n",
    "    life_kitch_sq_score,\n",
    "    polynomial_score\n",
    "]\n",
    "\n",
    "pyplot.plot(\n",
    "    list(range(len(scores))), \n",
    "    scores)\n",
    "pyplot.show()"
   ]
  },
  {
   "cell_type": "code",
   "execution_count": null,
   "id": "dcec80ef",
   "metadata": {},
   "outputs": [],
   "source": []
  }
 ],
 "metadata": {
  "kernelspec": {
   "display_name": "Python 3",
   "language": "python",
   "name": "python3"
  },
  "language_info": {
   "codemirror_mode": {
    "name": "ipython",
    "version": 3
   },
   "file_extension": ".py",
   "mimetype": "text/x-python",
   "name": "python",
   "nbconvert_exporter": "python",
   "pygments_lexer": "ipython3",
   "version": "3.9.1"
  }
 },
 "nbformat": 4,
 "nbformat_minor": 5
}