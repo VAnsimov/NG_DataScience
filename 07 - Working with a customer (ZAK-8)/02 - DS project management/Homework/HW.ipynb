{
  "nbformat": 4,
  "nbformat_minor": 0,
  "metadata": {
    "colab": {
      "name": "Копия блокнота \"Лекция 2.ipynb\"",
      "provenance": []
    },
    "kernelspec": {
      "name": "python3",
      "display_name": "Python 3"
    }
  },
  "cells": [
    {
      "cell_type": "markdown",
      "metadata": {
        "id": "g22z1qGi74LE"
      },
      "source": [
        "# 1. Понимание бизнеса\n",
        "\n",
        "## 1.1 Цель\n",
        "Предсказать тип вин\n",
        "\n",
        "## 1.2 Описание\n",
        "The dataset was downloaded from the UCI Machine Learning Repository.\n",
        "\n",
        "The two datasets are related to red and white variants of the Portuguese \"Vinho Verde\" wine. The reference [Cortez et al., 2009]. Due to privacy and logistic issues, only physicochemical (inputs) and sensory (the output) variables are available (e.g. there is no data about grape types, wine brand, wine selling price, etc.).\n",
        "\n",
        "These datasets can be viewed as classification or regression tasks. The classes are ordered and not balanced (e.g. there are munch more normal wines than excellent or poor ones). Outlier detection algorithms could be used to detect the few excellent or poor wines. Also, we are not sure if all input variables are relevant. So it could be interesting to test feature selection methods.\n",
        "\n",
        "Two datasets were combined and few values were randomly removed.\n",
        "\n",
        "Attribute Information:\n",
        "\n",
        "For more information, read [Cortez et al., 2009]. \n",
        "Input variables (based on physicochemical tests): \n",
        "1 - fixed acidity \n",
        "2 - volatile acidity \n",
        "3 - citric acid \n",
        "4 - residual sugar \n",
        "5 - chlorides \n",
        "6 - free sulfur dioxide \n",
        "7 - total sulfur dioxide \n",
        "8 - density \n",
        "9 - pH \n",
        "10 - sulphates \n",
        "11 - alcohol \n",
        "Output variable (based on sensory data): \n",
        "12 - quality (score between 0 and 10)\n",
        "\n",
        "Acknowledgements:\n",
        "\n",
        "P. Cortez, A. Cerdeira, F. Almeida, T. Matos and J. Reis. \n",
        "Modeling wine preferences by data mining from physicochemical properties. In Decision Support Systems, Elsevier, 47(4):547-553, 2009.\n",
        "\n",
        "[Описание от Kaggle](https://www.kaggle.com/rajyellow46/wine-quality)"
      ]
    },
    {
      "cell_type": "markdown",
      "metadata": {
        "id": "usG1sN_G8h9i"
      },
      "source": [
        "# 2. Data Understanding\n",
        "\n",
        "## 2.1 Import Libraries"
      ]
    },
    {
      "cell_type": "code",
      "metadata": {
        "id": "5X4XAF0P8kuL"
      },
      "source": [
        "# Ignore warnings\n",
        "import warnings\n",
        "warnings.filterwarnings('ignore')\n",
        "\n",
        "# Handle table-like data and matrices\n",
        "import numpy\n",
        "import pandas\n",
        "\n",
        "# Modelling Algorithms\n",
        "from sklearn.tree import DecisionTreeClassifier\n",
        "from sklearn.linear_model import LogisticRegression\n",
        "from sklearn.neighbors import KNeighborsClassifier\n",
        "from sklearn.naive_bayes import GaussianNB\n",
        "from sklearn.svm import SVC, LinearSVC\n",
        "from sklearn.ensemble import RandomForestClassifier , GradientBoostingClassifier\n",
        "\n",
        "# Modelling Helpers\n",
        "from sklearn.impute import SimpleImputer\n",
        "from sklearn.preprocessing import  Normalizer , scale\n",
        "from sklearn.model_selection import train_test_split , StratifiedKFold\n",
        "from sklearn.feature_selection import RFECV\n",
        "\n",
        "# Visualisation\n",
        "import matplotlib\n",
        "from matplotlib import pyplot, pylab\n",
        "import seaborn\n",
        "\n",
        "# Configure visualisations\n",
        "%matplotlib inline\n",
        "matplotlib.style.use( 'ggplot' )\n",
        "seaborn.set_style( 'white' )\n",
        "pylab.rcParams[ 'figure.figsize' ] = 8 , 6"
      ],
      "execution_count": 1,
      "outputs": []
    },
    {
      "cell_type": "markdown",
      "metadata": {
        "id": "tk8pPt-a87tv"
      },
      "source": [
        "## 2.2 Вспомогательные функции"
      ]
    },
    {
      "cell_type": "code",
      "metadata": {
        "id": "F6Ah0Tip8ptG"
      },
      "source": [
        "def plot_histograms(dataFrame , variables , n_rows , n_cols ):\n",
        "    fig = pyplot.figure( figsize = ( 16 , 12 ) )\n",
        "    for index, var_name in enumerate( variables ):\n",
        "        ax = fig.add_subplot(n_rows, n_cols, index + 1)\n",
        "        dataFrame[var_name].hist( bins=10 , ax=ax )\n",
        "        ax.set_title( 'Skew: ' + str( round( float( dataFrame[ var_name ].skew() ) , ) ) ) # + ' ' + var_name ) #var_name+\" Distribution\")\n",
        "        ax.set_xticklabels( [] , visible=False )\n",
        "        ax.set_yticklabels( [] , visible=False )\n",
        "    fig.tight_layout()  # Improves appearance a bit.\n",
        "    pyplot.show()\n",
        "\n",
        "def show_distribution(dataFrame, var, target, **kwargs):\n",
        "    row = kwargs.get('row', None)\n",
        "    col = kwargs.get('col', None)\n",
        "    facet = seaborn.FacetGrid(\n",
        "        dataFrame, \n",
        "        hue=target, \n",
        "        aspect=4, \n",
        "        row=row, \n",
        "        col=col)\n",
        "    facet.map(seaborn.kdeplot, var, shade=True)\n",
        "    facet.set(xlim=(0, dataFrame[var].max()))\n",
        "    facet.add_legend()\n",
        "\n",
        "def plot_categories( df , cat , target , **kwargs ):\n",
        "    row = kwargs.get( 'row' , None )\n",
        "    col = kwargs.get( 'col' , None )\n",
        "    facet = seaborn.FacetGrid( df , row = row , col = col )\n",
        "    facet.map( seaborn.barplot , cat , target )\n",
        "    facet.add_legend()\n",
        "\n",
        "def show_correlation_map(dataFrame):\n",
        "    corr = dataFrame.corr()\n",
        "    _ , ax = pyplot.subplots(figsize=(12, 10))\n",
        "    cmap = seaborn.diverging_palette(220, 10, as_cmap=True)\n",
        "    mask = numpy.zeros_like(corr)\n",
        "    mask[numpy.triu_indices_from(mask)] = True\n",
        "\n",
        "    _ = seaborn.heatmap(\n",
        "        corr, \n",
        "        cmap = cmap,\n",
        "        square=True, \n",
        "        cbar_kws={ 'shrink' : .9 }, \n",
        "        ax=ax, \n",
        "        annot = True, \n",
        "        annot_kws = { 'fontsize' : 12 },\n",
        "        mask=mask)\n",
        "\n",
        "def describe_more( df ):\n",
        "    var = [] ; l = [] ; t = []\n",
        "    for x in df:\n",
        "        var.append( x )\n",
        "        l.append( len( pandas.value_counts( df[ x ] ) ) )\n",
        "        t.append( df[ x ].dtypes )\n",
        "    levels = pandas.DataFrame( { 'Variable' : var , 'Levels' : l , 'Datatype' : t } )\n",
        "    levels.sort_values( by = 'Levels' , inplace = True )\n",
        "    return levels\n",
        "\n",
        "def show_variable_importance(X, y):\n",
        "    tree = DecisionTreeClassifier(random_state=99)\n",
        "    tree.fit(X, y)\n",
        "    show_model_var_imp(tree, X, y)\n",
        "    \n",
        "def show_model_var_imp(model, X, y):\n",
        "    imp = pandas.DataFrame( \n",
        "        model.feature_importances_  , \n",
        "        columns = [ 'Importance' ] , \n",
        "        index = X.columns \n",
        "    )\n",
        "    imp = imp.sort_values( [ 'Importance' ] , ascending = True )\n",
        "    imp[ : 10 ].plot( kind = 'barh' )\n",
        "    print (model.score( X , y ))\n",
        "    "
      ],
      "execution_count": 2,
      "outputs": []
    },
    {
      "cell_type": "markdown",
      "metadata": {
        "id": "WAqrBTmH9D1u"
      },
      "source": [
        "## 2.3 Загрузка данных"
      ]
    },
    {
      "cell_type": "code",
      "metadata": {
        "id": "S7NThw429DCB",
        "colab": {
          "base_uri": "https://localhost:8080/"
        },
        "outputId": "c5b67161-98bf-4675-939a-9f7669a99487"
      },
      "source": [
        "from sklearn.model_selection import train_test_split\n",
        "\n",
        "wine_data = pandas.read_csv(\"winequalityN.csv\")\n",
        "wine_data['type'] = wine_data['type'].map({ 'white': 1, 'red': 0 })\n",
        "wine_train, wine_test = train_test_split(wine_data, test_size=0.2)\n",
        "\n",
        "\n",
        "print('Datasets:' , 'full:' , wine_data.shape , 'titanic:' , wine_train.shape)"
      ],
      "execution_count": 3,
      "outputs": [
        {
          "output_type": "stream",
          "name": "stdout",
          "text": [
            "Datasets: full: (6497, 13) titanic: (5197, 13)\n"
          ]
        }
      ]
    },
    {
      "cell_type": "markdown",
      "metadata": {
        "id": "0_XPer9u9ido"
      },
      "source": [
        "## 2.4 Статистика и визуализации"
      ]
    },
    {
      "cell_type": "code",
      "source": [
        "wine_train.info()"
      ],
      "metadata": {
        "colab": {
          "base_uri": "https://localhost:8080/"
        },
        "id": "Be_CIFyZJnX9",
        "outputId": "951d1617-242b-4e9f-ea0f-e114800250c6"
      },
      "execution_count": 4,
      "outputs": [
        {
          "output_type": "stream",
          "name": "stdout",
          "text": [
            "<class 'pandas.core.frame.DataFrame'>\n",
            "Int64Index: 5197 entries, 4717 to 74\n",
            "Data columns (total 13 columns):\n",
            " #   Column                Non-Null Count  Dtype  \n",
            "---  ------                --------------  -----  \n",
            " 0   type                  5197 non-null   int64  \n",
            " 1   fixed acidity         5189 non-null   float64\n",
            " 2   volatile acidity      5191 non-null   float64\n",
            " 3   citric acid           5195 non-null   float64\n",
            " 4   residual sugar        5195 non-null   float64\n",
            " 5   chlorides             5195 non-null   float64\n",
            " 6   free sulfur dioxide   5197 non-null   float64\n",
            " 7   total sulfur dioxide  5197 non-null   float64\n",
            " 8   density               5197 non-null   float64\n",
            " 9   pH                    5190 non-null   float64\n",
            " 10  sulphates             5193 non-null   float64\n",
            " 11  alcohol               5197 non-null   float64\n",
            " 12  quality               5197 non-null   int64  \n",
            "dtypes: float64(11), int64(2)\n",
            "memory usage: 568.4 KB\n"
          ]
        }
      ]
    },
    {
      "cell_type": "code",
      "metadata": {
        "id": "tQwQq-Sa8_r-",
        "colab": {
          "base_uri": "https://localhost:8080/",
          "height": 265
        },
        "outputId": "416e39fc-a9fc-4bba-e60c-98c166717461"
      },
      "source": [
        "wine_train.head()"
      ],
      "execution_count": 5,
      "outputs": [
        {
          "output_type": "execute_result",
          "data": {
            "text/html": [
              "\n",
              "  <div id=\"df-811a6b5a-5a63-44a2-b47c-bf9b148766f0\">\n",
              "    <div class=\"colab-df-container\">\n",
              "      <div>\n",
              "<style scoped>\n",
              "    .dataframe tbody tr th:only-of-type {\n",
              "        vertical-align: middle;\n",
              "    }\n",
              "\n",
              "    .dataframe tbody tr th {\n",
              "        vertical-align: top;\n",
              "    }\n",
              "\n",
              "    .dataframe thead th {\n",
              "        text-align: right;\n",
              "    }\n",
              "</style>\n",
              "<table border=\"1\" class=\"dataframe\">\n",
              "  <thead>\n",
              "    <tr style=\"text-align: right;\">\n",
              "      <th></th>\n",
              "      <th>type</th>\n",
              "      <th>fixed acidity</th>\n",
              "      <th>volatile acidity</th>\n",
              "      <th>citric acid</th>\n",
              "      <th>residual sugar</th>\n",
              "      <th>chlorides</th>\n",
              "      <th>free sulfur dioxide</th>\n",
              "      <th>total sulfur dioxide</th>\n",
              "      <th>density</th>\n",
              "      <th>pH</th>\n",
              "      <th>sulphates</th>\n",
              "      <th>alcohol</th>\n",
              "      <th>quality</th>\n",
              "    </tr>\n",
              "  </thead>\n",
              "  <tbody>\n",
              "    <tr>\n",
              "      <th>4717</th>\n",
              "      <td>1</td>\n",
              "      <td>4.8</td>\n",
              "      <td>0.225</td>\n",
              "      <td>0.38</td>\n",
              "      <td>1.2</td>\n",
              "      <td>0.074</td>\n",
              "      <td>47.0</td>\n",
              "      <td>130.0</td>\n",
              "      <td>0.99132</td>\n",
              "      <td>3.31</td>\n",
              "      <td>0.40</td>\n",
              "      <td>10.3</td>\n",
              "      <td>6</td>\n",
              "    </tr>\n",
              "    <tr>\n",
              "      <th>5664</th>\n",
              "      <td>0</td>\n",
              "      <td>8.8</td>\n",
              "      <td>0.590</td>\n",
              "      <td>0.18</td>\n",
              "      <td>2.9</td>\n",
              "      <td>0.089</td>\n",
              "      <td>12.0</td>\n",
              "      <td>74.0</td>\n",
              "      <td>0.99738</td>\n",
              "      <td>3.14</td>\n",
              "      <td>0.54</td>\n",
              "      <td>9.4</td>\n",
              "      <td>5</td>\n",
              "    </tr>\n",
              "    <tr>\n",
              "      <th>5881</th>\n",
              "      <td>0</td>\n",
              "      <td>9.1</td>\n",
              "      <td>0.500</td>\n",
              "      <td>0.30</td>\n",
              "      <td>1.9</td>\n",
              "      <td>0.065</td>\n",
              "      <td>8.0</td>\n",
              "      <td>17.0</td>\n",
              "      <td>0.99774</td>\n",
              "      <td>3.32</td>\n",
              "      <td>0.71</td>\n",
              "      <td>10.5</td>\n",
              "      <td>6</td>\n",
              "    </tr>\n",
              "    <tr>\n",
              "      <th>4146</th>\n",
              "      <td>1</td>\n",
              "      <td>7.1</td>\n",
              "      <td>0.130</td>\n",
              "      <td>0.29</td>\n",
              "      <td>15.5</td>\n",
              "      <td>0.064</td>\n",
              "      <td>56.0</td>\n",
              "      <td>115.5</td>\n",
              "      <td>0.99737</td>\n",
              "      <td>3.16</td>\n",
              "      <td>0.41</td>\n",
              "      <td>9.7</td>\n",
              "      <td>7</td>\n",
              "    </tr>\n",
              "    <tr>\n",
              "      <th>500</th>\n",
              "      <td>1</td>\n",
              "      <td>7.2</td>\n",
              "      <td>0.280</td>\n",
              "      <td>0.54</td>\n",
              "      <td>16.7</td>\n",
              "      <td>0.045</td>\n",
              "      <td>54.0</td>\n",
              "      <td>200.0</td>\n",
              "      <td>0.99900</td>\n",
              "      <td>3.08</td>\n",
              "      <td>0.49</td>\n",
              "      <td>9.5</td>\n",
              "      <td>6</td>\n",
              "    </tr>\n",
              "  </tbody>\n",
              "</table>\n",
              "</div>\n",
              "      <button class=\"colab-df-convert\" onclick=\"convertToInteractive('df-811a6b5a-5a63-44a2-b47c-bf9b148766f0')\"\n",
              "              title=\"Convert this dataframe to an interactive table.\"\n",
              "              style=\"display:none;\">\n",
              "        \n",
              "  <svg xmlns=\"http://www.w3.org/2000/svg\" height=\"24px\"viewBox=\"0 0 24 24\"\n",
              "       width=\"24px\">\n",
              "    <path d=\"M0 0h24v24H0V0z\" fill=\"none\"/>\n",
              "    <path d=\"M18.56 5.44l.94 2.06.94-2.06 2.06-.94-2.06-.94-.94-2.06-.94 2.06-2.06.94zm-11 1L8.5 8.5l.94-2.06 2.06-.94-2.06-.94L8.5 2.5l-.94 2.06-2.06.94zm10 10l.94 2.06.94-2.06 2.06-.94-2.06-.94-.94-2.06-.94 2.06-2.06.94z\"/><path d=\"M17.41 7.96l-1.37-1.37c-.4-.4-.92-.59-1.43-.59-.52 0-1.04.2-1.43.59L10.3 9.45l-7.72 7.72c-.78.78-.78 2.05 0 2.83L4 21.41c.39.39.9.59 1.41.59.51 0 1.02-.2 1.41-.59l7.78-7.78 2.81-2.81c.8-.78.8-2.07 0-2.86zM5.41 20L4 18.59l7.72-7.72 1.47 1.35L5.41 20z\"/>\n",
              "  </svg>\n",
              "      </button>\n",
              "      \n",
              "  <style>\n",
              "    .colab-df-container {\n",
              "      display:flex;\n",
              "      flex-wrap:wrap;\n",
              "      gap: 12px;\n",
              "    }\n",
              "\n",
              "    .colab-df-convert {\n",
              "      background-color: #E8F0FE;\n",
              "      border: none;\n",
              "      border-radius: 50%;\n",
              "      cursor: pointer;\n",
              "      display: none;\n",
              "      fill: #1967D2;\n",
              "      height: 32px;\n",
              "      padding: 0 0 0 0;\n",
              "      width: 32px;\n",
              "    }\n",
              "\n",
              "    .colab-df-convert:hover {\n",
              "      background-color: #E2EBFA;\n",
              "      box-shadow: 0px 1px 2px rgba(60, 64, 67, 0.3), 0px 1px 3px 1px rgba(60, 64, 67, 0.15);\n",
              "      fill: #174EA6;\n",
              "    }\n",
              "\n",
              "    [theme=dark] .colab-df-convert {\n",
              "      background-color: #3B4455;\n",
              "      fill: #D2E3FC;\n",
              "    }\n",
              "\n",
              "    [theme=dark] .colab-df-convert:hover {\n",
              "      background-color: #434B5C;\n",
              "      box-shadow: 0px 1px 3px 1px rgba(0, 0, 0, 0.15);\n",
              "      filter: drop-shadow(0px 1px 2px rgba(0, 0, 0, 0.3));\n",
              "      fill: #FFFFFF;\n",
              "    }\n",
              "  </style>\n",
              "\n",
              "      <script>\n",
              "        const buttonEl =\n",
              "          document.querySelector('#df-811a6b5a-5a63-44a2-b47c-bf9b148766f0 button.colab-df-convert');\n",
              "        buttonEl.style.display =\n",
              "          google.colab.kernel.accessAllowed ? 'block' : 'none';\n",
              "\n",
              "        async function convertToInteractive(key) {\n",
              "          const element = document.querySelector('#df-811a6b5a-5a63-44a2-b47c-bf9b148766f0');\n",
              "          const dataTable =\n",
              "            await google.colab.kernel.invokeFunction('convertToInteractive',\n",
              "                                                     [key], {});\n",
              "          if (!dataTable) return;\n",
              "\n",
              "          const docLinkHtml = 'Like what you see? Visit the ' +\n",
              "            '<a target=\"_blank\" href=https://colab.research.google.com/notebooks/data_table.ipynb>data table notebook</a>'\n",
              "            + ' to learn more about interactive tables.';\n",
              "          element.innerHTML = '';\n",
              "          dataTable['output_type'] = 'display_data';\n",
              "          await google.colab.output.renderOutput(dataTable, element);\n",
              "          const docLink = document.createElement('div');\n",
              "          docLink.innerHTML = docLinkHtml;\n",
              "          element.appendChild(docLink);\n",
              "        }\n",
              "      </script>\n",
              "    </div>\n",
              "  </div>\n",
              "  "
            ],
            "text/plain": [
              "      type  fixed acidity  volatile acidity  ...  sulphates  alcohol  quality\n",
              "4717     1            4.8             0.225  ...       0.40     10.3        6\n",
              "5664     0            8.8             0.590  ...       0.54      9.4        5\n",
              "5881     0            9.1             0.500  ...       0.71     10.5        6\n",
              "4146     1            7.1             0.130  ...       0.41      9.7        7\n",
              "500      1            7.2             0.280  ...       0.49      9.5        6\n",
              "\n",
              "[5 rows x 13 columns]"
            ]
          },
          "metadata": {},
          "execution_count": 5
        }
      ]
    },
    {
      "cell_type": "markdown",
      "metadata": {
        "id": "Gh3DXgc19yjY"
      },
      "source": [
        "**Описание переменных**\n",
        "\n",
        " - fixed acidity\n",
        " - volatile acidity\n",
        " - citric acid\n",
        " - residual sugar\n",
        " - chlorides\n",
        " - free sulfur dioxide\n",
        " - total sulfur dioxide\n",
        " - density\n",
        " - pH\n",
        " - sulphates\n",
        " - alcohol\n",
        " - quality\n"
      ]
    },
    {
      "cell_type": "markdown",
      "metadata": {
        "id": "f2N4rJIh-OXm"
      },
      "source": [
        "### 2.4.1 Далее взглянем на некоторую ключевую информацию о переменных\n",
        "Числовая переменная - это переменная со значениями в области целых или действительных чисел, в то время как категориальная переменная - это переменная, которая может принимать одно из ограниченного и обычно фиксированного числа возможных значений, таких как тип крови.\n",
        "\n",
        "Обратите особое внимание на тип каждой переменной, количество наблюдений и некоторые значения переменных."
      ]
    },
    {
      "cell_type": "code",
      "metadata": {
        "id": "LlMKo8ID9xdv",
        "colab": {
          "base_uri": "https://localhost:8080/",
          "height": 395
        },
        "outputId": "0a1c7ef8-926e-4b81-b863-715fbc04302c"
      },
      "source": [
        "wine_train.describe()"
      ],
      "execution_count": 6,
      "outputs": [
        {
          "output_type": "execute_result",
          "data": {
            "text/html": [
              "\n",
              "  <div id=\"df-b314650e-7c2d-4efb-ac83-aeda8bd043b1\">\n",
              "    <div class=\"colab-df-container\">\n",
              "      <div>\n",
              "<style scoped>\n",
              "    .dataframe tbody tr th:only-of-type {\n",
              "        vertical-align: middle;\n",
              "    }\n",
              "\n",
              "    .dataframe tbody tr th {\n",
              "        vertical-align: top;\n",
              "    }\n",
              "\n",
              "    .dataframe thead th {\n",
              "        text-align: right;\n",
              "    }\n",
              "</style>\n",
              "<table border=\"1\" class=\"dataframe\">\n",
              "  <thead>\n",
              "    <tr style=\"text-align: right;\">\n",
              "      <th></th>\n",
              "      <th>type</th>\n",
              "      <th>fixed acidity</th>\n",
              "      <th>volatile acidity</th>\n",
              "      <th>citric acid</th>\n",
              "      <th>residual sugar</th>\n",
              "      <th>chlorides</th>\n",
              "      <th>free sulfur dioxide</th>\n",
              "      <th>total sulfur dioxide</th>\n",
              "      <th>density</th>\n",
              "      <th>pH</th>\n",
              "      <th>sulphates</th>\n",
              "      <th>alcohol</th>\n",
              "      <th>quality</th>\n",
              "    </tr>\n",
              "  </thead>\n",
              "  <tbody>\n",
              "    <tr>\n",
              "      <th>count</th>\n",
              "      <td>5197.000000</td>\n",
              "      <td>5189.000000</td>\n",
              "      <td>5191.000000</td>\n",
              "      <td>5195.000000</td>\n",
              "      <td>5195.000000</td>\n",
              "      <td>5195.000000</td>\n",
              "      <td>5197.000000</td>\n",
              "      <td>5197.000000</td>\n",
              "      <td>5197.000000</td>\n",
              "      <td>5190.000000</td>\n",
              "      <td>5193.000000</td>\n",
              "      <td>5197.000000</td>\n",
              "      <td>5197.000000</td>\n",
              "    </tr>\n",
              "    <tr>\n",
              "      <th>mean</th>\n",
              "      <td>0.754474</td>\n",
              "      <td>7.221362</td>\n",
              "      <td>0.338977</td>\n",
              "      <td>0.320154</td>\n",
              "      <td>5.428046</td>\n",
              "      <td>0.056088</td>\n",
              "      <td>30.550414</td>\n",
              "      <td>115.638060</td>\n",
              "      <td>0.994693</td>\n",
              "      <td>3.217759</td>\n",
              "      <td>0.532228</td>\n",
              "      <td>10.494412</td>\n",
              "      <td>5.816625</td>\n",
              "    </tr>\n",
              "    <tr>\n",
              "      <th>std</th>\n",
              "      <td>0.430440</td>\n",
              "      <td>1.301451</td>\n",
              "      <td>0.163922</td>\n",
              "      <td>0.144204</td>\n",
              "      <td>4.767772</td>\n",
              "      <td>0.034473</td>\n",
              "      <td>17.873760</td>\n",
              "      <td>56.435658</td>\n",
              "      <td>0.003026</td>\n",
              "      <td>0.160001</td>\n",
              "      <td>0.150439</td>\n",
              "      <td>1.190761</td>\n",
              "      <td>0.880050</td>\n",
              "    </tr>\n",
              "    <tr>\n",
              "      <th>min</th>\n",
              "      <td>0.000000</td>\n",
              "      <td>3.800000</td>\n",
              "      <td>0.080000</td>\n",
              "      <td>0.000000</td>\n",
              "      <td>0.600000</td>\n",
              "      <td>0.012000</td>\n",
              "      <td>1.000000</td>\n",
              "      <td>6.000000</td>\n",
              "      <td>0.987110</td>\n",
              "      <td>2.720000</td>\n",
              "      <td>0.220000</td>\n",
              "      <td>8.000000</td>\n",
              "      <td>3.000000</td>\n",
              "    </tr>\n",
              "    <tr>\n",
              "      <th>25%</th>\n",
              "      <td>1.000000</td>\n",
              "      <td>6.400000</td>\n",
              "      <td>0.230000</td>\n",
              "      <td>0.250000</td>\n",
              "      <td>1.800000</td>\n",
              "      <td>0.038000</td>\n",
              "      <td>17.000000</td>\n",
              "      <td>77.000000</td>\n",
              "      <td>0.992300</td>\n",
              "      <td>3.110000</td>\n",
              "      <td>0.430000</td>\n",
              "      <td>9.500000</td>\n",
              "      <td>5.000000</td>\n",
              "    </tr>\n",
              "    <tr>\n",
              "      <th>50%</th>\n",
              "      <td>1.000000</td>\n",
              "      <td>7.000000</td>\n",
              "      <td>0.290000</td>\n",
              "      <td>0.310000</td>\n",
              "      <td>3.000000</td>\n",
              "      <td>0.047000</td>\n",
              "      <td>29.000000</td>\n",
              "      <td>118.000000</td>\n",
              "      <td>0.994860</td>\n",
              "      <td>3.210000</td>\n",
              "      <td>0.510000</td>\n",
              "      <td>10.300000</td>\n",
              "      <td>6.000000</td>\n",
              "    </tr>\n",
              "    <tr>\n",
              "      <th>75%</th>\n",
              "      <td>1.000000</td>\n",
              "      <td>7.700000</td>\n",
              "      <td>0.400000</td>\n",
              "      <td>0.400000</td>\n",
              "      <td>8.000000</td>\n",
              "      <td>0.066000</td>\n",
              "      <td>41.000000</td>\n",
              "      <td>156.000000</td>\n",
              "      <td>0.996950</td>\n",
              "      <td>3.320000</td>\n",
              "      <td>0.600000</td>\n",
              "      <td>11.300000</td>\n",
              "      <td>6.000000</td>\n",
              "    </tr>\n",
              "    <tr>\n",
              "      <th>max</th>\n",
              "      <td>1.000000</td>\n",
              "      <td>15.900000</td>\n",
              "      <td>1.580000</td>\n",
              "      <td>1.660000</td>\n",
              "      <td>65.800000</td>\n",
              "      <td>0.610000</td>\n",
              "      <td>289.000000</td>\n",
              "      <td>440.000000</td>\n",
              "      <td>1.038980</td>\n",
              "      <td>4.010000</td>\n",
              "      <td>2.000000</td>\n",
              "      <td>14.900000</td>\n",
              "      <td>9.000000</td>\n",
              "    </tr>\n",
              "  </tbody>\n",
              "</table>\n",
              "</div>\n",
              "      <button class=\"colab-df-convert\" onclick=\"convertToInteractive('df-b314650e-7c2d-4efb-ac83-aeda8bd043b1')\"\n",
              "              title=\"Convert this dataframe to an interactive table.\"\n",
              "              style=\"display:none;\">\n",
              "        \n",
              "  <svg xmlns=\"http://www.w3.org/2000/svg\" height=\"24px\"viewBox=\"0 0 24 24\"\n",
              "       width=\"24px\">\n",
              "    <path d=\"M0 0h24v24H0V0z\" fill=\"none\"/>\n",
              "    <path d=\"M18.56 5.44l.94 2.06.94-2.06 2.06-.94-2.06-.94-.94-2.06-.94 2.06-2.06.94zm-11 1L8.5 8.5l.94-2.06 2.06-.94-2.06-.94L8.5 2.5l-.94 2.06-2.06.94zm10 10l.94 2.06.94-2.06 2.06-.94-2.06-.94-.94-2.06-.94 2.06-2.06.94z\"/><path d=\"M17.41 7.96l-1.37-1.37c-.4-.4-.92-.59-1.43-.59-.52 0-1.04.2-1.43.59L10.3 9.45l-7.72 7.72c-.78.78-.78 2.05 0 2.83L4 21.41c.39.39.9.59 1.41.59.51 0 1.02-.2 1.41-.59l7.78-7.78 2.81-2.81c.8-.78.8-2.07 0-2.86zM5.41 20L4 18.59l7.72-7.72 1.47 1.35L5.41 20z\"/>\n",
              "  </svg>\n",
              "      </button>\n",
              "      \n",
              "  <style>\n",
              "    .colab-df-container {\n",
              "      display:flex;\n",
              "      flex-wrap:wrap;\n",
              "      gap: 12px;\n",
              "    }\n",
              "\n",
              "    .colab-df-convert {\n",
              "      background-color: #E8F0FE;\n",
              "      border: none;\n",
              "      border-radius: 50%;\n",
              "      cursor: pointer;\n",
              "      display: none;\n",
              "      fill: #1967D2;\n",
              "      height: 32px;\n",
              "      padding: 0 0 0 0;\n",
              "      width: 32px;\n",
              "    }\n",
              "\n",
              "    .colab-df-convert:hover {\n",
              "      background-color: #E2EBFA;\n",
              "      box-shadow: 0px 1px 2px rgba(60, 64, 67, 0.3), 0px 1px 3px 1px rgba(60, 64, 67, 0.15);\n",
              "      fill: #174EA6;\n",
              "    }\n",
              "\n",
              "    [theme=dark] .colab-df-convert {\n",
              "      background-color: #3B4455;\n",
              "      fill: #D2E3FC;\n",
              "    }\n",
              "\n",
              "    [theme=dark] .colab-df-convert:hover {\n",
              "      background-color: #434B5C;\n",
              "      box-shadow: 0px 1px 3px 1px rgba(0, 0, 0, 0.15);\n",
              "      filter: drop-shadow(0px 1px 2px rgba(0, 0, 0, 0.3));\n",
              "      fill: #FFFFFF;\n",
              "    }\n",
              "  </style>\n",
              "\n",
              "      <script>\n",
              "        const buttonEl =\n",
              "          document.querySelector('#df-b314650e-7c2d-4efb-ac83-aeda8bd043b1 button.colab-df-convert');\n",
              "        buttonEl.style.display =\n",
              "          google.colab.kernel.accessAllowed ? 'block' : 'none';\n",
              "\n",
              "        async function convertToInteractive(key) {\n",
              "          const element = document.querySelector('#df-b314650e-7c2d-4efb-ac83-aeda8bd043b1');\n",
              "          const dataTable =\n",
              "            await google.colab.kernel.invokeFunction('convertToInteractive',\n",
              "                                                     [key], {});\n",
              "          if (!dataTable) return;\n",
              "\n",
              "          const docLinkHtml = 'Like what you see? Visit the ' +\n",
              "            '<a target=\"_blank\" href=https://colab.research.google.com/notebooks/data_table.ipynb>data table notebook</a>'\n",
              "            + ' to learn more about interactive tables.';\n",
              "          element.innerHTML = '';\n",
              "          dataTable['output_type'] = 'display_data';\n",
              "          await google.colab.output.renderOutput(dataTable, element);\n",
              "          const docLink = document.createElement('div');\n",
              "          docLink.innerHTML = docLinkHtml;\n",
              "          element.appendChild(docLink);\n",
              "        }\n",
              "      </script>\n",
              "    </div>\n",
              "  </div>\n",
              "  "
            ],
            "text/plain": [
              "              type  fixed acidity  ...      alcohol      quality\n",
              "count  5197.000000    5189.000000  ...  5197.000000  5197.000000\n",
              "mean      0.754474       7.221362  ...    10.494412     5.816625\n",
              "std       0.430440       1.301451  ...     1.190761     0.880050\n",
              "min       0.000000       3.800000  ...     8.000000     3.000000\n",
              "25%       1.000000       6.400000  ...     9.500000     5.000000\n",
              "50%       1.000000       7.000000  ...    10.300000     6.000000\n",
              "75%       1.000000       7.700000  ...    11.300000     6.000000\n",
              "max       1.000000      15.900000  ...    14.900000     9.000000\n",
              "\n",
              "[8 rows x 13 columns]"
            ]
          },
          "metadata": {},
          "execution_count": 6
        }
      ]
    },
    {
      "cell_type": "markdown",
      "metadata": {
        "id": "p3PlSPNY-jdN"
      },
      "source": [
        "### 2.4.2 Тепловая карта корреляции может дать нам понимание того, какие переменные важны"
      ]
    },
    {
      "cell_type": "code",
      "metadata": {
        "id": "v8pohERw9tGa",
        "colab": {
          "base_uri": "https://localhost:8080/",
          "height": 667
        },
        "outputId": "b5b31fc3-9683-41d0-d3ac-c55b855e0b5b"
      },
      "source": [
        "show_correlation_map(wine_train)"
      ],
      "execution_count": 7,
      "outputs": [
        {
          "output_type": "display_data",
          "data": {
            "image/png": "[encoded data removed]",
            "text/plain": [
              "<Figure size 864x720 with 2 Axes>"
            ]
          },
          "metadata": {
            "needs_background": "light"
          }
        }
      ]
    },
    {
      "cell_type": "markdown",
      "metadata": {
        "id": "2zHb7af_-xxI"
      },
      "source": [
        "### 2.4.3 Давайте подробнее рассмотрим взаимосвязь между признаками\n",
        "Начнем с рассмотрения взаимосвязи между total sulfur dioxide и type."
      ]
    },
    {
      "cell_type": "code",
      "metadata": {
        "id": "C4V3Yq18-r44",
        "colab": {
          "base_uri": "https://localhost:8080/",
          "height": 224
        },
        "outputId": "3489800d-d127-494f-b6ec-af9f27929b1a"
      },
      "source": [
        "show_distribution(wine_train, var='total sulfur dioxide', target='type')"
      ],
      "execution_count": 8,
      "outputs": [
        {
          "output_type": "display_data",
          "data": {
            "image/png": "[encoded data removed]",
            "text/plain": [
              "<Figure size 906.375x216 with 1 Axes>"
            ]
          },
          "metadata": {
            "needs_background": "light"
          }
        }
      ]
    },
    {
      "cell_type": "code",
      "source": [
        "show_distribution(wine_train, var='volatile acidity', target='type')"
      ],
      "metadata": {
        "colab": {
          "base_uri": "https://localhost:8080/",
          "height": 225
        },
        "id": "JMb_xvl1I6Yj",
        "outputId": "25f648a9-b93f-4cc4-9341-f61457869cf4"
      },
      "execution_count": 9,
      "outputs": [
        {
          "output_type": "display_data",
          "data": {
            "image/png": "[encoded data removed]",
            "text/plain": [
              "<Figure size 906.375x216 with 1 Axes>"
            ]
          },
          "metadata": {
            "needs_background": "light"
          }
        }
      ]
    },
    {
      "cell_type": "markdown",
      "metadata": {
        "id": "R8YMil5o_Dwz"
      },
      "source": [
        "Рассмотрим графики выше. Различия между выживаемостью для разных значений - это то, что будет использоваться для разделения целевой переменной (в данном случае - выживаемости) в модели. Если бы две линии были примерно одинаковыми, то это не было бы хорошей переменной для нашей прогностической модели."
      ]
    },
    {
      "cell_type": "markdown",
      "metadata": {
        "id": "PeaFi3xU_fyO"
      },
      "source": [
        "# 3. Data Preparation"
      ]
    },
    {
      "cell_type": "markdown",
      "metadata": {
        "id": "YJRM4Hw7_77J"
      },
      "source": [
        "## 3.1 Заполнить пропущенные значения в переменных\n",
        "Большинство алгоритмов машинного обучения требуют, чтобы все переменные имели значения, чтобы использовать их для обучения модели. Самый простой метод - заполнить пропущенные значения средним по переменной для всех наблюдений в обучающем наборе."
      ]
    },
    {
      "cell_type": "code",
      "metadata": {
        "id": "si7oZbok_4at",
        "colab": {
          "base_uri": "https://localhost:8080/"
        },
        "outputId": "05c577af-b96f-4855-bf81-cbb818a92d8f"
      },
      "source": [
        "for column in ['volatile acidity', 'citric acid', 'residual sugar', 'chlorides', 'pH', 'sulphates']:\n",
        "  wine_train[column] = wine_train[column].fillna(wine_train[column].mean())\n",
        "\n",
        "wine_train = wine_train.dropna()\n",
        "wine_train.info()"
      ],
      "execution_count": 10,
      "outputs": [
        {
          "output_type": "stream",
          "name": "stdout",
          "text": [
            "<class 'pandas.core.frame.DataFrame'>\n",
            "Int64Index: 5189 entries, 4717 to 74\n",
            "Data columns (total 13 columns):\n",
            " #   Column                Non-Null Count  Dtype  \n",
            "---  ------                --------------  -----  \n",
            " 0   type                  5189 non-null   int64  \n",
            " 1   fixed acidity         5189 non-null   float64\n",
            " 2   volatile acidity      5189 non-null   float64\n",
            " 3   citric acid           5189 non-null   float64\n",
            " 4   residual sugar        5189 non-null   float64\n",
            " 5   chlorides             5189 non-null   float64\n",
            " 6   free sulfur dioxide   5189 non-null   float64\n",
            " 7   total sulfur dioxide  5189 non-null   float64\n",
            " 8   density               5189 non-null   float64\n",
            " 9   pH                    5189 non-null   float64\n",
            " 10  sulphates             5189 non-null   float64\n",
            " 11  alcohol               5189 non-null   float64\n",
            " 12  quality               5189 non-null   int64  \n",
            "dtypes: float64(11), int64(2)\n",
            "memory usage: 567.5 KB\n"
          ]
        }
      ]
    },
    {
      "cell_type": "markdown",
      "metadata": {
        "id": "RUg0TYyYBRze"
      },
      "source": [
        "## 3.2 Создание датасетов\n",
        "\n",
        "Отделяем данные для обучения и для проверки"
      ]
    },
    {
      "cell_type": "markdown",
      "source": [
        ""
      ],
      "metadata": {
        "id": "ChSQwMh-SGqe"
      }
    },
    {
      "cell_type": "code",
      "metadata": {
        "id": "G4-lG3peBKJ4"
      },
      "source": [
        "train_X = wine_train.drop(['type'], axis=1).dropna()\n",
        "train_y = wine_train['type']\n",
        "\n",
        "wine_test = wine_test.dropna()\n",
        "test_X = wine_test.drop(['type'], axis=1)\n",
        "test_y = wine_test['type']"
      ],
      "execution_count": 11,
      "outputs": []
    },
    {
      "cell_type": "markdown",
      "metadata": {
        "id": "VxO8GuJ0BcTk"
      },
      "source": [
        "## 3.3 Важность признаков\n",
        "Отбор оптимальных признаков для модели имеет важное значение. Теперь мы попытаемся оценить, какие переменные являются наиболее важными, чтобы сделать прогноз."
      ]
    },
    {
      "cell_type": "code",
      "metadata": {
        "id": "42E87OHwBXfP",
        "colab": {
          "base_uri": "https://localhost:8080/",
          "height": 282
        },
        "outputId": "b1263709-84f5-4dbd-d259-81cd2ca56c89"
      },
      "source": [
        "show_variable_importance(train_X, train_y)"
      ],
      "execution_count": 12,
      "outputs": [
        {
          "output_type": "stream",
          "name": "stdout",
          "text": [
            "0.9998072846405859\n"
          ]
        },
        {
          "output_type": "display_data",
          "data": {
            "image/png": "[encoded data removed]",
            "text/plain": [
              "<Figure size 432x288 with 1 Axes>"
            ]
          },
          "metadata": {
            "needs_background": "light"
          }
        }
      ]
    },
    {
      "cell_type": "markdown",
      "metadata": {
        "id": "6mHqpt5VBtwT"
      },
      "source": [
        "# 4. Моделирование\n",
        "Теперь мы выберем модель, которую хотели бы попробовать. Используем обучающий набор данных для обучения модели и затем проверим ее с помощью тестового набора.\n",
        "\n",
        "## 4.1 Выбор модели\n",
        "Хорошей отправной точкой является логистическая регрессия."
      ]
    },
    {
      "cell_type": "code",
      "metadata": {
        "id": "avcBfnVnBmiH"
      },
      "source": [
        "model = LogisticRegression()"
      ],
      "execution_count": 13,
      "outputs": []
    },
    {
      "cell_type": "markdown",
      "metadata": {
        "id": "cyYtwoJhCHqN"
      },
      "source": [
        "## 4.2 Обучение модели"
      ]
    },
    {
      "cell_type": "code",
      "metadata": {
        "id": "G3vcg2kaCEA7",
        "colab": {
          "base_uri": "https://localhost:8080/"
        },
        "outputId": "5f836692-4799-415a-842c-7ad02badc6d7"
      },
      "source": [
        "model.fit(train_X , train_y)"
      ],
      "execution_count": 14,
      "outputs": [
        {
          "output_type": "execute_result",
          "data": {
            "text/plain": [
              "LogisticRegression()"
            ]
          },
          "metadata": {},
          "execution_count": 14
        }
      ]
    },
    {
      "cell_type": "markdown",
      "metadata": {
        "id": "WZTikINDCRsx"
      },
      "source": [
        "# 5. Оценка\n",
        "Теперь мы собираемся оценить модель\n",
        "\n",
        "## 5.1 Модель\n",
        "Мы можем оценить точность модели, используя набор для валидации, где мы знаем фактический результат. Этот набор данных не использовался для обучения, поэтому он абсолютно новый для модели.\n",
        "\n",
        "Затем мы сравниваем точность с точностью при использовании модели на тренировочных данных. Если разница между ними значительна, это свидетельствует о переобучении. Мы стараемся избегать этого, потому что это означает, что модель не будет хорошо обобщаться на новые данные (будет работать плохо)"
      ]
    },
    {
      "cell_type": "code",
      "metadata": {
        "id": "ML6cE4GsCGb8",
        "colab": {
          "base_uri": "https://localhost:8080/"
        },
        "outputId": "e1b9ef3f-6dd0-44ee-b3ba-b705e62bca48"
      },
      "source": [
        "# Score the model\n",
        "print(model.score(train_X, train_y), model.score(test_X, test_y))"
      ],
      "execution_count": 15,
      "outputs": [
        {
          "output_type": "stream",
          "name": "stdout",
          "text": [
            "0.9799576026209289 0.9760432766615147\n"
          ]
        }
      ]
    },
    {
      "cell_type": "markdown",
      "metadata": {
        "id": "FatfdNHbDHyx"
      },
      "source": [
        "# 6. Развертывание\n",
        "\n",
        "Развертывание в данном означает публикацию полученного прогноза в таблицу лидеров Kaggle."
      ]
    },
    {
      "cell_type": "code",
      "metadata": {
        "id": "y1nSeRSCC4cU"
      },
      "source": [
        ""
      ],
      "execution_count": 15,
      "outputs": []
    },
    {
      "cell_type": "code",
      "metadata": {
        "id": "UzvUKxeiDTAu"
      },
      "source": [
        ""
      ],
      "execution_count": 15,
      "outputs": []
    }
  ]
}