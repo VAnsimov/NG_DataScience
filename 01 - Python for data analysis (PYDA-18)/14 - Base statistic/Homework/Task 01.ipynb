{
 "cells": [
  {
   "cell_type": "markdown",
   "metadata": {
    "pycharm": {
     "name": "#%% md\n"
    }
   },
   "source": [
    "### Задание 1. Базовое изучение\n",
    "\n",
    "Изучить представленный набор данных на основе [описания его столбцов](https://raw.githubusercontent.com/obulygin/pyda_homeworks/master/statistics_basics/horse_data.names) и выбрать 8 столбцов для дальнейшего изучения (среди них должны быть как числовые, так и категориальные). Провести расчет базовых метрик для них, кратко описать результаты."
   ]
  },
  {
   "cell_type": "code",
   "execution_count": 1,
   "metadata": {
    "collapsed": false,
    "jupyter": {
     "outputs_hidden": false
    },
    "pycharm": {
     "name": "#%%\n"
    }
   },
   "outputs": [],
   "source": [
    "import pandas\n",
    "from HorsesService import HorsesService"
   ]
  },
  {
   "cell_type": "code",
   "execution_count": 2,
   "metadata": {
    "collapsed": false,
    "jupyter": {
     "outputs_hidden": false
    },
    "pycharm": {
     "name": "#%%\n"
    }
   },
   "outputs": [],
   "source": [
    "horsesService = HorsesService()\n",
    "horse_data = horsesService.fetch_processed_hourse_data_frame()"
   ]
  },
  {
   "cell_type": "code",
   "execution_count": 3,
   "metadata": {
    "collapsed": false,
    "jupyter": {
     "outputs_hidden": false
    },
    "pycharm": {
     "name": "#%%\n"
    }
   },
   "outputs": [
    {
     "data": {
      "text/plain": "is_surgery                          1.00\nage                                 1.00\nhospital_number                530305.50\nrectal_temperature                 38.20\npulse                              64.00\nrespiratory_rate                   24.50\ntemperature_of_extremities          3.00\nperipheral_pulse                    2.00\nmucous_membranes                    3.00\ncapillary_refill_time               1.00\npain                                3.00\nperistalsis                         3.00\nabdominal_distension                2.00\nnasogastric_tube                    2.00\nnasogastric_reflux                  1.00\nnasogastric_reflux_ph               5.00\nrectal_examination_-_feces          3.00\nabdomen                             4.00\npacked_cell_volume                 45.00\ntotal_protein                       7.50\nabdominocentesis_appearance         2.00\nabdomcentesis_total_protein         2.25\noutcome                             1.00\nis_surgical_lesion                  1.00\ntype_of_lesion_1                 2673.50\ntype_of_lesion_2                    0.00\ntype_of_lesion_3                    0.00\ncp_data                             0.00\ndtype: float64"
     },
     "execution_count": 3,
     "metadata": {},
     "output_type": "execute_result"
    }
   ],
   "source": [
    "horse_data.median()"
   ]
  },
  {
   "cell_type": "code",
   "execution_count": 4,
   "metadata": {
    "collapsed": false,
    "jupyter": {
     "outputs_hidden": false
    },
    "pycharm": {
     "name": "#%%\n"
    }
   },
   "outputs": [
    {
     "data": {
      "text/plain": "              age  hospital_number  rectal_temperature       pulse  \\\ncount  300.000000     3.000000e+02          240.000000  276.000000   \nmean     1.640000     1.085889e+06           38.167917   71.913043   \nstd      2.173972     1.529801e+06            0.732289   28.630557   \nmin      1.000000     5.184760e+05           35.400000   30.000000   \n25%      1.000000     5.289040e+05           37.800000   48.000000   \n50%      1.000000     5.303055e+05           38.200000   64.000000   \n75%      1.000000     5.347275e+05           38.500000   88.000000   \nmax      9.000000     5.305629e+06           40.800000  184.000000   \n\n       respiratory_rate  temperature_of_extremities  peripheral_pulse  \\\ncount        242.000000                  244.000000        231.000000   \nmean          30.417355                    2.348361          2.017316   \nstd           17.642231                    1.045054          1.042428   \nmin            8.000000                    1.000000          1.000000   \n25%           18.500000                    1.000000          1.000000   \n50%           24.500000                    3.000000          2.000000   \n75%           36.000000                    3.000000          3.000000   \nmax           96.000000                    4.000000          4.000000   \n\n       capillary_refill_time  packed_cell_volume  total_protein  \\\ncount             268.000000          271.000000     267.000000   \nmean                1.305970           46.295203      24.456929   \nstd                 0.477629           10.419335      27.475009   \nmin                 1.000000           23.000000       3.300000   \n25%                 1.000000           38.000000       6.500000   \n50%                 1.000000           45.000000       7.500000   \n75%                 2.000000           52.000000      57.000000   \nmax                 3.000000           75.000000      89.000000   \n\n       abdomcentesis_total_protein  \ncount                   102.000000  \nmean                      3.019608  \nstd                       1.968567  \nmin                       0.100000  \n25%                       2.000000  \n50%                       2.250000  \n75%                       3.900000  \nmax                      10.100000  ",
      "text/html": "<div>\n<style scoped>\n    .dataframe tbody tr th:only-of-type {\n        vertical-align: middle;\n    }\n\n    .dataframe tbody tr th {\n        vertical-align: top;\n    }\n\n    .dataframe thead th {\n        text-align: right;\n    }\n</style>\n<table border=\"1\" class=\"dataframe\">\n  <thead>\n    <tr style=\"text-align: right;\">\n      <th></th>\n      <th>age</th>\n      <th>hospital_number</th>\n      <th>rectal_temperature</th>\n      <th>pulse</th>\n      <th>respiratory_rate</th>\n      <th>temperature_of_extremities</th>\n      <th>peripheral_pulse</th>\n      <th>capillary_refill_time</th>\n      <th>packed_cell_volume</th>\n      <th>total_protein</th>\n      <th>abdomcentesis_total_protein</th>\n    </tr>\n  </thead>\n  <tbody>\n    <tr>\n      <th>count</th>\n      <td>300.000000</td>\n      <td>3.000000e+02</td>\n      <td>240.000000</td>\n      <td>276.000000</td>\n      <td>242.000000</td>\n      <td>244.000000</td>\n      <td>231.000000</td>\n      <td>268.000000</td>\n      <td>271.000000</td>\n      <td>267.000000</td>\n      <td>102.000000</td>\n    </tr>\n    <tr>\n      <th>mean</th>\n      <td>1.640000</td>\n      <td>1.085889e+06</td>\n      <td>38.167917</td>\n      <td>71.913043</td>\n      <td>30.417355</td>\n      <td>2.348361</td>\n      <td>2.017316</td>\n      <td>1.305970</td>\n      <td>46.295203</td>\n      <td>24.456929</td>\n      <td>3.019608</td>\n    </tr>\n    <tr>\n      <th>std</th>\n      <td>2.173972</td>\n      <td>1.529801e+06</td>\n      <td>0.732289</td>\n      <td>28.630557</td>\n      <td>17.642231</td>\n      <td>1.045054</td>\n      <td>1.042428</td>\n      <td>0.477629</td>\n      <td>10.419335</td>\n      <td>27.475009</td>\n      <td>1.968567</td>\n    </tr>\n    <tr>\n      <th>min</th>\n      <td>1.000000</td>\n      <td>5.184760e+05</td>\n      <td>35.400000</td>\n      <td>30.000000</td>\n      <td>8.000000</td>\n      <td>1.000000</td>\n      <td>1.000000</td>\n      <td>1.000000</td>\n      <td>23.000000</td>\n      <td>3.300000</td>\n      <td>0.100000</td>\n    </tr>\n    <tr>\n      <th>25%</th>\n      <td>1.000000</td>\n      <td>5.289040e+05</td>\n      <td>37.800000</td>\n      <td>48.000000</td>\n      <td>18.500000</td>\n      <td>1.000000</td>\n      <td>1.000000</td>\n      <td>1.000000</td>\n      <td>38.000000</td>\n      <td>6.500000</td>\n      <td>2.000000</td>\n    </tr>\n    <tr>\n      <th>50%</th>\n      <td>1.000000</td>\n      <td>5.303055e+05</td>\n      <td>38.200000</td>\n      <td>64.000000</td>\n      <td>24.500000</td>\n      <td>3.000000</td>\n      <td>2.000000</td>\n      <td>1.000000</td>\n      <td>45.000000</td>\n      <td>7.500000</td>\n      <td>2.250000</td>\n    </tr>\n    <tr>\n      <th>75%</th>\n      <td>1.000000</td>\n      <td>5.347275e+05</td>\n      <td>38.500000</td>\n      <td>88.000000</td>\n      <td>36.000000</td>\n      <td>3.000000</td>\n      <td>3.000000</td>\n      <td>2.000000</td>\n      <td>52.000000</td>\n      <td>57.000000</td>\n      <td>3.900000</td>\n    </tr>\n    <tr>\n      <th>max</th>\n      <td>9.000000</td>\n      <td>5.305629e+06</td>\n      <td>40.800000</td>\n      <td>184.000000</td>\n      <td>96.000000</td>\n      <td>4.000000</td>\n      <td>4.000000</td>\n      <td>3.000000</td>\n      <td>75.000000</td>\n      <td>89.000000</td>\n      <td>10.100000</td>\n    </tr>\n  </tbody>\n</table>\n</div>"
     },
     "execution_count": 4,
     "metadata": {},
     "output_type": "execute_result"
    }
   ],
   "source": [
    "horse_data.describe()"
   ]
  },
  {
   "cell_type": "code",
   "execution_count": 5,
   "metadata": {
    "collapsed": false,
    "jupyter": {
     "outputs_hidden": false
    },
    "pycharm": {
     "name": "#%%\n"
    }
   },
   "outputs": [
    {
     "name": "stdout",
     "output_type": "stream",
     "text": [
      "Переболели единожды 95%\n",
      "Перенесли операцию: 60%\n",
      "Умерли: 41%\n",
      "Патологии для данной болезни: 33%\n"
     ]
    }
   ],
   "source": [
    "hospital_number_percent = len(horse_data['hospital_number'].drop_duplicates()) / len(horse_data['hospital_number'])\n",
    "print('Переболели единожды {:.0%}'.format(hospital_number_percent))\n",
    "\n",
    "surgery_positively_percent =  len(horse_data[horse_data['is_surgery'] == True]) / len(horse_data['is_surgery'])\n",
    "print('Перенесли операцию: {:.0%}'.format(surgery_positively_percent))\n",
    "\n",
    "outcome_percent = (len(horse_data['outcome']) - len(horse_data[horse_data['outcome'] == '1'])) / len(horse_data['outcome'])\n",
    "print('Умерли: {:.0%}'.format(outcome_percent))\n",
    "\n",
    "outcome_percent = len(horse_data[horse_data['cp_data'] == True]) / len(horse_data['cp_data'])\n",
    "print('Патологии для данной болезни: {:.0%}'.format(outcome_percent))"
   ]
  },
  {
   "cell_type": "markdown",
   "metadata": {
    "pycharm": {
     "name": "#%% md\n"
    }
   },
   "source": [
    "### Сводка по данным\n",
    "\n",
    "- Возраст: взрослая лошадь\n",
    "- Перенесли операцию: 60%\n",
    "- Вылечили без операции: 40%\n",
    "- Номера лошадей говорит что 95% переболели единожды\n",
    "- Пульс здоровой лошади 30-40, медиана больных 64\n",
    "- Частота дыхания здоровой лошади 8-10, медиана больных лошадей 24\n",
    "- Температура конечностей больных лошадей: холодная (cool)\n",
    "- Периферический пульс: вырос (increased)\n",
    "- Слизистые оболочки: бледно-розовый (pale pink)\n",
    "- Время наполнения капилляров меньше 3 сек, что хорошо\n",
    "- Ощущение боли: прерывистая легкая боль (intermittent mild pain)\n",
    "- Перистальтика: hypomotile\n",
    "- Вздутие живота: слабый (slight)\n",
    "- Газы из назогастрального зонда: слабый (slight)\n",
    "- Рефлюкс из назогастрального зонда: none\n",
    "- HP Рефлюкс из назогастрального зонда: чуть выше нормы\n",
    "- Калл: уменьшен (decreased)\n",
    "- У больных лошадей растянутый тонкий кишечник, что говорит о необходимости хирургического вмешательства\n",
    "- Кровь (packed cell volume) в нормальном диапазоне\n",
    "- Общий белок находится на верхней границе нормального диапазона\n",
    "- Жидкость из брюшной полости: cloudy\n",
    "- Уровень протеина: 2.25\n",
    "- Умерли: 41%\n",
    "- Патологии для данной болезни: 33%\n",
    "\n",
    "### Общий портрет болеющий лошади:\n",
    "Это взрослая лошадь, чаще требовалась операция из-за изменившегося размера кишечника (растянутый тонкий).\n",
    "\n",
    "Болезнь можно увидеть без сложных медицинских приборов и исследований:\n",
    " - есть легкое вздутие живота\n",
    " - учащенное дыхание\n",
    " - холодные конечности\n",
    " - уменьшен калл\n",
    "\n",
    "Почти все лошади болеют единожды. Большинство лошадей болеют без патологий (70%).\n",
    "Данная болезнь несет за собой высокую смертность 41%."
   ]
  }
 ],
 "metadata": {
  "kernelspec": {
   "display_name": "Python 3",
   "language": "python",
   "name": "python3"
  },
  "language_info": {
   "codemirror_mode": {
    "name": "ipython",
    "version": 3
   },
   "file_extension": ".py",
   "mimetype": "text/x-python",
   "name": "python",
   "nbconvert_exporter": "python",
   "pygments_lexer": "ipython3",
   "version": "3.9.1"
  }
 },
 "nbformat": 4,
 "nbformat_minor": 4
}