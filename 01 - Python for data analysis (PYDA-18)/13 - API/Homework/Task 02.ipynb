{
 "cells": [
  {
   "cell_type": "markdown",
   "metadata": {},
   "source": [
    "## Задание 2.\n",
    "\n",
    "### Обязательная часть\n",
    "\n",
    "Написать скрипт, который будет проверять список e-mail адресов на утечку при помощи сервиса [Avast Hack Ckeck](https://www.avast.com/hackcheck/).\n",
    "Список email-ов задаем переменной в начале кода:  \n",
    "`EMAIL = [xxx@x.ru, yyy@y.com]`\n",
    "\n",
    "В итоге должен формироваться датафрейм со столбцами: `<почта> - <дата утечки> - <источник утечки> - <описание утечки>`  \n",
    "\n",
    "**Подсказка**: сервис работает при помощи \"скрытого\" API. Внимательно изучите post-запросы.\n",
    "\n",
    "### Дополнительная часть (необязательная)\n",
    "\n",
    "\n",
    "Написать скрипт, который будет получать 50 последних постов указанной группы во Вконтакте.  \n",
    "Документация к API VK: https://vk.com/dev/methods\n",
    ", вам поможет метод [wall.get](https://vk.com/dev/wall.get)  \n",
    "```\n",
    "GROUP = 'netology'  \n",
    "TOKEN = УДАЛЯЙТЕ В ВЕРСИИ ДЛЯ ПРОВЕРКИ, НА GITHUB НЕ ВЫКЛАДЫВАТЬ  \n",
    "```\n",
    "\n",
    "В итоге должен формироваться датафрейм со столбцами: `<дата поста> - <текст поста>`"
   ]
  },
  {
   "cell_type": "code",
   "execution_count": 1,
   "metadata": {
    "collapsed": false,
    "jupyter": {
     "outputs_hidden": false
    },
    "pycharm": {
     "name": "#%%\n"
    }
   },
   "outputs": [],
   "source": [
    "import requests\n",
    "import pandas\n",
    "import numpy"
   ]
  },
  {
   "cell_type": "code",
   "execution_count": 2,
   "metadata": {
    "collapsed": false,
    "jupyter": {
     "outputs_hidden": false
    },
    "pycharm": {
     "name": "#%%\n"
    }
   },
   "outputs": [],
   "source": [
    "def get_avast_response(emails: [str]) -> requests.Response:\n",
    "    return requests.post(\n",
    "        url='https://identityprotection.avast.com/v1/web/query/site-breaches/unauthorized-data',\n",
    "        json={'emailAddresses': emails},\n",
    "        headers={\n",
    "            'User-Agent': 'Mozilla/5.0 (Macintosh; Intel Mac OS X 10_15_6) AppleWebKit/605.1.15 (KHTML, like Gecko) Version/14.0.3 Safari/605.1.15',\n",
    "            'Vaar-Version': '0',\n",
    "            'Vaar-Header-App-Product-Name': 'hackcheck-web-avast',\n",
    "            'Vaar-Header-App-Build-Version': '1.0.0'}\n",
    "        )\n",
    "\n",
    "avast_response = get_avast_response(\n",
    "    emails=[\n",
    "        'oradrim@mail.ru',\n",
    "        'bikhev@yandex.ru'\n",
    "    ]\n",
    ")"
   ]
  },
  {
   "cell_type": "code",
   "execution_count": 3,
   "metadata": {
    "pycharm": {
     "name": "#%%\n"
    }
   },
   "outputs": [
    {
     "data": {
      "text/html": [
       "<div>\n",
       "<style scoped>\n",
       "    .dataframe tbody tr th:only-of-type {\n",
       "        vertical-align: middle;\n",
       "    }\n",
       "\n",
       "    .dataframe tbody tr th {\n",
       "        vertical-align: top;\n",
       "    }\n",
       "\n",
       "    .dataframe thead th {\n",
       "        text-align: right;\n",
       "    }\n",
       "</style>\n",
       "<table border=\"1\" class=\"dataframe\">\n",
       "  <thead>\n",
       "    <tr style=\"text-align: right;\">\n",
       "      <th></th>\n",
       "      <th>email</th>\n",
       "      <th>date</th>\n",
       "      <th>source</th>\n",
       "      <th>description</th>\n",
       "    </tr>\n",
       "  </thead>\n",
       "  <tbody>\n",
       "    <tr>\n",
       "      <th>0</th>\n",
       "      <td>oradrim@mail.ru</td>\n",
       "      <td>2019-03-20T00:00:00Z</td>\n",
       "      <td>bookmate.com</td>\n",
       "      <td>In July 2018, Bookmate was allegedly breached....</td>\n",
       "    </tr>\n",
       "    <tr>\n",
       "      <th>0</th>\n",
       "      <td>oradrim@mail.ru</td>\n",
       "      <td>2020-05-21T00:00:00Z</td>\n",
       "      <td>vk.com</td>\n",
       "      <td>At some time in 2020, the Russian social netwo...</td>\n",
       "    </tr>\n",
       "    <tr>\n",
       "      <th>0</th>\n",
       "      <td>oradrim@mail.ru</td>\n",
       "      <td>2016-10-21T00:00:00Z</td>\n",
       "      <td>myspace.com</td>\n",
       "      <td>Shortly before the 2016 Memorial Day weekend, ...</td>\n",
       "    </tr>\n",
       "    <tr>\n",
       "      <th>0</th>\n",
       "      <td>oradrim@mail.ru</td>\n",
       "      <td>2016-11-01T00:00:00Z</td>\n",
       "      <td>qip.ru</td>\n",
       "      <td>In 2011, Russian instant messaging service pro...</td>\n",
       "    </tr>\n",
       "    <tr>\n",
       "      <th>0</th>\n",
       "      <td>oradrim@mail.ru</td>\n",
       "      <td>2017-06-14T00:00:00Z</td>\n",
       "      <td>nnm-club.me</td>\n",
       "      <td>In September 2013, Russian torrent tracker NNM...</td>\n",
       "    </tr>\n",
       "    <tr>\n",
       "      <th>0</th>\n",
       "      <td>bikhev@yandex.ru</td>\n",
       "      <td>2016-10-26T00:00:00Z</td>\n",
       "      <td>twitter.com</td>\n",
       "      <td>Login credentials for over 32 Million Twitter ...</td>\n",
       "    </tr>\n",
       "  </tbody>\n",
       "</table>\n",
       "</div>"
      ],
      "text/plain": [
       "              email                  date        source  \\\n",
       "0   oradrim@mail.ru  2019-03-20T00:00:00Z  bookmate.com   \n",
       "0   oradrim@mail.ru  2020-05-21T00:00:00Z        vk.com   \n",
       "0   oradrim@mail.ru  2016-10-21T00:00:00Z   myspace.com   \n",
       "0   oradrim@mail.ru  2016-11-01T00:00:00Z        qip.ru   \n",
       "0   oradrim@mail.ru  2017-06-14T00:00:00Z   nnm-club.me   \n",
       "0  bikhev@yandex.ru  2016-10-26T00:00:00Z   twitter.com   \n",
       "\n",
       "                                         description  \n",
       "0  In July 2018, Bookmate was allegedly breached....  \n",
       "0  At some time in 2020, the Russian social netwo...  \n",
       "0  Shortly before the 2016 Memorial Day weekend, ...  \n",
       "0  In 2011, Russian instant messaging service pro...  \n",
       "0  In September 2013, Russian torrent tracker NNM...  \n",
       "0  Login credentials for over 32 Million Twitter ...  "
      ]
     },
     "execution_count": 3,
     "metadata": {},
     "output_type": "execute_result"
    }
   ],
   "source": [
    "def transform_to_data_frame(leaks: dict) -> pandas.DataFrame:\n",
    "    data_frame = pandas.DataFrame()\n",
    "    summary_key, breaches_key = [\n",
    "        'summary', 'breaches'\n",
    "    ]\n",
    "\n",
    "    # Checking for the presence of data by keys\n",
    "    for key in [summary_key, breaches_key]:\n",
    "        if not key in leaks:\n",
    "            return data_frame\n",
    "\n",
    "    # Iterate through all available emails\n",
    "    for email_key, values in leaks[summary_key].items():\n",
    "        if not breaches_key in values:\n",
    "            continue\n",
    "\n",
    "        # Iterate every leak in the current mail (email_key)\n",
    "        for branch in values[breaches_key]:\n",
    "            line = get_line_data_frame(\n",
    "                leaks=leaks,\n",
    "                branch_key=str(branch),\n",
    "                email=email_key\n",
    "            )\n",
    "            data_frame = pandas.concat([data_frame, line])\n",
    "\n",
    "    return  data_frame\n",
    "\n",
    "def get_line_data_frame(leaks: dict, branch_key: str, email: str) -> pandas.DataFrame:\n",
    "    breaches_key, publishDate_key, description_key, site_key = [\n",
    "        'breaches', 'publishDate', 'description', 'site'\n",
    "    ]\n",
    "    breaches = leaks[breaches_key]\n",
    "\n",
    "    # Checking for the presence of data by keys\n",
    "    if not branch_key in breaches:\n",
    "        return pandas.DataFrame()\n",
    "\n",
    "    branch = breaches[branch_key]\n",
    "\n",
    "    # Checking for the presence of data by keys\n",
    "    for key in [site_key, publishDate_key, description_key]:\n",
    "        if not key in branch:\n",
    "            return pandas.DataFrame()\n",
    "\n",
    "    return pandas.DataFrame({\n",
    "        'email': [email],\n",
    "        'date': [branch[publishDate_key]],\n",
    "        'source': [branch[site_key]],\n",
    "        'description': [branch[description_key]]\n",
    "    })\n",
    "\n",
    "leaks_table = transform_to_data_frame(\n",
    "    leaks=avast_response.json()\n",
    ")\n",
    "\n",
    "leaks_table\n"
   ]
  },
  {
   "cell_type": "code",
   "execution_count": null,
   "metadata": {},
   "outputs": [],
   "source": []
  }
 ],
 "metadata": {
  "kernelspec": {
   "display_name": "Python 3",
   "language": "python",
   "name": "python3"
  },
  "language_info": {
   "codemirror_mode": {
    "name": "ipython",
    "version": 3
   },
   "file_extension": ".py",
   "mimetype": "text/x-python",
   "name": "python",
   "nbconvert_exporter": "python",
   "pygments_lexer": "ipython3",
   "version": "3.9.1"
  }
 },
 "nbformat": 4,
 "nbformat_minor": 4
}