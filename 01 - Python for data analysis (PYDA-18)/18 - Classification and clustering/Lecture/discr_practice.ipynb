{
 "cells": [
  {
   "cell_type": "code",
   "execution_count": 1,
   "metadata": {
    "id": "-ppToJrUWoJ0"
   },
   "outputs": [],
   "source": [
    "from sklearn.datasets import load_wine\n",
    "import pandas as pd\n",
    "import numpy as np\n",
    "import matplotlib.pyplot as plt\n",
    "from matplotlib import colors"
   ]
  },
  {
   "cell_type": "code",
   "execution_count": 2,
   "metadata": {
    "id": "ik4WLSx51KZY"
   },
   "outputs": [],
   "source": [
    "cmap = colors.LinearSegmentedColormap(\n",
    "    'red_blue_classes',\n",
    "    {'red': [(0, 1, 1), (1, 0.7, 0.7)],\n",
    "     'green': [(0, 0.7, 0.7), (1, 0.7, 0.7)],\n",
    "     'blue': [(0, 0.7, 0.7), (1, 1, 1)]})\n",
    "plt.cm.register_cmap(cmap=cmap)"
   ]
  },
  {
   "cell_type": "code",
   "execution_count": 3,
   "metadata": {
    "id": "cmLC9M6oW2v8"
   },
   "outputs": [],
   "source": [
    "wine = load_wine()"
   ]
  },
  {
   "cell_type": "code",
   "execution_count": 4,
   "metadata": {
    "colab": {
     "base_uri": "https://localhost:8080/",
     "height": 1000
    },
    "id": "7eptbMYNvq0S",
    "outputId": "84d1fd28-1a3a-4f31-be7a-3312114bdafb"
   },
   "outputs": [
    {
     "name": "stdout",
     "output_type": "stream",
     "text": [
      ".. _wine_dataset:\n",
      "\n",
      "Wine recognition dataset\n",
      "------------------------\n",
      "\n",
      "**Data Set Characteristics:**\n",
      "\n",
      "    :Number of Instances: 178 (50 in each of three classes)\n",
      "    :Number of Attributes: 13 numeric, predictive attributes and the class\n",
      "    :Attribute Information:\n",
      " \t\t- Alcohol\n",
      " \t\t- Malic acid\n",
      " \t\t- Ash\n",
      "\t\t- Alcalinity of ash  \n",
      " \t\t- Magnesium\n",
      "\t\t- Total phenols\n",
      " \t\t- Flavanoids\n",
      " \t\t- Nonflavanoid phenols\n",
      " \t\t- Proanthocyanins\n",
      "\t\t- Color intensity\n",
      " \t\t- Hue\n",
      " \t\t- OD280/OD315 of diluted wines\n",
      " \t\t- Proline\n",
      "\n",
      "    - class:\n",
      "            - class_0\n",
      "            - class_1\n",
      "            - class_2\n",
      "\t\t\n",
      "    :Summary Statistics:\n",
      "    \n",
      "    ============================= ==== ===== ======= =====\n",
      "                                   Min   Max   Mean     SD\n",
      "    ============================= ==== ===== ======= =====\n",
      "    Alcohol:                      11.0  14.8    13.0   0.8\n",
      "    Malic Acid:                   0.74  5.80    2.34  1.12\n",
      "    Ash:                          1.36  3.23    2.36  0.27\n",
      "    Alcalinity of Ash:            10.6  30.0    19.5   3.3\n",
      "    Magnesium:                    70.0 162.0    99.7  14.3\n",
      "    Total Phenols:                0.98  3.88    2.29  0.63\n",
      "    Flavanoids:                   0.34  5.08    2.03  1.00\n",
      "    Nonflavanoid Phenols:         0.13  0.66    0.36  0.12\n",
      "    Proanthocyanins:              0.41  3.58    1.59  0.57\n",
      "    Colour Intensity:              1.3  13.0     5.1   2.3\n",
      "    Hue:                          0.48  1.71    0.96  0.23\n",
      "    OD280/OD315 of diluted wines: 1.27  4.00    2.61  0.71\n",
      "    Proline:                       278  1680     746   315\n",
      "    ============================= ==== ===== ======= =====\n",
      "\n",
      "    :Missing Attribute Values: None\n",
      "    :Class Distribution: class_0 (59), class_1 (71), class_2 (48)\n",
      "    :Creator: R.A. Fisher\n",
      "    :Donor: Michael Marshall (MARSHALL%PLU@io.arc.nasa.gov)\n",
      "    :Date: July, 1988\n",
      "\n",
      "This is a copy of UCI ML Wine recognition datasets.\n",
      "https://archive.ics.uci.edu/ml/machine-learning-databases/wine/wine.data\n",
      "\n",
      "The data is the results of a chemical analysis of wines grown in the same\n",
      "region in Italy by three different cultivators. There are thirteen different\n",
      "measurements taken for different constituents found in the three types of\n",
      "wine.\n",
      "\n",
      "Original Owners: \n",
      "\n",
      "Forina, M. et al, PARVUS - \n",
      "An Extendible Package for Data Exploration, Classification and Correlation. \n",
      "Institute of Pharmaceutical and Food Analysis and Technologies,\n",
      "Via Brigata Salerno, 16147 Genoa, Italy.\n",
      "\n",
      "Citation:\n",
      "\n",
      "Lichman, M. (2013). UCI Machine Learning Repository\n",
      "[https://archive.ics.uci.edu/ml]. Irvine, CA: University of California,\n",
      "School of Information and Computer Science. \n",
      "\n",
      ".. topic:: References\n",
      "\n",
      "  (1) S. Aeberhard, D. Coomans and O. de Vel, \n",
      "  Comparison of Classifiers in High Dimensional Settings, \n",
      "  Tech. Rep. no. 92-02, (1992), Dept. of Computer Science and Dept. of  \n",
      "  Mathematics and Statistics, James Cook University of North Queensland. \n",
      "  (Also submitted to Technometrics). \n",
      "\n",
      "  The data was used with many others for comparing various \n",
      "  classifiers. The classes are separable, though only RDA \n",
      "  has achieved 100% correct classification. \n",
      "  (RDA : 100%, QDA 99.4%, LDA 98.9%, 1NN 96.1% (z-transformed data)) \n",
      "  (All results using the leave-one-out technique) \n",
      "\n",
      "  (2) S. Aeberhard, D. Coomans and O. de Vel, \n",
      "  \"THE CLASSIFICATION PERFORMANCE OF RDA\" \n",
      "  Tech. Rep. no. 92-01, (1992), Dept. of Computer Science and Dept. of \n",
      "  Mathematics and Statistics, James Cook University of North Queensland. \n",
      "  (Also submitted to Journal of Chemometrics).\n",
      "\n"
     ]
    }
   ],
   "source": [
    "print(wine.DESCR)"
   ]
  },
  {
   "cell_type": "code",
   "execution_count": 6,
   "metadata": {
    "id": "7rO21IhnvyIo"
   },
   "outputs": [],
   "source": [
    "# загружаем данные в датафрейм\n",
    "data = pd.DataFrame(wine.data, columns=wine.feature_names)\n",
    "data_class = wine.target"
   ]
  },
  {
   "cell_type": "code",
   "execution_count": 7,
   "metadata": {
    "colab": {
     "base_uri": "https://localhost:8080/",
     "height": 447
    },
    "id": "M92y_fa2wBjn",
    "outputId": "b0f66858-8650-4d65-a29f-b136d4f3612f"
   },
   "outputs": [
    {
     "data": {
      "text/html": [
       "<div>\n",
       "<style scoped>\n",
       "    .dataframe tbody tr th:only-of-type {\n",
       "        vertical-align: middle;\n",
       "    }\n",
       "\n",
       "    .dataframe tbody tr th {\n",
       "        vertical-align: top;\n",
       "    }\n",
       "\n",
       "    .dataframe thead th {\n",
       "        text-align: right;\n",
       "    }\n",
       "</style>\n",
       "<table border=\"1\" class=\"dataframe\">\n",
       "  <thead>\n",
       "    <tr style=\"text-align: right;\">\n",
       "      <th></th>\n",
       "      <th>alcohol</th>\n",
       "      <th>malic_acid</th>\n",
       "      <th>ash</th>\n",
       "      <th>alcalinity_of_ash</th>\n",
       "      <th>magnesium</th>\n",
       "      <th>total_phenols</th>\n",
       "      <th>flavanoids</th>\n",
       "      <th>nonflavanoid_phenols</th>\n",
       "      <th>proanthocyanins</th>\n",
       "      <th>color_intensity</th>\n",
       "      <th>hue</th>\n",
       "      <th>od280/od315_of_diluted_wines</th>\n",
       "      <th>proline</th>\n",
       "    </tr>\n",
       "  </thead>\n",
       "  <tbody>\n",
       "    <tr>\n",
       "      <th>0</th>\n",
       "      <td>14.23</td>\n",
       "      <td>1.71</td>\n",
       "      <td>2.43</td>\n",
       "      <td>15.6</td>\n",
       "      <td>127.0</td>\n",
       "      <td>2.80</td>\n",
       "      <td>3.06</td>\n",
       "      <td>0.28</td>\n",
       "      <td>2.29</td>\n",
       "      <td>5.64</td>\n",
       "      <td>1.04</td>\n",
       "      <td>3.92</td>\n",
       "      <td>1065.0</td>\n",
       "    </tr>\n",
       "    <tr>\n",
       "      <th>1</th>\n",
       "      <td>13.20</td>\n",
       "      <td>1.78</td>\n",
       "      <td>2.14</td>\n",
       "      <td>11.2</td>\n",
       "      <td>100.0</td>\n",
       "      <td>2.65</td>\n",
       "      <td>2.76</td>\n",
       "      <td>0.26</td>\n",
       "      <td>1.28</td>\n",
       "      <td>4.38</td>\n",
       "      <td>1.05</td>\n",
       "      <td>3.40</td>\n",
       "      <td>1050.0</td>\n",
       "    </tr>\n",
       "    <tr>\n",
       "      <th>2</th>\n",
       "      <td>13.16</td>\n",
       "      <td>2.36</td>\n",
       "      <td>2.67</td>\n",
       "      <td>18.6</td>\n",
       "      <td>101.0</td>\n",
       "      <td>2.80</td>\n",
       "      <td>3.24</td>\n",
       "      <td>0.30</td>\n",
       "      <td>2.81</td>\n",
       "      <td>5.68</td>\n",
       "      <td>1.03</td>\n",
       "      <td>3.17</td>\n",
       "      <td>1185.0</td>\n",
       "    </tr>\n",
       "    <tr>\n",
       "      <th>3</th>\n",
       "      <td>14.37</td>\n",
       "      <td>1.95</td>\n",
       "      <td>2.50</td>\n",
       "      <td>16.8</td>\n",
       "      <td>113.0</td>\n",
       "      <td>3.85</td>\n",
       "      <td>3.49</td>\n",
       "      <td>0.24</td>\n",
       "      <td>2.18</td>\n",
       "      <td>7.80</td>\n",
       "      <td>0.86</td>\n",
       "      <td>3.45</td>\n",
       "      <td>1480.0</td>\n",
       "    </tr>\n",
       "    <tr>\n",
       "      <th>4</th>\n",
       "      <td>13.24</td>\n",
       "      <td>2.59</td>\n",
       "      <td>2.87</td>\n",
       "      <td>21.0</td>\n",
       "      <td>118.0</td>\n",
       "      <td>2.80</td>\n",
       "      <td>2.69</td>\n",
       "      <td>0.39</td>\n",
       "      <td>1.82</td>\n",
       "      <td>4.32</td>\n",
       "      <td>1.04</td>\n",
       "      <td>2.93</td>\n",
       "      <td>735.0</td>\n",
       "    </tr>\n",
       "    <tr>\n",
       "      <th>...</th>\n",
       "      <td>...</td>\n",
       "      <td>...</td>\n",
       "      <td>...</td>\n",
       "      <td>...</td>\n",
       "      <td>...</td>\n",
       "      <td>...</td>\n",
       "      <td>...</td>\n",
       "      <td>...</td>\n",
       "      <td>...</td>\n",
       "      <td>...</td>\n",
       "      <td>...</td>\n",
       "      <td>...</td>\n",
       "      <td>...</td>\n",
       "    </tr>\n",
       "    <tr>\n",
       "      <th>173</th>\n",
       "      <td>13.71</td>\n",
       "      <td>5.65</td>\n",
       "      <td>2.45</td>\n",
       "      <td>20.5</td>\n",
       "      <td>95.0</td>\n",
       "      <td>1.68</td>\n",
       "      <td>0.61</td>\n",
       "      <td>0.52</td>\n",
       "      <td>1.06</td>\n",
       "      <td>7.70</td>\n",
       "      <td>0.64</td>\n",
       "      <td>1.74</td>\n",
       "      <td>740.0</td>\n",
       "    </tr>\n",
       "    <tr>\n",
       "      <th>174</th>\n",
       "      <td>13.40</td>\n",
       "      <td>3.91</td>\n",
       "      <td>2.48</td>\n",
       "      <td>23.0</td>\n",
       "      <td>102.0</td>\n",
       "      <td>1.80</td>\n",
       "      <td>0.75</td>\n",
       "      <td>0.43</td>\n",
       "      <td>1.41</td>\n",
       "      <td>7.30</td>\n",
       "      <td>0.70</td>\n",
       "      <td>1.56</td>\n",
       "      <td>750.0</td>\n",
       "    </tr>\n",
       "    <tr>\n",
       "      <th>175</th>\n",
       "      <td>13.27</td>\n",
       "      <td>4.28</td>\n",
       "      <td>2.26</td>\n",
       "      <td>20.0</td>\n",
       "      <td>120.0</td>\n",
       "      <td>1.59</td>\n",
       "      <td>0.69</td>\n",
       "      <td>0.43</td>\n",
       "      <td>1.35</td>\n",
       "      <td>10.20</td>\n",
       "      <td>0.59</td>\n",
       "      <td>1.56</td>\n",
       "      <td>835.0</td>\n",
       "    </tr>\n",
       "    <tr>\n",
       "      <th>176</th>\n",
       "      <td>13.17</td>\n",
       "      <td>2.59</td>\n",
       "      <td>2.37</td>\n",
       "      <td>20.0</td>\n",
       "      <td>120.0</td>\n",
       "      <td>1.65</td>\n",
       "      <td>0.68</td>\n",
       "      <td>0.53</td>\n",
       "      <td>1.46</td>\n",
       "      <td>9.30</td>\n",
       "      <td>0.60</td>\n",
       "      <td>1.62</td>\n",
       "      <td>840.0</td>\n",
       "    </tr>\n",
       "    <tr>\n",
       "      <th>177</th>\n",
       "      <td>14.13</td>\n",
       "      <td>4.10</td>\n",
       "      <td>2.74</td>\n",
       "      <td>24.5</td>\n",
       "      <td>96.0</td>\n",
       "      <td>2.05</td>\n",
       "      <td>0.76</td>\n",
       "      <td>0.56</td>\n",
       "      <td>1.35</td>\n",
       "      <td>9.20</td>\n",
       "      <td>0.61</td>\n",
       "      <td>1.60</td>\n",
       "      <td>560.0</td>\n",
       "    </tr>\n",
       "  </tbody>\n",
       "</table>\n",
       "<p>178 rows × 13 columns</p>\n",
       "</div>"
      ],
      "text/plain": [
       "     alcohol  malic_acid   ash  alcalinity_of_ash  magnesium  total_phenols  \\\n",
       "0      14.23        1.71  2.43               15.6      127.0           2.80   \n",
       "1      13.20        1.78  2.14               11.2      100.0           2.65   \n",
       "2      13.16        2.36  2.67               18.6      101.0           2.80   \n",
       "3      14.37        1.95  2.50               16.8      113.0           3.85   \n",
       "4      13.24        2.59  2.87               21.0      118.0           2.80   \n",
       "..       ...         ...   ...                ...        ...            ...   \n",
       "173    13.71        5.65  2.45               20.5       95.0           1.68   \n",
       "174    13.40        3.91  2.48               23.0      102.0           1.80   \n",
       "175    13.27        4.28  2.26               20.0      120.0           1.59   \n",
       "176    13.17        2.59  2.37               20.0      120.0           1.65   \n",
       "177    14.13        4.10  2.74               24.5       96.0           2.05   \n",
       "\n",
       "     flavanoids  nonflavanoid_phenols  proanthocyanins  color_intensity   hue  \\\n",
       "0          3.06                  0.28             2.29             5.64  1.04   \n",
       "1          2.76                  0.26             1.28             4.38  1.05   \n",
       "2          3.24                  0.30             2.81             5.68  1.03   \n",
       "3          3.49                  0.24             2.18             7.80  0.86   \n",
       "4          2.69                  0.39             1.82             4.32  1.04   \n",
       "..          ...                   ...              ...              ...   ...   \n",
       "173        0.61                  0.52             1.06             7.70  0.64   \n",
       "174        0.75                  0.43             1.41             7.30  0.70   \n",
       "175        0.69                  0.43             1.35            10.20  0.59   \n",
       "176        0.68                  0.53             1.46             9.30  0.60   \n",
       "177        0.76                  0.56             1.35             9.20  0.61   \n",
       "\n",
       "     od280/od315_of_diluted_wines  proline  \n",
       "0                            3.92   1065.0  \n",
       "1                            3.40   1050.0  \n",
       "2                            3.17   1185.0  \n",
       "3                            3.45   1480.0  \n",
       "4                            2.93    735.0  \n",
       "..                            ...      ...  \n",
       "173                          1.74    740.0  \n",
       "174                          1.56    750.0  \n",
       "175                          1.56    835.0  \n",
       "176                          1.62    840.0  \n",
       "177                          1.60    560.0  \n",
       "\n",
       "[178 rows x 13 columns]"
      ]
     },
     "execution_count": 7,
     "metadata": {},
     "output_type": "execute_result"
    }
   ],
   "source": [
    "data"
   ]
  },
  {
   "cell_type": "code",
   "execution_count": 8,
   "metadata": {},
   "outputs": [
    {
     "data": {
      "text/plain": [
       "array([0, 0, 0, 0, 0, 0, 0, 0, 0, 0, 0, 0, 0, 0, 0, 0, 0, 0, 0, 0, 0, 0,\n",
       "       0, 0, 0, 0, 0, 0, 0, 0, 0, 0, 0, 0, 0, 0, 0, 0, 0, 0, 0, 0, 0, 0,\n",
       "       0, 0, 0, 0, 0, 0, 0, 0, 0, 0, 0, 0, 0, 0, 0, 1, 1, 1, 1, 1, 1, 1,\n",
       "       1, 1, 1, 1, 1, 1, 1, 1, 1, 1, 1, 1, 1, 1, 1, 1, 1, 1, 1, 1, 1, 1,\n",
       "       1, 1, 1, 1, 1, 1, 1, 1, 1, 1, 1, 1, 1, 1, 1, 1, 1, 1, 1, 1, 1, 1,\n",
       "       1, 1, 1, 1, 1, 1, 1, 1, 1, 1, 1, 1, 1, 1, 1, 1, 1, 1, 1, 1, 2, 2,\n",
       "       2, 2, 2, 2, 2, 2, 2, 2, 2, 2, 2, 2, 2, 2, 2, 2, 2, 2, 2, 2, 2, 2,\n",
       "       2, 2, 2, 2, 2, 2, 2, 2, 2, 2, 2, 2, 2, 2, 2, 2, 2, 2, 2, 2, 2, 2,\n",
       "       2, 2])"
      ]
     },
     "execution_count": 8,
     "metadata": {},
     "output_type": "execute_result"
    }
   ],
   "source": [
    "data_class"
   ]
  },
  {
   "cell_type": "code",
   "execution_count": 9,
   "metadata": {
    "id": "lFjqjX-iwCaW"
   },
   "outputs": [],
   "source": [
    "# разделяем выборку на тренировочную и тестовую\n",
    "from sklearn.model_selection import train_test_split\n",
    "X_train, X_test, y_train, y_test = train_test_split(data, data_class, test_size=0.25)"
   ]
  },
  {
   "cell_type": "code",
   "execution_count": 10,
   "metadata": {},
   "outputs": [
    {
     "data": {
      "text/plain": [
       "45"
      ]
     },
     "execution_count": 10,
     "metadata": {},
     "output_type": "execute_result"
    }
   ],
   "source": [
    "len(y_test)"
   ]
  },
  {
   "cell_type": "code",
   "execution_count": 11,
   "metadata": {
    "id": "6HINhvLtwdZT"
   },
   "outputs": [],
   "source": [
    "# импортируем LDA-функционал\n",
    "from sklearn.discriminant_analysis import LinearDiscriminantAnalysis"
   ]
  },
  {
   "cell_type": "code",
   "execution_count": 12,
   "metadata": {
    "id": "0Us8oVotwku1"
   },
   "outputs": [],
   "source": [
    "lda = LinearDiscriminantAnalysis()"
   ]
  },
  {
   "cell_type": "code",
   "execution_count": 13,
   "metadata": {
    "colab": {
     "base_uri": "https://localhost:8080/",
     "height": 72
    },
    "id": "h5Ufc5sjwnZ3",
    "outputId": "7d6c7182-8c84-4a03-f784-e32307ab0270"
   },
   "outputs": [
    {
     "data": {
      "text/plain": [
       "LinearDiscriminantAnalysis()"
      ]
     },
     "execution_count": 13,
     "metadata": {},
     "output_type": "execute_result"
    }
   ],
   "source": [
    "# обучаем данные\n",
    "lda.fit(X_train, y_train)"
   ]
  },
  {
   "cell_type": "code",
   "execution_count": 14,
   "metadata": {
    "colab": {
     "base_uri": "https://localhost:8080/",
     "height": 72
    },
    "id": "bcZ3H-T1xSWu",
    "outputId": "b2e22b45-347b-4270-a543-63b2a9ce6378"
   },
   "outputs": [
    {
     "data": {
      "text/plain": [
       "array([2, 0, 1, 1, 1, 0, 0, 1, 2, 1, 0, 1, 2, 2, 1, 1, 2, 0, 2, 2, 2, 0,\n",
       "       1, 0, 2, 1, 2, 1, 2, 0, 1, 0, 1, 0, 2, 2, 2, 0, 0, 1, 2, 1, 1, 2,\n",
       "       1])"
      ]
     },
     "execution_count": 14,
     "metadata": {},
     "output_type": "execute_result"
    }
   ],
   "source": [
    "# делаем прогноз на тестовой выборке\n",
    "lda.predict(X_test)"
   ]
  },
  {
   "cell_type": "code",
   "execution_count": 15,
   "metadata": {
    "id": "9wGodM6OxUds"
   },
   "outputs": [],
   "source": [
    "# смотрим разницу факта и прогноза\n",
    "result = pd.DataFrame([y_test, lda.predict(X_test)]).T"
   ]
  },
  {
   "cell_type": "code",
   "execution_count": 16,
   "metadata": {
    "colab": {
     "base_uri": "https://localhost:8080/",
     "height": 1000
    },
    "id": "RK4zDP6ZxaXI",
    "outputId": "f0c457bc-4f96-47f8-fa00-0ecb66d4e555"
   },
   "outputs": [
    {
     "data": {
      "text/html": [
       "<div>\n",
       "<style scoped>\n",
       "    .dataframe tbody tr th:only-of-type {\n",
       "        vertical-align: middle;\n",
       "    }\n",
       "\n",
       "    .dataframe tbody tr th {\n",
       "        vertical-align: top;\n",
       "    }\n",
       "\n",
       "    .dataframe thead th {\n",
       "        text-align: right;\n",
       "    }\n",
       "</style>\n",
       "<table border=\"1\" class=\"dataframe\">\n",
       "  <thead>\n",
       "    <tr style=\"text-align: right;\">\n",
       "      <th></th>\n",
       "      <th>0</th>\n",
       "      <th>1</th>\n",
       "    </tr>\n",
       "  </thead>\n",
       "  <tbody>\n",
       "    <tr>\n",
       "      <th>0</th>\n",
       "      <td>2</td>\n",
       "      <td>2</td>\n",
       "    </tr>\n",
       "    <tr>\n",
       "      <th>1</th>\n",
       "      <td>0</td>\n",
       "      <td>0</td>\n",
       "    </tr>\n",
       "    <tr>\n",
       "      <th>2</th>\n",
       "      <td>1</td>\n",
       "      <td>1</td>\n",
       "    </tr>\n",
       "    <tr>\n",
       "      <th>3</th>\n",
       "      <td>1</td>\n",
       "      <td>1</td>\n",
       "    </tr>\n",
       "    <tr>\n",
       "      <th>4</th>\n",
       "      <td>1</td>\n",
       "      <td>1</td>\n",
       "    </tr>\n",
       "    <tr>\n",
       "      <th>5</th>\n",
       "      <td>0</td>\n",
       "      <td>0</td>\n",
       "    </tr>\n",
       "    <tr>\n",
       "      <th>6</th>\n",
       "      <td>0</td>\n",
       "      <td>0</td>\n",
       "    </tr>\n",
       "    <tr>\n",
       "      <th>7</th>\n",
       "      <td>1</td>\n",
       "      <td>1</td>\n",
       "    </tr>\n",
       "    <tr>\n",
       "      <th>8</th>\n",
       "      <td>2</td>\n",
       "      <td>2</td>\n",
       "    </tr>\n",
       "    <tr>\n",
       "      <th>9</th>\n",
       "      <td>1</td>\n",
       "      <td>1</td>\n",
       "    </tr>\n",
       "    <tr>\n",
       "      <th>10</th>\n",
       "      <td>0</td>\n",
       "      <td>0</td>\n",
       "    </tr>\n",
       "    <tr>\n",
       "      <th>11</th>\n",
       "      <td>1</td>\n",
       "      <td>1</td>\n",
       "    </tr>\n",
       "    <tr>\n",
       "      <th>12</th>\n",
       "      <td>2</td>\n",
       "      <td>2</td>\n",
       "    </tr>\n",
       "    <tr>\n",
       "      <th>13</th>\n",
       "      <td>2</td>\n",
       "      <td>2</td>\n",
       "    </tr>\n",
       "    <tr>\n",
       "      <th>14</th>\n",
       "      <td>1</td>\n",
       "      <td>1</td>\n",
       "    </tr>\n",
       "    <tr>\n",
       "      <th>15</th>\n",
       "      <td>1</td>\n",
       "      <td>1</td>\n",
       "    </tr>\n",
       "    <tr>\n",
       "      <th>16</th>\n",
       "      <td>2</td>\n",
       "      <td>2</td>\n",
       "    </tr>\n",
       "    <tr>\n",
       "      <th>17</th>\n",
       "      <td>0</td>\n",
       "      <td>0</td>\n",
       "    </tr>\n",
       "    <tr>\n",
       "      <th>18</th>\n",
       "      <td>2</td>\n",
       "      <td>2</td>\n",
       "    </tr>\n",
       "    <tr>\n",
       "      <th>19</th>\n",
       "      <td>1</td>\n",
       "      <td>2</td>\n",
       "    </tr>\n",
       "    <tr>\n",
       "      <th>20</th>\n",
       "      <td>2</td>\n",
       "      <td>2</td>\n",
       "    </tr>\n",
       "    <tr>\n",
       "      <th>21</th>\n",
       "      <td>0</td>\n",
       "      <td>0</td>\n",
       "    </tr>\n",
       "    <tr>\n",
       "      <th>22</th>\n",
       "      <td>1</td>\n",
       "      <td>1</td>\n",
       "    </tr>\n",
       "    <tr>\n",
       "      <th>23</th>\n",
       "      <td>0</td>\n",
       "      <td>0</td>\n",
       "    </tr>\n",
       "    <tr>\n",
       "      <th>24</th>\n",
       "      <td>2</td>\n",
       "      <td>2</td>\n",
       "    </tr>\n",
       "    <tr>\n",
       "      <th>25</th>\n",
       "      <td>1</td>\n",
       "      <td>1</td>\n",
       "    </tr>\n",
       "    <tr>\n",
       "      <th>26</th>\n",
       "      <td>2</td>\n",
       "      <td>2</td>\n",
       "    </tr>\n",
       "    <tr>\n",
       "      <th>27</th>\n",
       "      <td>1</td>\n",
       "      <td>1</td>\n",
       "    </tr>\n",
       "    <tr>\n",
       "      <th>28</th>\n",
       "      <td>2</td>\n",
       "      <td>2</td>\n",
       "    </tr>\n",
       "    <tr>\n",
       "      <th>29</th>\n",
       "      <td>0</td>\n",
       "      <td>0</td>\n",
       "    </tr>\n",
       "    <tr>\n",
       "      <th>30</th>\n",
       "      <td>1</td>\n",
       "      <td>1</td>\n",
       "    </tr>\n",
       "    <tr>\n",
       "      <th>31</th>\n",
       "      <td>0</td>\n",
       "      <td>0</td>\n",
       "    </tr>\n",
       "    <tr>\n",
       "      <th>32</th>\n",
       "      <td>1</td>\n",
       "      <td>1</td>\n",
       "    </tr>\n",
       "    <tr>\n",
       "      <th>33</th>\n",
       "      <td>0</td>\n",
       "      <td>0</td>\n",
       "    </tr>\n",
       "    <tr>\n",
       "      <th>34</th>\n",
       "      <td>2</td>\n",
       "      <td>2</td>\n",
       "    </tr>\n",
       "    <tr>\n",
       "      <th>35</th>\n",
       "      <td>2</td>\n",
       "      <td>2</td>\n",
       "    </tr>\n",
       "    <tr>\n",
       "      <th>36</th>\n",
       "      <td>2</td>\n",
       "      <td>2</td>\n",
       "    </tr>\n",
       "    <tr>\n",
       "      <th>37</th>\n",
       "      <td>0</td>\n",
       "      <td>0</td>\n",
       "    </tr>\n",
       "    <tr>\n",
       "      <th>38</th>\n",
       "      <td>0</td>\n",
       "      <td>0</td>\n",
       "    </tr>\n",
       "    <tr>\n",
       "      <th>39</th>\n",
       "      <td>1</td>\n",
       "      <td>1</td>\n",
       "    </tr>\n",
       "    <tr>\n",
       "      <th>40</th>\n",
       "      <td>2</td>\n",
       "      <td>2</td>\n",
       "    </tr>\n",
       "    <tr>\n",
       "      <th>41</th>\n",
       "      <td>1</td>\n",
       "      <td>1</td>\n",
       "    </tr>\n",
       "    <tr>\n",
       "      <th>42</th>\n",
       "      <td>1</td>\n",
       "      <td>1</td>\n",
       "    </tr>\n",
       "    <tr>\n",
       "      <th>43</th>\n",
       "      <td>2</td>\n",
       "      <td>2</td>\n",
       "    </tr>\n",
       "    <tr>\n",
       "      <th>44</th>\n",
       "      <td>1</td>\n",
       "      <td>1</td>\n",
       "    </tr>\n",
       "  </tbody>\n",
       "</table>\n",
       "</div>"
      ],
      "text/plain": [
       "    0  1\n",
       "0   2  2\n",
       "1   0  0\n",
       "2   1  1\n",
       "3   1  1\n",
       "4   1  1\n",
       "5   0  0\n",
       "6   0  0\n",
       "7   1  1\n",
       "8   2  2\n",
       "9   1  1\n",
       "10  0  0\n",
       "11  1  1\n",
       "12  2  2\n",
       "13  2  2\n",
       "14  1  1\n",
       "15  1  1\n",
       "16  2  2\n",
       "17  0  0\n",
       "18  2  2\n",
       "19  1  2\n",
       "20  2  2\n",
       "21  0  0\n",
       "22  1  1\n",
       "23  0  0\n",
       "24  2  2\n",
       "25  1  1\n",
       "26  2  2\n",
       "27  1  1\n",
       "28  2  2\n",
       "29  0  0\n",
       "30  1  1\n",
       "31  0  0\n",
       "32  1  1\n",
       "33  0  0\n",
       "34  2  2\n",
       "35  2  2\n",
       "36  2  2\n",
       "37  0  0\n",
       "38  0  0\n",
       "39  1  1\n",
       "40  2  2\n",
       "41  1  1\n",
       "42  1  1\n",
       "43  2  2\n",
       "44  1  1"
      ]
     },
     "execution_count": 16,
     "metadata": {},
     "output_type": "execute_result"
    }
   ],
   "source": [
    "result"
   ]
  },
  {
   "cell_type": "code",
   "execution_count": 17,
   "metadata": {
    "id": "B66nVhbk2Mf1"
   },
   "outputs": [],
   "source": [
    "# расчет точности - отношение верных прогнозов к общему количеству позиций\n",
    "# является хорошей метрикой для сбалансированных классов \n",
    "# (наблюдений в категориях примерно одинаковое количество)\n",
    "\n",
    "from sklearn.metrics import accuracy_score"
   ]
  },
  {
   "cell_type": "code",
   "execution_count": 18,
   "metadata": {
    "colab": {
     "base_uri": "https://localhost:8080/",
     "height": 55
    },
    "id": "2x5pYOZB2P2F",
    "outputId": "3ce07925-4c20-4911-dd19-12f48aead815"
   },
   "outputs": [
    {
     "data": {
      "text/plain": [
       "0.9777777777777777"
      ]
     },
     "execution_count": 18,
     "metadata": {},
     "output_type": "execute_result"
    }
   ],
   "source": [
    "accuracy_score(y_test, lda.predict(X_test))"
   ]
  },
  {
   "cell_type": "code",
   "execution_count": 19,
   "metadata": {
    "colab": {
     "base_uri": "https://localhost:8080/",
     "height": 301
    },
    "id": "aBdqgd5ixdMh",
    "outputId": "4c410bf2-a27b-41be-9c95-c330a849f028"
   },
   "outputs": [
    {
     "data": {
      "text/plain": [
       "array([[ 2.57612972e+00,  5.31106986e-02,  5.74622098e+00,\n",
       "        -6.62325948e-01,  4.37296614e-03, -2.83476232e+00,\n",
       "         4.40568990e+00, -8.03875809e-02, -6.54737996e-01,\n",
       "        -7.42085713e-01,  7.90803165e-01,  4.87759776e+00,\n",
       "         1.48144053e-02],\n",
       "       [-2.00851531e+00, -6.13325401e-01, -5.62403094e+00,\n",
       "         3.74523793e-01,  2.28964794e-03, -1.93247665e-01,\n",
       "         1.22150099e+00,  3.63071136e+00,  1.00445415e+00,\n",
       "        -6.89615523e-01,  3.32085652e+00, -3.58661236e-01,\n",
       "        -5.91955765e-03],\n",
       "       [-4.43235918e-01,  9.09395256e-01,  8.48522853e-01,\n",
       "         3.41804805e-01, -9.90547725e-03,  4.34775622e+00,\n",
       "        -8.23657508e+00, -5.71665108e+00, -6.80708604e-01,\n",
       "         2.16447428e+00, -6.45979226e+00, -6.37084997e+00,\n",
       "        -1.15921361e-02]])"
      ]
     },
     "execution_count": 19,
     "metadata": {},
     "output_type": "execute_result"
    }
   ],
   "source": [
    "# коэффициенты дискриминатных линий\n",
    "lda.coef_"
   ]
  },
  {
   "cell_type": "code",
   "execution_count": 20,
   "metadata": {
    "colab": {
     "base_uri": "https://localhost:8080/",
     "height": 285
    },
    "id": "6fWjKgl4yLHO",
    "outputId": "a7b211e3-4835-4864-af20-fc0c5c458d1c"
   },
   "outputs": [
    {
     "data": {
      "image/png": "[encoded data removed]",
      "text/plain": [
       "<Figure size 432x288 with 1 Axes>"
      ]
     },
     "metadata": {
      "needs_background": "light"
     },
     "output_type": "display_data"
    }
   ],
   "source": [
    "# визуализируем дискриминантную линию только по 2 признакам\n",
    "plt.scatter(X_train['ash'], X_train['flavanoids'], c=y_train)\n",
    "plt.show()"
   ]
  },
  {
   "cell_type": "code",
   "execution_count": 21,
   "metadata": {
    "id": "KFSam-cJzCOG"
   },
   "outputs": [],
   "source": [
    "small_train = X_train[(y_train == 0) | (y_train == 2)]\n",
    "small_train = small_train[['ash', 'flavanoids']]\n",
    "sy_train = y_train[(y_train == 0) | (y_train == 2)]\n",
    "small_test = X_test[(y_test == 0) | (y_test == 2)]\n",
    "small_test = small_test[['ash', 'flavanoids']]\n",
    "sy_test = y_test[(y_test == 0) | (y_test == 2)]"
   ]
  },
  {
   "cell_type": "code",
   "execution_count": 22,
   "metadata": {
    "colab": {
     "base_uri": "https://localhost:8080/",
     "height": 285
    },
    "id": "SX47KNgXySEU",
    "outputId": "164c922b-8b95-4e89-8687-d3208ed3c20a"
   },
   "outputs": [
    {
     "data": {
      "image/png": "[encoded data removed]",
      "text/plain": [
       "<Figure size 432x288 with 1 Axes>"
      ]
     },
     "metadata": {
      "needs_background": "light"
     },
     "output_type": "display_data"
    }
   ],
   "source": [
    "plt.scatter(small_train['ash'], small_train['flavanoids'], c=sy_train)\n",
    "plt.show()"
   ]
  },
  {
   "cell_type": "code",
   "execution_count": 23,
   "metadata": {
    "colab": {
     "base_uri": "https://localhost:8080/",
     "height": 72
    },
    "id": "jzWXDuY7y453",
    "outputId": "a364ac48-a533-407e-c774-26c6342e77c6"
   },
   "outputs": [
    {
     "data": {
      "text/plain": [
       "LinearDiscriminantAnalysis()"
      ]
     },
     "execution_count": 23,
     "metadata": {},
     "output_type": "execute_result"
    }
   ],
   "source": [
    "lda_small = LinearDiscriminantAnalysis()\n",
    "lda_small.fit(small_train, sy_train)"
   ]
  },
  {
   "cell_type": "code",
   "execution_count": 24,
   "metadata": {
    "colab": {
     "base_uri": "https://localhost:8080/",
     "height": 72
    },
    "id": "MSo9yPBxzPYx",
    "outputId": "02ff0c93-cf22-46f4-8c40-e9be2dde039a"
   },
   "outputs": [
    {
     "data": {
      "text/plain": [
       "array([[2.46617021, 3.02468085],\n",
       "       [2.43787879, 0.76545455]])"
      ]
     },
     "execution_count": 24,
     "metadata": {},
     "output_type": "execute_result"
    }
   ],
   "source": [
    "# посмотрим на наши центроиды\n",
    "lda_small.means_"
   ]
  },
  {
   "cell_type": "code",
   "execution_count": 25,
   "metadata": {
    "colab": {
     "base_uri": "https://localhost:8080/",
     "height": 285
    },
    "id": "IrQb_JTwzREc",
    "outputId": "34e9bd73-e15c-494b-9f29-ad9584f1d217"
   },
   "outputs": [
    {
     "data": {
      "text/plain": [
       "<matplotlib.contour.QuadContourSet at 0x1dbdeb91c70>"
      ]
     },
     "execution_count": 25,
     "metadata": {},
     "output_type": "execute_result"
    },
    {
     "data": {
      "image/png": "[encoded data removed]",
      "text/plain": [
       "<Figure size 432x288 with 1 Axes>"
      ]
     },
     "metadata": {
      "needs_background": "light"
     },
     "output_type": "display_data"
    }
   ],
   "source": [
    "# сам scatter plot\n",
    "plt.scatter(small_train['ash'], small_train['flavanoids'], c=sy_train)\n",
    "# центроиды\n",
    "plt.scatter(lda_small.means_[:, 0], lda_small.means_[:, 1], c='r', s=150, marker='*')\n",
    "\n",
    "# делаем условную \"сетку\"\n",
    "nx, ny = 200, 100\n",
    "x_min, x_max = plt.xlim()\n",
    "y_min, y_max = plt.ylim()\n",
    "xx, yy = np.meshgrid(np.linspace(x_min, x_max, nx),\n",
    "                         np.linspace(y_min, y_max, ny))\n",
    "\n",
    "# предсказываем класс каждой точки нашей сетки\n",
    "Z = lda_small.predict_proba(np.c_[xx.ravel(), yy.ravel()])\n",
    "Z = Z[:, 1].reshape(xx.shape)\n",
    "\n",
    "# закрашиваем классы разными цветами\n",
    "plt.pcolormesh(xx, yy, Z, cmap='red_blue_classes',\n",
    "                   norm=colors.Normalize(0., 1.), zorder=-1, shading='auto')\n",
    "\n",
    "# отделяем друг от друга\n",
    "plt.contour(xx, yy, Z, [0.5], linewidths=2., colors='white')"
   ]
  },
  {
   "cell_type": "code",
   "execution_count": 26,
   "metadata": {
    "colab": {
     "base_uri": "https://localhost:8080/",
     "height": 55
    },
    "id": "e4_nponj4X5a",
    "outputId": "8c6ea1c8-0f94-4ecd-9415-1c822846cdac"
   },
   "outputs": [
    {
     "data": {
      "text/plain": [
       "array([[ -1.50395643, -18.2459669 ]])"
      ]
     },
     "execution_count": 26,
     "metadata": {},
     "output_type": "execute_result"
    }
   ],
   "source": [
    "# второй признак в 16 раз важнее первого для кластеризации (это видно по визуализации)\n",
    "lda_small.coef_"
   ]
  },
  {
   "cell_type": "code",
   "execution_count": 27,
   "metadata": {
    "colab": {
     "base_uri": "https://localhost:8080/",
     "height": 55
    },
    "id": "fDmV457H4kz_",
    "outputId": "ae9a089e-ff63-470d-c98f-0c326fa3f748"
   },
   "outputs": [
    {
     "data": {
      "text/plain": [
       "1.0"
      ]
     },
     "execution_count": 27,
     "metadata": {},
     "output_type": "execute_result"
    }
   ],
   "source": [
    "# какая будет точность?\n",
    "accuracy_score(sy_test, lda_small.predict(small_test))"
   ]
  },
  {
   "cell_type": "code",
   "execution_count": 28,
   "metadata": {},
   "outputs": [
    {
     "data": {
      "text/html": [
       "<div>\n",
       "<style scoped>\n",
       "    .dataframe tbody tr th:only-of-type {\n",
       "        vertical-align: middle;\n",
       "    }\n",
       "\n",
       "    .dataframe tbody tr th {\n",
       "        vertical-align: top;\n",
       "    }\n",
       "\n",
       "    .dataframe thead th {\n",
       "        text-align: right;\n",
       "    }\n",
       "</style>\n",
       "<table border=\"1\" class=\"dataframe\">\n",
       "  <thead>\n",
       "    <tr style=\"text-align: right;\">\n",
       "      <th></th>\n",
       "      <th>flavanoids</th>\n",
       "      <th>ash</th>\n",
       "    </tr>\n",
       "  </thead>\n",
       "  <tbody>\n",
       "    <tr>\n",
       "      <th>flavanoids</th>\n",
       "      <td>1.000000</td>\n",
       "      <td>0.115077</td>\n",
       "    </tr>\n",
       "    <tr>\n",
       "      <th>ash</th>\n",
       "      <td>0.115077</td>\n",
       "      <td>1.000000</td>\n",
       "    </tr>\n",
       "  </tbody>\n",
       "</table>\n",
       "</div>"
      ],
      "text/plain": [
       "            flavanoids       ash\n",
       "flavanoids    1.000000  0.115077\n",
       "ash           0.115077  1.000000"
      ]
     },
     "execution_count": 28,
     "metadata": {},
     "output_type": "execute_result"
    }
   ],
   "source": [
    "data[['flavanoids', 'ash']].corr()"
   ]
  },
  {
   "cell_type": "code",
   "execution_count": 29,
   "metadata": {
    "id": "E-gchIEJ4t2d"
   },
   "outputs": [],
   "source": [
    "# заменим модель на логистическую регресиию\n",
    "# кому интересно, отличия логистической регресссии от LDA: \n",
    "# https://www.introspective-mode.org/logistic-regression-or-discriminant-function-analysis/\n",
    "# Основные моменты:\n",
    "# LR может работать с категориальными признаками \n",
    "# зависимая переменная в LR подчиняется логистической функции (изменяется от 0 до 1) и непрерывна\n",
    "from sklearn.linear_model import LogisticRegression"
   ]
  },
  {
   "cell_type": "code",
   "execution_count": 30,
   "metadata": {
    "id": "R4NDgweF41cm"
   },
   "outputs": [],
   "source": [
    "lr = LogisticRegression()"
   ]
  },
  {
   "cell_type": "code",
   "execution_count": 31,
   "metadata": {
    "colab": {
     "base_uri": "https://localhost:8080/",
     "height": 125
    },
    "id": "badyR0Tj43nx",
    "outputId": "53b815eb-53be-458c-bd4a-c4d20a0b3245"
   },
   "outputs": [
    {
     "data": {
      "text/plain": [
       "LogisticRegression()"
      ]
     },
     "execution_count": 31,
     "metadata": {},
     "output_type": "execute_result"
    }
   ],
   "source": [
    "lr.fit(small_train, sy_train)"
   ]
  },
  {
   "cell_type": "code",
   "execution_count": 32,
   "metadata": {
    "colab": {
     "base_uri": "https://localhost:8080/",
     "height": 72
    },
    "id": "NfqW9uR9481f",
    "outputId": "467e1065-de9c-47c6-8b16-82ee17b54410"
   },
   "outputs": [
    {
     "data": {
      "text/plain": [
       "array([2, 0, 0, 0, 2, 0, 2, 2, 2, 0, 2, 2, 0, 0, 2, 2, 2, 0, 0, 0, 2, 2,\n",
       "       2, 0, 0, 2, 2])"
      ]
     },
     "execution_count": 32,
     "metadata": {},
     "output_type": "execute_result"
    }
   ],
   "source": [
    "lr.predict(small_test)"
   ]
  },
  {
   "cell_type": "code",
   "execution_count": 33,
   "metadata": {
    "colab": {
     "base_uri": "https://localhost:8080/",
     "height": 55
    },
    "id": "qqFys9hT4_Eo",
    "outputId": "498814d0-6e8b-4943-fbea-044bd2392bd9"
   },
   "outputs": [
    {
     "data": {
      "text/plain": [
       "1.0"
      ]
     },
     "execution_count": 33,
     "metadata": {},
     "output_type": "execute_result"
    }
   ],
   "source": [
    "accuracy_score(sy_test, lr.predict(small_test))"
   ]
  },
  {
   "cell_type": "code",
   "execution_count": 34,
   "metadata": {
    "colab": {
     "base_uri": "https://localhost:8080/",
     "height": 55
    },
    "id": "1Ei0UlN55CZ_",
    "outputId": "73d548b4-a064-44bf-c925-0077561d60af"
   },
   "outputs": [
    {
     "data": {
      "text/plain": [
       "array([[-0.025255  , -3.06851428]])"
      ]
     },
     "execution_count": 34,
     "metadata": {},
     "output_type": "execute_result"
    }
   ],
   "source": [
    "lr.coef_"
   ]
  },
  {
   "cell_type": "code",
   "execution_count": 35,
   "metadata": {
    "colab": {
     "base_uri": "https://localhost:8080/",
     "height": 285
    },
    "id": "eTw2FBQh5GKr",
    "outputId": "a6cdbf48-2fd6-4a27-fcaa-166352fb7c39"
   },
   "outputs": [
    {
     "data": {
      "image/png": "[encoded data removed]",
      "text/plain": [
       "<Figure size 432x288 with 1 Axes>"
      ]
     },
     "metadata": {
      "needs_background": "light"
     },
     "output_type": "display_data"
    }
   ],
   "source": [
    "plt.scatter(small_train['ash'], small_train['flavanoids'], c=sy_train)\n",
    "\n",
    "nx, ny = 200, 100\n",
    "x_min, x_max = plt.xlim()\n",
    "y_min, y_max = plt.ylim()\n",
    "xx, yy = np.meshgrid(np.linspace(x_min, x_max, nx),\n",
    "                         np.linspace(y_min, y_max, ny))\n",
    "Z = lr.predict_proba(np.c_[xx.ravel(), yy.ravel()])\n",
    "Z = Z[:, 1].reshape(xx.shape)\n",
    "plt.pcolormesh(xx, yy, Z, cmap='red_blue_classes',\n",
    "                   norm=colors.Normalize(0., 1.), zorder=-1, shading='auto')\n",
    "plt.contour(xx, yy, Z, [0.5], linewidths=2., colors='white')\n",
    "\n",
    "plt.show()"
   ]
  },
  {
   "cell_type": "markdown",
   "metadata": {
    "id": "UJefBk-e58kX"
   },
   "source": [
    "## Кластеризация"
   ]
  },
  {
   "cell_type": "code",
   "execution_count": 36,
   "metadata": {
    "id": "ZK-UchxSXREG"
   },
   "outputs": [],
   "source": [
    "# генерируем искусвтенные данные для примера\n",
    "from sklearn.datasets import make_moons, make_blobs"
   ]
  },
  {
   "cell_type": "code",
   "execution_count": 37,
   "metadata": {
    "id": "_NxdrQ7RXSF5"
   },
   "outputs": [],
   "source": [
    "# 200 точек с 2 центрами, СКО - 2.5\n",
    "X, y = make_blobs(n_samples=200, centers=2, cluster_std=2.5)"
   ]
  },
  {
   "cell_type": "code",
   "execution_count": 38,
   "metadata": {},
   "outputs": [
    {
     "data": {
      "text/plain": [
       "array([[ -8.63484255,  11.78806027],\n",
       "       [ -5.70359346,   2.09018056],\n",
       "       [  5.82008079,   4.55132723],\n",
       "       [  8.69418474,   2.71337009],\n",
       "       [ -3.49952062,   0.68474594],\n",
       "       [  6.48238995,  10.95685212],\n",
       "       [  6.20942039,  10.69498455],\n",
       "       [  4.6574522 ,   9.26561981],\n",
       "       [ -4.52611127,   3.40925386],\n",
       "       [ -1.08293216,   3.95567642],\n",
       "       [  5.60819759,   8.39211138],\n",
       "       [  4.38562732,   6.06616656],\n",
       "       [  9.70474329,   9.93041453],\n",
       "       [  0.62247864,   1.81293997],\n",
       "       [  9.97273381,   9.11656388],\n",
       "       [  5.21766371,   8.42064657],\n",
       "       [ -5.4391911 ,   4.03412632],\n",
       "       [  6.16517412,   6.97248822],\n",
       "       [  7.37818702,  12.87176796],\n",
       "       [  7.79372574,   6.10339286],\n",
       "       [ -7.90552905,   8.38160255],\n",
       "       [  9.12738749,   5.52404797],\n",
       "       [ -6.52676905,   5.33488086],\n",
       "       [  5.50966644,   8.70854831],\n",
       "       [  8.40021305,   8.12144009],\n",
       "       [ -2.36080623,   1.69398707],\n",
       "       [  7.08165179,   8.30873481],\n",
       "       [ -6.61361131,   6.36242326],\n",
       "       [ 11.70247799,   8.41516996],\n",
       "       [ -8.71301184,   8.27583508],\n",
       "       [  5.8463266 ,   9.1276877 ],\n",
       "       [  7.43565884,   5.54123455],\n",
       "       [  5.93626981,   6.36585036],\n",
       "       [ 10.2166346 ,   5.54684856],\n",
       "       [  8.79819582,   7.75440011],\n",
       "       [ -6.47115054,   3.9884663 ],\n",
       "       [  7.47234124,  12.94836746],\n",
       "       [ -5.829799  ,   4.03030345],\n",
       "       [ -4.55537419,  11.27050524],\n",
       "       [ -8.90134594,   5.49138834],\n",
       "       [  3.9550997 ,   5.97746108],\n",
       "       [  5.77697268,   0.88049741],\n",
       "       [  3.07069922,   9.53540482],\n",
       "       [ -9.21843345,   5.95565692],\n",
       "       [  6.37209161,  11.44936606],\n",
       "       [  0.47514657,   3.55550824],\n",
       "       [ -2.31096027,   4.30934022],\n",
       "       [-10.54397463,   3.51451741],\n",
       "       [ -4.56650779,   6.15192945],\n",
       "       [  4.37169752,   4.37906674],\n",
       "       [  5.62195122,   7.10556434],\n",
       "       [ -8.02702543,   5.69379291],\n",
       "       [  4.51022298,   6.84842031],\n",
       "       [  9.40875173,   7.91691262],\n",
       "       [ -4.96460896,   4.58144801],\n",
       "       [  7.65171899,   5.08827617],\n",
       "       [  7.54719427,   0.46204875],\n",
       "       [ -7.77776747,   9.19011373],\n",
       "       [  7.68197916,   4.75572004],\n",
       "       [ -6.1588215 ,   8.4607837 ],\n",
       "       [ -1.83539607,   1.59959158],\n",
       "       [ -5.64822047,   5.28958984],\n",
       "       [  7.89121231,  10.96057598],\n",
       "       [  3.64751235,  10.38844468],\n",
       "       [ -4.24164074,   2.98725887],\n",
       "       [ -4.7197169 ,   7.85970598],\n",
       "       [ -7.98760621,   6.70891612],\n",
       "       [  7.38819557,   6.66343   ],\n",
       "       [ -2.53173244,   8.5173667 ],\n",
       "       [ -5.07686416,   1.22224566],\n",
       "       [ 10.10941724,   9.19992682],\n",
       "       [ -0.1983893 ,   6.95206966],\n",
       "       [  6.9690863 ,   7.80983014],\n",
       "       [  6.08584879,   7.68923485],\n",
       "       [ -3.22824054,  -0.25372616],\n",
       "       [ -4.45174389,   5.9014505 ],\n",
       "       [  6.86862611,   3.15301502],\n",
       "       [ -2.72230778,   6.29151882],\n",
       "       [ -4.03942514,   5.45516151],\n",
       "       [  7.13543992,   7.85013986],\n",
       "       [ -6.7882537 ,   5.47260007],\n",
       "       [ -4.49197091,   4.0534295 ],\n",
       "       [ -4.5030847 ,  15.49716613],\n",
       "       [  8.79389226,   9.71626745],\n",
       "       [  2.62730055,   7.28497309],\n",
       "       [ -3.44892764,  10.43421992],\n",
       "       [ -5.86888807,   9.67536246],\n",
       "       [ -4.95600453,   4.84637314],\n",
       "       [  7.00180554,   9.36456962],\n",
       "       [  5.17021999,   7.66269072],\n",
       "       [  9.49391025,   9.88610582],\n",
       "       [  3.5682908 ,   3.74585202],\n",
       "       [  4.77921267,   7.29732328],\n",
       "       [ -6.32551523,   4.42241502],\n",
       "       [  6.65784087,   4.81069771],\n",
       "       [ -1.18776368,   0.74275224],\n",
       "       [  0.97665349,   6.77403509],\n",
       "       [  1.57727229,   6.75612183],\n",
       "       [ -4.50741067,  10.06179172],\n",
       "       [ -6.10161404,   6.69974515],\n",
       "       [ -7.15309433,   4.49229859],\n",
       "       [  3.6464274 ,   9.6511138 ],\n",
       "       [  9.72376347,   7.69847761],\n",
       "       [  9.40478968,   8.95869481],\n",
       "       [ -4.2241907 ,   5.32689716],\n",
       "       [  3.24649763,  13.13264801],\n",
       "       [ -5.7704199 ,   5.2225455 ],\n",
       "       [ -6.63789625,   7.21894923],\n",
       "       [  7.73470162,  13.10886869],\n",
       "       [  8.21493397,   8.81414131],\n",
       "       [  3.69239911,   8.94198811],\n",
       "       [ -2.19653541,   5.29816561],\n",
       "       [  8.38502058,   8.89666202],\n",
       "       [  6.76041873,   4.44978591],\n",
       "       [ -3.03936716,   2.02574538],\n",
       "       [ -0.54835032,   7.73119105],\n",
       "       [ -5.66290641,   5.39000126],\n",
       "       [ -4.23405531,   6.67764473],\n",
       "       [ -2.71379524,   7.22558251],\n",
       "       [ -0.75422141,   4.76490853],\n",
       "       [ -4.84796394,   5.83965208],\n",
       "       [ -6.81601211,   5.70212122],\n",
       "       [  7.95933223,   6.37550568],\n",
       "       [  0.51361358,   4.97050879],\n",
       "       [ -1.16602014,   3.92951215],\n",
       "       [  3.85504332,  12.48649961],\n",
       "       [  4.9131306 ,   9.38531946],\n",
       "       [ -2.32717843,   1.97495268],\n",
       "       [  4.57718435,   9.96834141],\n",
       "       [ -4.77214774,   6.35750957],\n",
       "       [-10.15338124,  13.01240216],\n",
       "       [ -3.99298041,   4.40364791],\n",
       "       [  8.86531539,   5.00640165],\n",
       "       [  1.48613896,   3.16669223],\n",
       "       [  7.59708469,   9.13259227],\n",
       "       [  6.22595541,   6.9426803 ],\n",
       "       [  4.01044289,   8.11962224],\n",
       "       [ -3.19498888,   5.7013352 ],\n",
       "       [  8.86095204,  11.02234622],\n",
       "       [ -4.72940377,   6.27961603],\n",
       "       [  6.8548943 ,   7.30956787],\n",
       "       [ -3.21969623,   4.74271099],\n",
       "       [ -5.43957188,   9.65071295],\n",
       "       [ -8.58011112,   6.29582518],\n",
       "       [  5.70934992,  -0.09237432],\n",
       "       [  6.80269103,   6.61181712],\n",
       "       [  7.38356841,   7.95032167],\n",
       "       [ -4.24140325,   5.99977718],\n",
       "       [ 10.55187365,  10.51985587],\n",
       "       [ -4.15891556,   0.93584714],\n",
       "       [ -4.68732525,   5.25454396],\n",
       "       [  9.49088283,   3.75298516],\n",
       "       [  4.79945698,   8.65622147],\n",
       "       [  6.31285239,   6.53854276],\n",
       "       [ -3.12661094,   6.07273141],\n",
       "       [ -4.23802265,   8.8559685 ],\n",
       "       [ -7.49100419,   8.30144645],\n",
       "       [ -8.83923743,   8.41744387],\n",
       "       [ -5.98894406,   6.62341887],\n",
       "       [ 11.35752866,   7.37456418],\n",
       "       [  5.88079442,  13.69938442],\n",
       "       [ -0.85006933,   0.53130239],\n",
       "       [ 10.79840102,   8.12484199],\n",
       "       [ -2.16085691,   0.8738121 ],\n",
       "       [  3.46599137,  10.13930551],\n",
       "       [ -6.44650472,   6.04878021],\n",
       "       [ -5.4566374 ,   6.29247804],\n",
       "       [ -6.49160122,   5.60060052],\n",
       "       [ -5.66353758,   9.2020581 ],\n",
       "       [  7.10592308,   6.37670375],\n",
       "       [ -7.32517712,   4.95489025],\n",
       "       [  7.37167716,   7.25900074],\n",
       "       [ -4.88553069,   2.71237722],\n",
       "       [  5.31448078,   7.13057238],\n",
       "       [ -1.90825035,   6.30864348],\n",
       "       [ -3.76778652,   5.84625579],\n",
       "       [  8.75194725,   5.89036774],\n",
       "       [ -2.37011131,   5.60493059],\n",
       "       [  5.77487289,  12.63597049],\n",
       "       [ -0.82424299,   6.42779106],\n",
       "       [ -4.81182052,   5.91196022],\n",
       "       [  5.10589648,   6.38382801],\n",
       "       [  8.85008916,   9.45920053],\n",
       "       [ -3.56105582,   4.62050386],\n",
       "       [  5.34213544,   7.75452635],\n",
       "       [  2.53623161,  10.82816718],\n",
       "       [ -1.500987  ,   5.08398861],\n",
       "       [  7.88808193,  10.45811772],\n",
       "       [ 10.04344407,   6.61490007],\n",
       "       [  8.10525811,   6.89928481],\n",
       "       [ -3.45394259,   7.69336813],\n",
       "       [ -5.20287815,   4.72673011],\n",
       "       [ -3.87009719,   4.56745072],\n",
       "       [ -5.61944633,   5.8274538 ],\n",
       "       [  4.56399419,  10.84929987],\n",
       "       [  2.41782012,   7.80969119],\n",
       "       [ -9.17281833,   7.78370323],\n",
       "       [  5.86769978,   9.08214137],\n",
       "       [  3.29557815,   1.39723004],\n",
       "       [  4.92424808,   7.02914825]])"
      ]
     },
     "execution_count": 38,
     "metadata": {},
     "output_type": "execute_result"
    }
   ],
   "source": [
    "X"
   ]
  },
  {
   "cell_type": "code",
   "execution_count": 39,
   "metadata": {
    "colab": {
     "base_uri": "https://localhost:8080/",
     "height": 303
    },
    "id": "TjSYaC57XUeq",
    "outputId": "d6088ba2-3ad7-4dff-fd25-aaf5b76e44a8",
    "scrolled": true
   },
   "outputs": [
    {
     "data": {
      "text/plain": [
       "<matplotlib.collections.PathCollection at 0x1dbdec91910>"
      ]
     },
     "execution_count": 39,
     "metadata": {},
     "output_type": "execute_result"
    },
    {
     "data": {
      "image/png": "[encoded data removed]",
      "text/plain": [
       "<Figure size 432x288 with 1 Axes>"
      ]
     },
     "metadata": {
      "needs_background": "light"
     },
     "output_type": "display_data"
    }
   ],
   "source": [
    "plt.scatter(X[:, 0], X[:, 1], cmap='autumn', s=60)"
   ]
  },
  {
   "cell_type": "code",
   "execution_count": 40,
   "metadata": {
    "id": "bWdNYOIqzzO-"
   },
   "outputs": [],
   "source": [
    "# приведем данные к единому масштабу\n",
    "from sklearn.preprocessing import StandardScaler"
   ]
  },
  {
   "cell_type": "code",
   "execution_count": 41,
   "metadata": {
    "id": "NzLJH0GBXGwQ"
   },
   "outputs": [],
   "source": [
    "scaler = StandardScaler()"
   ]
  },
  {
   "cell_type": "markdown",
   "metadata": {},
   "source": [
    "В реальных задачах при разделении выборки на train и test нужно обучать StandardScaler только на тренировочных данных (и применять уже к тестовым данным).\n"
   ]
  },
  {
   "cell_type": "code",
   "execution_count": 43,
   "metadata": {
    "id": "6UC4SNUdXIru"
   },
   "outputs": [
    {
     "data": {
      "text/plain": [
       "array([[-1.57752821e+00,  1.73211534e+00],\n",
       "       [-1.09666265e+00, -1.58659619e+00],\n",
       "       [ 7.93773093e-01, -7.44367158e-01],\n",
       "       [ 1.26526410e+00, -1.37333450e+00],\n",
       "       [-7.35088905e-01, -2.06754999e+00],\n",
       "       [ 9.02423587e-01,  1.44766759e+00],\n",
       "       [ 8.57643476e-01,  1.35805388e+00],\n",
       "       [ 6.03046194e-01,  8.68910961e-01],\n",
       "       [-9.03499051e-01, -1.13519610e+00],\n",
       "       [-3.38652394e-01, -9.48204829e-01],\n",
       "       [ 7.59014076e-01,  5.69987630e-01],\n",
       "       [ 5.58453865e-01, -2.25973976e-01],\n",
       "       [ 1.43104422e+00,  1.09641037e+00],\n",
       "       [-5.88831595e-02, -1.68147070e+00],\n",
       "       [ 1.47500753e+00,  8.17902529e-01],\n",
       "       [ 6.94947773e-01,  5.79752656e-01],\n",
       "       [-1.05328797e+00, -9.21358490e-01],\n",
       "       [ 8.50384963e-01,  8.41783724e-02],\n",
       "       [ 1.04937731e+00,  2.10297096e+00],\n",
       "       [ 1.11754560e+00, -2.13234762e-01],\n",
       "       [-1.45788579e+00,  5.66391404e-01],\n",
       "       [ 1.33633015e+00, -4.11492383e-01],\n",
       "       [-1.23170296e+00, -4.76227261e-01],\n",
       "       [ 7.42850239e-01,  6.78275516e-01],\n",
       "       [ 1.21703864e+00,  4.77361204e-01],\n",
       "       [-5.48285083e-01, -1.72217757e+00],\n",
       "       [ 1.00073130e+00,  5.41455335e-01],\n",
       "       [-1.24594926e+00, -1.24591965e-01],\n",
       "       [ 1.75876860e+00,  5.77878507e-01],\n",
       "       [-1.59035173e+00,  5.30196716e-01],\n",
       "       [ 7.98078664e-01,  8.21709213e-01],\n",
       "       [ 1.05880544e+00, -4.05610962e-01],\n",
       "       [ 8.12833669e-01, -1.23419176e-01],\n",
       "       [ 1.51501896e+00, -4.03689794e-01],\n",
       "       [ 1.28232692e+00,  3.51756450e-01],\n",
       "       [-1.22257886e+00, -9.36983806e-01],\n",
       "       [ 1.06482312e+00,  2.12918408e+00],\n",
       "       [-1.11736642e+00, -9.22666714e-01],\n",
       "       [-9.08299574e-01,  1.55500283e+00],\n",
       "       [-1.62124756e+00, -4.22668837e-01],\n",
       "       [ 4.87826669e-01, -2.56329876e-01],\n",
       "       [ 7.86701293e-01, -2.00056187e+00],\n",
       "       [ 3.42742536e-01,  9.61234093e-01],\n",
       "       [-1.67326513e+00, -2.63791481e-01],\n",
       "       [ 8.84329365e-01,  1.61621079e+00],\n",
       "       [-8.30526915e-02, -1.08514639e+00],\n",
       "       [-5.40107953e-01, -8.27177538e-01],\n",
       "       [-1.89071751e+00, -1.09917386e+00],\n",
       "       [-9.10126019e-01, -1.96625055e-01],\n",
       "       [ 5.56168709e-01, -8.03316422e-01],\n",
       "       [ 7.61270331e-01,  1.29718354e-01],\n",
       "       [-1.47781702e+00, -3.53403966e-01],\n",
       "       [ 5.78893535e-01,  4.17210912e-02],\n",
       "       [ 1.38248739e+00,  4.07369858e-01],\n",
       "       [-9.75433721e-01, -7.34059528e-01],\n",
       "       [ 1.09424968e+00, -5.60617856e-01],\n",
       "       [ 1.07710261e+00, -2.14375920e+00],\n",
       "       [-1.43692675e+00,  8.43072025e-01],\n",
       "       [ 1.09921380e+00, -6.74421895e-01],\n",
       "       [-1.17134190e+00,  5.93487987e-01],\n",
       "       [-4.62092596e-01, -1.75448065e+00],\n",
       "       [-1.08757882e+00, -4.91726302e-01],\n",
       "       [ 1.13353808e+00,  1.44894193e+00],\n",
       "       [ 4.37367579e-01,  1.25315287e+00],\n",
       "       [-8.56832227e-01, -1.27960701e+00],\n",
       "       [-9.35259668e-01,  3.87793171e-01],\n",
       "       [-1.47135038e+00, -6.01864035e-03],\n",
       "       [ 1.05101919e+00, -2.15844440e-02],\n",
       "       [-5.76325187e-01,  6.12851256e-01],\n",
       "       [-9.93848962e-01, -1.88361220e+00],\n",
       "       [ 1.49743017e+00,  8.46430161e-01],\n",
       "       [-1.93544904e-01,  7.71909374e-02],\n",
       "       [ 9.82265151e-01,  3.70725161e-01],\n",
       "       [ 8.37371801e-01,  3.29456246e-01],\n",
       "       [-6.90585949e-01, -2.38870454e+00],\n",
       "       [-8.91299230e-01, -2.82341460e-01],\n",
       "       [ 9.65784858e-01, -1.22288360e+00],\n",
       "       [-6.07588690e-01, -1.48856174e-01],\n",
       "       [-8.23659162e-01, -4.35066020e-01],\n",
       "       [ 1.00955513e+00,  3.84519550e-01],\n",
       "       [-1.27459900e+00, -4.29098369e-01],\n",
       "       [-8.97898392e-01, -9.14752748e-01],\n",
       "       [-8.99721588e-01,  3.00140850e+00],\n",
       "       [ 1.28162092e+00,  1.02312709e+00],\n",
       "       [ 2.70003870e-01,  1.91113825e-01],\n",
       "       [-7.26789227e-01,  1.26881762e+00],\n",
       "       [-1.12377890e+00,  1.00912900e+00],\n",
       "       [-9.74022181e-01, -6.43399495e-01],\n",
       "       [ 9.87632677e-01,  9.02772576e-01],\n",
       "       [ 6.87164726e-01,  3.20372578e-01],\n",
       "       [ 1.39645748e+00,  1.08124749e+00],\n",
       "       [ 4.24371443e-01, -1.02000884e+00],\n",
       "       [ 6.23020756e-01,  1.95340182e-01],\n",
       "       [-1.19868768e+00, -7.88482209e-01],\n",
       "       [ 9.31205959e-01, -6.55607983e-01],\n",
       "       [-3.55849797e-01, -2.04769965e+00],\n",
       "       [-7.81482903e-04,  1.62657246e-02],\n",
       "       [ 9.77488324e-02,  1.01356287e-02],\n",
       "       [-9.00431255e-01,  1.14136896e+00],\n",
       "       [-1.16195713e+00, -9.15703676e-03],\n",
       "       [-1.33445037e+00, -7.64567350e-01],\n",
       "       [ 4.37189595e-01,  1.00083086e+00],\n",
       "       [ 1.43416444e+00,  3.32619211e-01],\n",
       "       [ 1.38183742e+00,  7.63878154e-01],\n",
       "       [-8.53969583e-01, -4.78959365e-01],\n",
       "       [ 3.71581915e-01,  2.19224673e+00],\n",
       "       [-1.10762540e+00, -5.14669548e-01],\n",
       "       [-1.24993316e+00,  1.68519798e-01],\n",
       "       [ 1.10786281e+00,  2.18410920e+00],\n",
       "       [ 1.18664397e+00,  7.14410498e-01],\n",
       "       [ 4.44731162e-01,  7.58160951e-01],\n",
       "       [-5.21336783e-01, -4.88791589e-01],\n",
       "       [ 1.21454634e+00,  7.42649910e-01],\n",
       "       [ 9.48033653e-01, -7.79115617e-01],\n",
       "       [-6.59601649e-01, -1.60864655e+00],\n",
       "       [-2.50955312e-01,  3.43814077e-01],\n",
       "       [-1.08998802e+00, -4.57364511e-01],\n",
       "       [-8.55587854e-01, -1.67200227e-02],\n",
       "       [-6.06192225e-01,  1.70789772e-01],\n",
       "       [-2.84728052e-01, -6.71277499e-01],\n",
       "       [-9.56298338e-01, -3.03489499e-01],\n",
       "       [-1.27915271e+00, -3.50553935e-01],\n",
       "       [ 1.14471302e+00, -1.20115029e-01],\n",
       "       [-7.67422554e-02, -6.00919033e-01],\n",
       "       [-3.52282812e-01, -9.57158506e-01],\n",
       "       [ 4.71412619e-01,  1.97112828e+00],\n",
       "       [ 6.44989725e-01,  9.09873380e-01],\n",
       "       [-5.42768509e-01, -1.62602833e+00],\n",
       "       [ 5.89878413e-01,  1.10938933e+00],\n",
       "       [-9.43860842e-01, -1.26273479e-01],\n",
       "       [-1.82664145e+00,  2.15109739e+00],\n",
       "       [-8.16039997e-01, -7.94904502e-01],\n",
       "       [ 1.29333775e+00, -5.88636137e-01],\n",
       "       [ 8.27985912e-02, -1.21820312e+00],\n",
       "       [ 1.08528703e+00,  8.23387603e-01],\n",
       "       [ 8.60356012e-01,  7.39778031e-02],\n",
       "       [ 4.96905608e-01,  4.76739118e-01],\n",
       "       [-6.85131080e-01, -3.50822917e-01],\n",
       "       [ 1.29262195e+00,  1.47008033e+00],\n",
       "       [-9.36848778e-01, -1.52929427e-01],\n",
       "       [ 9.63532181e-01,  1.99530403e-01],\n",
       "       [-6.89184272e-01, -6.78873721e-01],\n",
       "       [-1.05335044e+00,  1.00069369e+00],\n",
       "       [-1.56854963e+00, -1.47382494e-01],\n",
       "       [ 7.75607914e-01, -2.33348832e+00],\n",
       "       [ 9.54968339e-01, -3.92468902e-02],\n",
       "       [ 1.05026011e+00,  4.18802768e-01],\n",
       "       [-8.56793268e-01, -2.48693085e-01],\n",
       "       [ 1.57001426e+00,  1.29812310e+00],\n",
       "       [-8.43261328e-01, -1.98162064e+00],\n",
       "       [-9.29945882e-01, -5.03719354e-01],\n",
       "       [ 1.39596084e+00, -1.01756781e+00],\n",
       "       [ 6.26341794e-01,  6.60368749e-01],\n",
       "       [ 8.74611289e-01, -6.43221087e-02],\n",
       "       [-6.73913817e-01, -2.23727417e-01],\n",
       "       [-8.56238688e-01,  7.28724180e-01],\n",
       "       [-1.38988381e+00,  5.38961182e-01],\n",
       "       [-1.61105878e+00,  5.78656660e-01],\n",
       "       [-1.14347385e+00, -3.52766561e-02],\n",
       "       [ 1.70218035e+00,  2.21772790e-01],\n",
       "       [ 8.03733041e-01,  2.38618960e+00],\n",
       "       [-3.00451713e-01, -2.12005991e+00],\n",
       "       [ 1.61045658e+00,  4.78525371e-01],\n",
       "       [-5.15483796e-01, -2.00284966e+00],\n",
       "       [ 4.07589425e-01,  1.16789496e+00],\n",
       "       [-1.21853576e+00, -2.31923756e-01],\n",
       "       [-1.05615000e+00, -1.48527921e-01],\n",
       "       [-1.22593375e+00, -3.85295333e-01],\n",
       "       [-1.09009156e+00,  8.47159508e-01],\n",
       "       [ 1.00471295e+00, -1.19705039e-01],\n",
       "       [-1.36268021e+00, -6.06263852e-01],\n",
       "       [ 1.04830938e+00,  1.82225825e-01],\n",
       "       [-9.62461088e-01, -1.37367426e+00],\n",
       "       [ 7.10830420e-01,  1.38276355e-01],\n",
       "       [-4.74044194e-01, -1.42995946e-01],\n",
       "       [-7.79097389e-01, -3.01229642e-01],\n",
       "       [ 1.27473993e+00, -2.86134089e-01],\n",
       "       [-5.49811563e-01, -3.83813542e-01],\n",
       "       [ 7.86356827e-01,  2.02227871e+00],\n",
       "       [-2.96214953e-01, -1.02222448e-01],\n",
       "       [-9.50369083e-01, -2.78744927e-01],\n",
       "       [ 6.76612582e-01, -1.17267044e-01],\n",
       "       [ 1.29083991e+00,  9.35156220e-01],\n",
       "       [-7.45183631e-01, -7.20694223e-01],\n",
       "       [ 7.15367112e-01,  3.51799651e-01],\n",
       "       [ 2.55064193e-01,  1.40363031e+00],\n",
       "       [-4.07233455e-01, -5.62085103e-01],\n",
       "       [ 1.13302455e+00,  1.27699568e+00],\n",
       "       [ 1.48660740e+00, -3.81918746e-02],\n",
       "       [ 1.16865187e+00,  5.91274325e-02],\n",
       "       [-7.27611920e-01,  3.30870694e-01],\n",
       "       [-1.01452130e+00, -6.84342537e-01],\n",
       "       [-7.95881250e-01, -7.38849541e-01],\n",
       "       [-1.08285848e+00, -3.07663870e-01],\n",
       "       [ 5.87714594e-01,  1.41086213e+00],\n",
       "       [ 2.35639024e-01,  3.70677610e-01],\n",
       "       [-1.66578206e+00,  3.61784271e-01],\n",
       "       [ 8.01584892e-01,  8.06122803e-01],\n",
       "       [ 3.79633477e-01, -1.82373080e+00],\n",
       "       [ 6.46813526e-01,  1.03568000e-01]])"
      ]
     },
     "execution_count": 43,
     "metadata": {},
     "output_type": "execute_result"
    }
   ],
   "source": [
    "# fit-transform сразу обучается и преобразует данные\n",
    "X_scaled = scaler.fit_transform(X)\n",
    "X_scaled"
   ]
  },
  {
   "cell_type": "code",
   "execution_count": 44,
   "metadata": {
    "colab": {
     "base_uri": "https://localhost:8080/",
     "height": 304
    },
    "id": "TRnNnC3kXbcr",
    "outputId": "841e1554-c362-4528-c92a-e6c32dd57034"
   },
   "outputs": [
    {
     "data": {
      "text/plain": [
       "<matplotlib.collections.PathCollection at 0x1dbdecf8c40>"
      ]
     },
     "execution_count": 44,
     "metadata": {},
     "output_type": "execute_result"
    },
    {
     "data": {
      "image/png": "[encoded data removed]",
      "text/plain": [
       "<Figure size 432x288 with 1 Axes>"
      ]
     },
     "metadata": {
      "needs_background": "light"
     },
     "output_type": "display_data"
    }
   ],
   "source": [
    "plt.scatter(X_scaled[:, 0], X_scaled[:, 1],cmap='autumn', s=60)"
   ]
  },
  {
   "cell_type": "code",
   "execution_count": 45,
   "metadata": {
    "id": "XftqUwUlYLIj"
   },
   "outputs": [],
   "source": [
    "from sklearn.cluster import KMeans"
   ]
  },
  {
   "cell_type": "code",
   "execution_count": 57,
   "metadata": {
    "colab": {
     "base_uri": "https://localhost:8080/",
     "height": 213
    },
    "id": "7PkhGAB-YN1C",
    "outputId": "443f3bc6-6768-44ec-a167-a4f535a10366"
   },
   "outputs": [
    {
     "data": {
      "text/plain": [
       "array([1, 1, 0, 0, 1, 0, 0, 0, 1, 1, 0, 0, 0, 1, 0, 0, 1, 0, 0, 0, 1, 0,\n",
       "       1, 0, 0, 1, 0, 1, 0, 1, 0, 0, 0, 0, 0, 1, 0, 1, 1, 1, 0, 1, 0, 1,\n",
       "       0, 1, 1, 1, 1, 0, 0, 1, 0, 0, 1, 0, 1, 1, 0, 1, 1, 1, 0, 0, 1, 1,\n",
       "       1, 0, 1, 1, 0, 1, 0, 0, 1, 1, 0, 1, 1, 0, 1, 1, 0, 0, 0, 1, 1, 1,\n",
       "       0, 0, 0, 1, 0, 1, 0, 1, 1, 0, 1, 1, 1, 0, 0, 0, 1, 0, 1, 1, 0, 0,\n",
       "       0, 1, 0, 0, 1, 1, 1, 1, 1, 1, 1, 1, 0, 1, 1, 0, 0, 1, 0, 1, 1, 1,\n",
       "       0, 1, 0, 0, 0, 1, 0, 1, 0, 1, 1, 1, 1, 0, 0, 1, 0, 1, 1, 0, 0, 0,\n",
       "       1, 1, 1, 1, 1, 0, 0, 1, 0, 1, 0, 1, 1, 1, 1, 0, 1, 0, 1, 0, 1, 1,\n",
       "       0, 1, 0, 1, 1, 0, 0, 1, 0, 0, 1, 0, 0, 0, 1, 1, 1, 1, 0, 0, 1, 0,\n",
       "       1, 0])"
      ]
     },
     "execution_count": 57,
     "metadata": {},
     "output_type": "execute_result"
    }
   ],
   "source": [
    "# явно указываем количество кластеров\n",
    "kmeans = KMeans(n_clusters=2)\n",
    "# fit_predict обучается на данных и каждому объекту присваивает кластер\n",
    "clusters = kmeans.fit_predict(X_scaled)\n",
    "clusters"
   ]
  },
  {
   "cell_type": "code",
   "execution_count": 58,
   "metadata": {
    "colab": {
     "base_uri": "https://localhost:8080/",
     "height": 304
    },
    "id": "EIhtpQU4YXiR",
    "outputId": "8b3fdd98-c53f-4afe-d853-504bbcbf4315"
   },
   "outputs": [
    {
     "data": {
      "text/plain": [
       "<matplotlib.collections.PathCollection at 0x1dbdf116430>"
      ]
     },
     "execution_count": 58,
     "metadata": {},
     "output_type": "execute_result"
    },
    {
     "data": {
      "image/png": "[encoded data removed]",
      "text/plain": [
       "<Figure size 432x288 with 1 Axes>"
      ]
     },
     "metadata": {
      "needs_background": "light"
     },
     "output_type": "display_data"
    }
   ],
   "source": [
    "plt.scatter(X_scaled[:, 0], X_scaled[:, 1], cmap='autumn', c=clusters, s=60)"
   ]
  },
  {
   "cell_type": "code",
   "execution_count": 59,
   "metadata": {
    "id": "JakzZ_1WYbgI"
   },
   "outputs": [
    {
     "name": "stderr",
     "output_type": "stream",
     "text": [
      "C:\\Users\\PC\\AppData\\Roaming\\Python\\Python38\\site-packages\\sklearn\\cluster\\_kmeans.py:881: UserWarning: KMeans is known to have a memory leak on Windows with MKL, when there are less chunks than available threads. You can avoid it by setting the environment variable OMP_NUM_THREADS=1.\n",
      "  warnings.warn(\n"
     ]
    }
   ],
   "source": [
    "# строим график локтя\n",
    "\n",
    "# создаем список для инерции\n",
    "k_inertia = []\n",
    "# задаем диапазон кластеров\n",
    "ks = range(1, 20)\n",
    "\n",
    "for k in ks:\n",
    "    clf_kmeans = KMeans(n_clusters=k)\n",
    "    clusters_kmeans = clf_kmeans.fit_predict(X_scaled)\n",
    "    # добавляем инерцию каждой модели в список\n",
    "    k_inertia.append(clf_kmeans.inertia_)"
   ]
  },
  {
   "cell_type": "code",
   "execution_count": 60,
   "metadata": {
    "colab": {
     "base_uri": "https://localhost:8080/",
     "height": 303
    },
    "id": "BL2K84DOYzQp",
    "outputId": "02019f5b-36bd-4dc6-df76-d5a4fcebfcea"
   },
   "outputs": [
    {
     "data": {
      "text/plain": [
       "[<matplotlib.lines.Line2D at 0x1dbe0144760>]"
      ]
     },
     "execution_count": 60,
     "metadata": {},
     "output_type": "execute_result"
    },
    {
     "data": {
      "image/png": "[encoded data removed]",
      "text/plain": [
       "<Figure size 432x288 with 1 Axes>"
      ]
     },
     "metadata": {
      "needs_background": "light"
     },
     "output_type": "display_data"
    }
   ],
   "source": [
    "plt.plot(ks, k_inertia)\n",
    "plt.plot(ks, k_inertia ,'ro')"
   ]
  },
  {
   "cell_type": "markdown",
   "metadata": {},
   "source": [
    "Иерархическая кластеризация"
   ]
  },
  {
   "cell_type": "code",
   "execution_count": 61,
   "metadata": {
    "id": "wGWt37snY1ak"
   },
   "outputs": [],
   "source": [
    "from scipy.spatial.distance import pdist\n",
    "from scipy.cluster import hierarchy"
   ]
  },
  {
   "cell_type": "code",
   "execution_count": 63,
   "metadata": {
    "colab": {
     "base_uri": "https://localhost:8080/",
     "height": 419
    },
    "id": "UL2QOOH_Y8vL",
    "outputId": "128d6635-2497-4aca-b0a3-eef8faf29cd5"
   },
   "outputs": [
    {
     "data": {
      "image/png": "[encoded data removed]",
      "text/plain": [
       "<Figure size 1440x648 with 1 Axes>"
      ]
     },
     "metadata": {
      "needs_background": "light"
     },
     "output_type": "display_data"
    }
   ],
   "source": [
    "# строим дендрограмму\n",
    "distance_mat = pdist(X_scaled) # pdist посчитает нам матрицу попарных расстояний между точками\n",
    "# Z = hierarchy.linkage(distance_mat) # linkage — реализация агломеративного алгоритма\n",
    "Z = hierarchy.linkage(distance_mat, 'ward')\n",
    "plt.figure(figsize=(20, 9))\n",
    "dn = hierarchy.dendrogram(Z)"
   ]
  },
  {
   "cell_type": "code",
   "execution_count": 64,
   "metadata": {
    "id": "K_0ejaBzZBIv"
   },
   "outputs": [],
   "source": [
    "# делаем уже кластеризацию по факту\n",
    "from sklearn.cluster import AgglomerativeClustering"
   ]
  },
  {
   "cell_type": "code",
   "execution_count": 69,
   "metadata": {
    "colab": {
     "base_uri": "https://localhost:8080/",
     "height": 213
    },
    "id": "wjEgXrmpZVrY",
    "outputId": "74b5fccd-49ed-43e1-d1e6-aa50449bc4b7"
   },
   "outputs": [
    {
     "data": {
      "text/plain": [
       "array([0, 2, 3, 3, 2, 1, 1, 1, 2, 2, 1, 3, 1, 2, 1, 1, 2, 3, 1, 3, 0, 3,\n",
       "       0, 1, 1, 2, 1, 0, 1, 0, 1, 3, 3, 3, 1, 2, 1, 2, 0, 0, 3, 2, 1, 0,\n",
       "       1, 2, 2, 2, 0, 2, 3, 0, 3, 1, 0, 3, 2, 0, 3, 0, 2, 0, 1, 1, 2, 0,\n",
       "       0, 3, 0, 2, 1, 3, 1, 3, 2, 0, 3, 0, 0, 1, 0, 2, 0, 1, 3, 0, 0, 0,\n",
       "       1, 3, 1, 2, 3, 0, 3, 2, 3, 3, 0, 0, 0, 1, 1, 1, 0, 1, 0, 0, 1, 1,\n",
       "       1, 0, 1, 3, 2, 3, 0, 0, 0, 2, 0, 0, 3, 2, 2, 1, 1, 2, 1, 0, 0, 0,\n",
       "       3, 2, 1, 3, 1, 0, 1, 0, 3, 0, 0, 0, 2, 3, 1, 0, 1, 2, 0, 3, 1, 3,\n",
       "       0, 0, 0, 0, 0, 1, 1, 2, 1, 2, 1, 0, 0, 0, 0, 3, 0, 3, 2, 3, 0, 0,\n",
       "       3, 0, 1, 0, 0, 3, 1, 0, 3, 1, 2, 1, 1, 3, 0, 0, 0, 0, 1, 3, 0, 1,\n",
       "       2, 3], dtype=int64)"
      ]
     },
     "execution_count": 69,
     "metadata": {},
     "output_type": "execute_result"
    }
   ],
   "source": [
    "aglo = AgglomerativeClustering(n_clusters=4)\n",
    "clusters = aglo.fit_predict(X_scaled)\n",
    "clusters"
   ]
  },
  {
   "cell_type": "code",
   "execution_count": 70,
   "metadata": {
    "colab": {
     "base_uri": "https://localhost:8080/",
     "height": 304
    },
    "id": "Us0SDSD1ZtX7",
    "outputId": "1a822df2-0e99-4b3c-84c2-4e95bbf0f775"
   },
   "outputs": [
    {
     "data": {
      "text/plain": [
       "<matplotlib.collections.PathCollection at 0x1dbe05bd1f0>"
      ]
     },
     "execution_count": 70,
     "metadata": {},
     "output_type": "execute_result"
    },
    {
     "data": {
      "image/png": "[encoded data removed]",
      "text/plain": [
       "<Figure size 432x288 with 1 Axes>"
      ]
     },
     "metadata": {
      "needs_background": "light"
     },
     "output_type": "display_data"
    }
   ],
   "source": [
    "plt.scatter(X_scaled[:, 0], X_scaled[:, 1],cmap='autumn', c=clusters, s=60)"
   ]
  },
  {
   "cell_type": "code",
   "execution_count": 71,
   "metadata": {
    "id": "tPUIlJOaZv5J"
   },
   "outputs": [
    {
     "data": {
      "text/html": [
       "<div>\n",
       "<style scoped>\n",
       "    .dataframe tbody tr th:only-of-type {\n",
       "        vertical-align: middle;\n",
       "    }\n",
       "\n",
       "    .dataframe tbody tr th {\n",
       "        vertical-align: top;\n",
       "    }\n",
       "\n",
       "    .dataframe thead th {\n",
       "        text-align: right;\n",
       "    }\n",
       "</style>\n",
       "<table border=\"1\" class=\"dataframe\">\n",
       "  <thead>\n",
       "    <tr style=\"text-align: right;\">\n",
       "      <th></th>\n",
       "      <th>0</th>\n",
       "      <th>1</th>\n",
       "      <th>y_hat</th>\n",
       "    </tr>\n",
       "  </thead>\n",
       "  <tbody>\n",
       "    <tr>\n",
       "      <th>0</th>\n",
       "      <td>-8.634843</td>\n",
       "      <td>11.788060</td>\n",
       "      <td>0</td>\n",
       "    </tr>\n",
       "    <tr>\n",
       "      <th>1</th>\n",
       "      <td>-5.703593</td>\n",
       "      <td>2.090181</td>\n",
       "      <td>2</td>\n",
       "    </tr>\n",
       "    <tr>\n",
       "      <th>2</th>\n",
       "      <td>5.820081</td>\n",
       "      <td>4.551327</td>\n",
       "      <td>3</td>\n",
       "    </tr>\n",
       "    <tr>\n",
       "      <th>3</th>\n",
       "      <td>8.694185</td>\n",
       "      <td>2.713370</td>\n",
       "      <td>3</td>\n",
       "    </tr>\n",
       "    <tr>\n",
       "      <th>4</th>\n",
       "      <td>-3.499521</td>\n",
       "      <td>0.684746</td>\n",
       "      <td>2</td>\n",
       "    </tr>\n",
       "    <tr>\n",
       "      <th>...</th>\n",
       "      <td>...</td>\n",
       "      <td>...</td>\n",
       "      <td>...</td>\n",
       "    </tr>\n",
       "    <tr>\n",
       "      <th>195</th>\n",
       "      <td>2.417820</td>\n",
       "      <td>7.809691</td>\n",
       "      <td>3</td>\n",
       "    </tr>\n",
       "    <tr>\n",
       "      <th>196</th>\n",
       "      <td>-9.172818</td>\n",
       "      <td>7.783703</td>\n",
       "      <td>0</td>\n",
       "    </tr>\n",
       "    <tr>\n",
       "      <th>197</th>\n",
       "      <td>5.867700</td>\n",
       "      <td>9.082141</td>\n",
       "      <td>1</td>\n",
       "    </tr>\n",
       "    <tr>\n",
       "      <th>198</th>\n",
       "      <td>3.295578</td>\n",
       "      <td>1.397230</td>\n",
       "      <td>2</td>\n",
       "    </tr>\n",
       "    <tr>\n",
       "      <th>199</th>\n",
       "      <td>4.924248</td>\n",
       "      <td>7.029148</td>\n",
       "      <td>3</td>\n",
       "    </tr>\n",
       "  </tbody>\n",
       "</table>\n",
       "<p>200 rows × 3 columns</p>\n",
       "</div>"
      ],
      "text/plain": [
       "            0          1  y_hat\n",
       "0   -8.634843  11.788060      0\n",
       "1   -5.703593   2.090181      2\n",
       "2    5.820081   4.551327      3\n",
       "3    8.694185   2.713370      3\n",
       "4   -3.499521   0.684746      2\n",
       "..        ...        ...    ...\n",
       "195  2.417820   7.809691      3\n",
       "196 -9.172818   7.783703      0\n",
       "197  5.867700   9.082141      1\n",
       "198  3.295578   1.397230      2\n",
       "199  4.924248   7.029148      3\n",
       "\n",
       "[200 rows x 3 columns]"
      ]
     },
     "execution_count": 71,
     "metadata": {},
     "output_type": "execute_result"
    }
   ],
   "source": [
    "df = pd.DataFrame(X)\n",
    "df['y_hat'] = clusters\n",
    "df"
   ]
  },
  {
   "cell_type": "code",
   "execution_count": null,
   "metadata": {},
   "outputs": [],
   "source": []
  }
 ],
 "metadata": {
  "colab": {
   "collapsed_sections": [],
   "name": "Лекция 5.ipynb",
   "provenance": []
  },
  "kernelspec": {
   "display_name": "Python 3",
   "language": "python",
   "name": "python3"
  },
  "language_info": {
   "codemirror_mode": {
    "name": "ipython",
    "version": 3
   },
   "file_extension": ".py",
   "mimetype": "text/x-python",
   "name": "python",
   "nbconvert_exporter": "python",
   "pygments_lexer": "ipython3",
   "version": "3.8.5"
  }
 },
 "nbformat": 4,
 "nbformat_minor": 1
}
